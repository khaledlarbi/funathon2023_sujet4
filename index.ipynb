{
 "cells": [
  {
   "cell_type": "markdown",
   "id": "deb55801-4eb3-43cb-9350-702ed731c252",
   "metadata": {},
   "source": [
    "# Mon Yuka 🥕 avec Python 🐍\n",
    "\n",
    "Ce notebook vise à présenter pas à pas comment créer une application\n",
    "interactive avec `Streamlit` reproduisant celle proposée sur\n",
    "[myyuka.lab.sspcloud.fr](https://myyuka.lab.sspcloud.fr/).\n",
    "\n",
    "Cet exercice est proposé dans le cadre du `Funathon` (hackathon non\n",
    "compétitif) organisé en 2023 par l’Insee et le Ministère de\n",
    "l’Agriculture sur le thème *“Du champ à l’assiette”*. Les autres sujets\n",
    "sont disponibles sur le\n",
    "[`Github InseeFrLab`](https://github.com/InseeFrLab/funathon2023).\n",
    "\n",
    "En amont de l’exécution de ce notebook, il est recommandé d’installer\n",
    "l’ensemble des packages utilisés dans ce projet avec la commande\n",
    "suivante :"
   ]
  },
  {
   "cell_type": "code",
   "execution_count": 1,
   "id": "f95e822b",
   "metadata": {},
   "outputs": [
    {
     "name": "stdout",
     "output_type": "stream",
     "text": [
      "Collecting duckdb (from -r requirements.txt (line 1))\n",
      "  Downloading duckdb-0.8.1-cp310-cp310-manylinux_2_17_x86_64.manylinux2014_x86_64.whl (15.9 MB)\n",
      "\u001b[2K     \u001b[90m━━━━━━━━━━━━━━━━━━━━━━━━━━━━━━━━━━━━━━━━\u001b[0m \u001b[32m15.9/15.9 MB\u001b[0m \u001b[31m10.0 MB/s\u001b[0m eta \u001b[36m0:00:00\u001b[0m00:01\u001b[0m00:01\u001b[0m\n",
      "\u001b[?25hCollecting fasttext (from -r requirements.txt (line 2))\n",
      "  Downloading fasttext-0.9.2.tar.gz (68 kB)\n",
      "\u001b[2K     \u001b[90m━━━━━━━━━━━━━━━━━━━━━━━━━━━━━━━━━━━━━━━━\u001b[0m \u001b[32m68.8/68.8 kB\u001b[0m \u001b[31m16.5 MB/s\u001b[0m eta \u001b[36m0:00:00\u001b[0m\n",
      "\u001b[?25h  Preparing metadata (setup.py) ... \u001b[?25ldone\n",
      "\u001b[?25hRequirement already satisfied: matplotlib in /opt/mamba/lib/python3.10/site-packages (from -r requirements.txt (line 3)) (3.7.1)\n",
      "Collecting opencv-python (from -r requirements.txt (line 4))\n",
      "  Downloading opencv_python-4.7.0.72-cp37-abi3-manylinux_2_17_x86_64.manylinux2014_x86_64.whl (61.8 MB)\n",
      "\u001b[2K     \u001b[90m━━━━━━━━━━━━━━━━━━━━━━━━━━━━━━━━━━━━━━━━\u001b[0m \u001b[32m61.8/61.8 MB\u001b[0m \u001b[31m9.1 MB/s\u001b[0m eta \u001b[36m0:00:00\u001b[0m:00:01\u001b[0m00:01\u001b[0m\n",
      "\u001b[?25hRequirement already satisfied: pandas in /opt/mamba/lib/python3.10/site-packages (from -r requirements.txt (line 5)) (2.0.2)\n",
      "Requirement already satisfied: plotly in /opt/mamba/lib/python3.10/site-packages (from -r requirements.txt (line 6)) (5.15.0)\n",
      "Requirement already satisfied: pyarrow in /opt/mamba/lib/python3.10/site-packages (from -r requirements.txt (line 7)) (12.0.0)\n",
      "Requirement already satisfied: PyYAML in /opt/mamba/lib/python3.10/site-packages (from -r requirements.txt (line 8)) (6.0)\n",
      "Collecting pyzbar (from -r requirements.txt (line 9))\n",
      "  Downloading pyzbar-0.1.9-py2.py3-none-any.whl (32 kB)\n",
      "Collecting scikit-image (from -r requirements.txt (line 10))\n",
      "  Downloading scikit_image-0.21.0-cp310-cp310-manylinux_2_17_x86_64.manylinux2014_x86_64.whl (13.8 MB)\n",
      "\u001b[2K     \u001b[90m━━━━━━━━━━━━━━━━━━━━━━━━━━━━━━━━━━━━━━━━\u001b[0m \u001b[32m13.8/13.8 MB\u001b[0m \u001b[31m10.1 MB/s\u001b[0m eta \u001b[36m0:00:00\u001b[0m00:01\u001b[0m00:01\u001b[0m\n",
      "\u001b[?25hCollecting streamlit (from -r requirements.txt (line 11))\n",
      "  Downloading streamlit-1.24.0-py2.py3-none-any.whl (8.9 MB)\n",
      "\u001b[2K     \u001b[90m━━━━━━━━━━━━━━━━━━━━━━━━━━━━━━━━━━━━━━━━\u001b[0m \u001b[32m8.9/8.9 MB\u001b[0m \u001b[31m10.5 MB/s\u001b[0m eta \u001b[36m0:00:00\u001b[0m00:01\u001b[0m00:01\u001b[0m\n",
      "\u001b[?25hCollecting streamlit-javascript (from -r requirements.txt (line 12))\n",
      "  Downloading streamlit_javascript-0.1.5-py3-none-any.whl (518 kB)\n",
      "\u001b[2K     \u001b[90m━━━━━━━━━━━━━━━━━━━━━━━━━━━━━━━━━━━━━━\u001b[0m \u001b[32m518.4/518.4 kB\u001b[0m \u001b[31m10.8 MB/s\u001b[0m eta \u001b[36m0:00:00\u001b[0ma \u001b[36m0:00:01\u001b[0m\n",
      "\u001b[?25hCollecting xlrd (from -r requirements.txt (line 13))\n",
      "  Downloading xlrd-2.0.1-py2.py3-none-any.whl (96 kB)\n",
      "\u001b[2K     \u001b[90m━━━━━━━━━━━━━━━━━━━━━━━━━━━━━━━━━━━━━━━━\u001b[0m \u001b[32m96.5/96.5 kB\u001b[0m \u001b[31m21.3 MB/s\u001b[0m eta \u001b[36m0:00:00\u001b[0m\n",
      "\u001b[?25hCollecting pybind11>=2.2 (from fasttext->-r requirements.txt (line 2))\n",
      "  Using cached pybind11-2.10.4-py3-none-any.whl (222 kB)\n",
      "Requirement already satisfied: setuptools>=0.7.0 in /opt/mamba/lib/python3.10/site-packages (from fasttext->-r requirements.txt (line 2)) (65.6.3)\n",
      "Requirement already satisfied: numpy in /opt/mamba/lib/python3.10/site-packages (from fasttext->-r requirements.txt (line 2)) (1.24.3)\n",
      "Requirement already satisfied: contourpy>=1.0.1 in /opt/mamba/lib/python3.10/site-packages (from matplotlib->-r requirements.txt (line 3)) (1.1.0)\n",
      "Requirement already satisfied: cycler>=0.10 in /opt/mamba/lib/python3.10/site-packages (from matplotlib->-r requirements.txt (line 3)) (0.11.0)\n",
      "Requirement already satisfied: fonttools>=4.22.0 in /opt/mamba/lib/python3.10/site-packages (from matplotlib->-r requirements.txt (line 3)) (4.40.0)\n",
      "Requirement already satisfied: kiwisolver>=1.0.1 in /opt/mamba/lib/python3.10/site-packages (from matplotlib->-r requirements.txt (line 3)) (1.4.4)\n",
      "Requirement already satisfied: packaging>=20.0 in /opt/mamba/lib/python3.10/site-packages (from matplotlib->-r requirements.txt (line 3)) (23.1)\n",
      "Requirement already satisfied: pillow>=6.2.0 in /opt/mamba/lib/python3.10/site-packages (from matplotlib->-r requirements.txt (line 3)) (9.5.0)\n",
      "Requirement already satisfied: pyparsing>=2.3.1 in /opt/mamba/lib/python3.10/site-packages (from matplotlib->-r requirements.txt (line 3)) (3.1.0)\n",
      "Requirement already satisfied: python-dateutil>=2.7 in /opt/mamba/lib/python3.10/site-packages (from matplotlib->-r requirements.txt (line 3)) (2.8.2)\n",
      "Requirement already satisfied: pytz>=2020.1 in /opt/mamba/lib/python3.10/site-packages (from pandas->-r requirements.txt (line 5)) (2023.3)\n",
      "Requirement already satisfied: tzdata>=2022.1 in /opt/mamba/lib/python3.10/site-packages (from pandas->-r requirements.txt (line 5)) (2023.3)\n",
      "Requirement already satisfied: tenacity>=6.2.0 in /opt/mamba/lib/python3.10/site-packages (from plotly->-r requirements.txt (line 6)) (8.2.2)\n",
      "Requirement already satisfied: scipy>=1.8 in /opt/mamba/lib/python3.10/site-packages (from scikit-image->-r requirements.txt (line 10)) (1.10.1)\n",
      "Requirement already satisfied: networkx>=2.8 in /opt/mamba/lib/python3.10/site-packages (from scikit-image->-r requirements.txt (line 10)) (3.1)\n",
      "Collecting imageio>=2.27 (from scikit-image->-r requirements.txt (line 10))\n",
      "  Downloading imageio-2.31.1-py3-none-any.whl (313 kB)\n",
      "\u001b[2K     \u001b[90m━━━━━━━━━━━━━━━━━━━━━━━━━━━━━━━━━━━━━━\u001b[0m \u001b[32m313.2/313.2 kB\u001b[0m \u001b[31m11.4 MB/s\u001b[0m eta \u001b[36m0:00:00\u001b[0m\n",
      "\u001b[?25hCollecting tifffile>=2022.8.12 (from scikit-image->-r requirements.txt (line 10))\n",
      "  Downloading tifffile-2023.4.12-py3-none-any.whl (219 kB)\n",
      "\u001b[2K     \u001b[90m━━━━━━━━━━━━━━━━━━━━━━━━━━━━━━━━━━━━━━\u001b[0m \u001b[32m219.4/219.4 kB\u001b[0m \u001b[31m12.3 MB/s\u001b[0m eta \u001b[36m0:00:00\u001b[0m\n",
      "\u001b[?25hCollecting PyWavelets>=1.1.1 (from scikit-image->-r requirements.txt (line 10))\n",
      "  Downloading PyWavelets-1.4.1-cp310-cp310-manylinux_2_17_x86_64.manylinux2014_x86_64.whl (6.8 MB)\n",
      "\u001b[2K     \u001b[90m━━━━━━━━━━━━━━━━━━━━━━━━━━━━━━━━━━━━━━━━\u001b[0m \u001b[32m6.8/6.8 MB\u001b[0m \u001b[31m10.5 MB/s\u001b[0m eta \u001b[36m0:00:00\u001b[0ma \u001b[36m0:00:01\u001b[0m\n",
      "\u001b[?25hCollecting lazy_loader>=0.2 (from scikit-image->-r requirements.txt (line 10))\n",
      "  Downloading lazy_loader-0.2-py3-none-any.whl (8.6 kB)\n",
      "Collecting altair<6,>=4.0 (from streamlit->-r requirements.txt (line 11))\n",
      "  Downloading altair-5.0.1-py3-none-any.whl (471 kB)\n",
      "\u001b[2K     \u001b[90m━━━━━━━━━━━━━━━━━━━━━━━━━━━━━━━━━━━━━━\u001b[0m \u001b[32m471.5/471.5 kB\u001b[0m \u001b[31m11.3 MB/s\u001b[0m eta \u001b[36m0:00:00\u001b[0ma \u001b[36m0:00:01\u001b[0m\n",
      "\u001b[?25hRequirement already satisfied: blinker<2,>=1.0.0 in /opt/mamba/lib/python3.10/site-packages (from streamlit->-r requirements.txt (line 11)) (1.6.2)\n",
      "Requirement already satisfied: cachetools<6,>=4.0 in /opt/mamba/lib/python3.10/site-packages (from streamlit->-r requirements.txt (line 11)) (5.3.0)\n",
      "Requirement already satisfied: click<9,>=7.0 in /opt/mamba/lib/python3.10/site-packages (from streamlit->-r requirements.txt (line 11)) (8.1.3)\n",
      "Requirement already satisfied: importlib-metadata<7,>=1.4 in /opt/mamba/lib/python3.10/site-packages (from streamlit->-r requirements.txt (line 11)) (6.7.0)\n",
      "Requirement already satisfied: protobuf<5,>=3.20 in /opt/mamba/lib/python3.10/site-packages (from streamlit->-r requirements.txt (line 11)) (4.21.12)\n",
      "Collecting pympler<2,>=0.9 (from streamlit->-r requirements.txt (line 11))\n",
      "  Downloading Pympler-1.0.1-py3-none-any.whl (164 kB)\n",
      "\u001b[2K     \u001b[90m━━━━━━━━━━━━━━━━━━━━━━━━━━━━━━━━━━━━━━\u001b[0m \u001b[32m164.8/164.8 kB\u001b[0m \u001b[31m13.8 MB/s\u001b[0m eta \u001b[36m0:00:00\u001b[0m\n",
      "\u001b[?25hRequirement already satisfied: requests<3,>=2.4 in /opt/mamba/lib/python3.10/site-packages (from streamlit->-r requirements.txt (line 11)) (2.31.0)\n",
      "Collecting rich<14,>=10.11.0 (from streamlit->-r requirements.txt (line 11))\n",
      "  Downloading rich-13.4.2-py3-none-any.whl (239 kB)\n",
      "\u001b[2K     \u001b[90m━━━━━━━━━━━━━━━━━━━━━━━━━━━━━━━━━━━━━━\u001b[0m \u001b[32m239.4/239.4 kB\u001b[0m \u001b[31m11.6 MB/s\u001b[0m eta \u001b[36m0:00:00\u001b[0m\n",
      "\u001b[?25hCollecting toml<2 (from streamlit->-r requirements.txt (line 11))\n",
      "  Downloading toml-0.10.2-py2.py3-none-any.whl (16 kB)\n",
      "Requirement already satisfied: typing-extensions<5,>=4.0.1 in /opt/mamba/lib/python3.10/site-packages (from streamlit->-r requirements.txt (line 11)) (4.6.3)\n",
      "Collecting tzlocal<5,>=1.1 (from streamlit->-r requirements.txt (line 11))\n",
      "  Downloading tzlocal-4.3.1-py3-none-any.whl (20 kB)\n",
      "Collecting validators<1,>=0.2 (from streamlit->-r requirements.txt (line 11))\n",
      "  Downloading validators-0.20.0.tar.gz (30 kB)\n",
      "  Preparing metadata (setup.py) ... \u001b[?25ldone\n",
      "\u001b[?25hRequirement already satisfied: gitpython!=3.1.19,<4,>=3 in /opt/mamba/lib/python3.10/site-packages (from streamlit->-r requirements.txt (line 11)) (3.1.31)\n",
      "Collecting pydeck<1,>=0.1.dev5 (from streamlit->-r requirements.txt (line 11))\n",
      "  Downloading pydeck-0.8.1b0-py2.py3-none-any.whl (4.8 MB)\n",
      "\u001b[2K     \u001b[90m━━━━━━━━━━━━━━━━━━━━━━━━━━━━━━━━━━━━━━━━\u001b[0m \u001b[32m4.8/4.8 MB\u001b[0m \u001b[31m10.1 MB/s\u001b[0m eta \u001b[36m0:00:00\u001b[0ma \u001b[36m0:00:01\u001b[0m\n",
      "\u001b[?25hRequirement already satisfied: tornado<7,>=6.0.3 in /opt/mamba/lib/python3.10/site-packages (from streamlit->-r requirements.txt (line 11)) (6.3.2)\n",
      "Collecting watchdog (from streamlit->-r requirements.txt (line 11))\n",
      "  Downloading watchdog-3.0.0-py3-none-manylinux2014_x86_64.whl (82 kB)\n",
      "\u001b[2K     \u001b[90m━━━━━━━━━━━━━━━━━━━━━━━━━━━━━━━━━━━━━━━━\u001b[0m \u001b[32m82.1/82.1 kB\u001b[0m \u001b[31m13.8 MB/s\u001b[0m eta \u001b[36m0:00:00\u001b[0m\n",
      "\u001b[?25hRequirement already satisfied: jinja2 in /opt/mamba/lib/python3.10/site-packages (from altair<6,>=4.0->streamlit->-r requirements.txt (line 11)) (3.1.2)\n",
      "Requirement already satisfied: jsonschema>=3.0 in /opt/mamba/lib/python3.10/site-packages (from altair<6,>=4.0->streamlit->-r requirements.txt (line 11)) (4.17.3)\n",
      "Requirement already satisfied: toolz in /opt/mamba/lib/python3.10/site-packages (from altair<6,>=4.0->streamlit->-r requirements.txt (line 11)) (0.12.0)\n",
      "Requirement already satisfied: gitdb<5,>=4.0.1 in /opt/mamba/lib/python3.10/site-packages (from gitpython!=3.1.19,<4,>=3->streamlit->-r requirements.txt (line 11)) (4.0.10)\n",
      "Requirement already satisfied: zipp>=0.5 in /opt/mamba/lib/python3.10/site-packages (from importlib-metadata<7,>=1.4->streamlit->-r requirements.txt (line 11)) (3.15.0)\n",
      "Requirement already satisfied: six>=1.5 in /opt/mamba/lib/python3.10/site-packages (from python-dateutil>=2.7->matplotlib->-r requirements.txt (line 3)) (1.16.0)\n",
      "Requirement already satisfied: charset-normalizer<4,>=2 in /opt/mamba/lib/python3.10/site-packages (from requests<3,>=2.4->streamlit->-r requirements.txt (line 11)) (3.1.0)\n",
      "Requirement already satisfied: idna<4,>=2.5 in /opt/mamba/lib/python3.10/site-packages (from requests<3,>=2.4->streamlit->-r requirements.txt (line 11)) (3.4)\n",
      "Requirement already satisfied: urllib3<3,>=1.21.1 in /opt/mamba/lib/python3.10/site-packages (from requests<3,>=2.4->streamlit->-r requirements.txt (line 11)) (1.26.15)\n",
      "Requirement already satisfied: certifi>=2017.4.17 in /opt/mamba/lib/python3.10/site-packages (from requests<3,>=2.4->streamlit->-r requirements.txt (line 11)) (2023.5.7)\n",
      "Collecting markdown-it-py>=2.2.0 (from rich<14,>=10.11.0->streamlit->-r requirements.txt (line 11))\n",
      "  Downloading markdown_it_py-3.0.0-py3-none-any.whl (87 kB)\n",
      "\u001b[2K     \u001b[90m━━━━━━━━━━━━━━━━━━━━━━━━━━━━━━━━━━━━━━━━\u001b[0m \u001b[32m87.5/87.5 kB\u001b[0m \u001b[31m18.5 MB/s\u001b[0m eta \u001b[36m0:00:00\u001b[0m\n",
      "\u001b[?25hRequirement already satisfied: pygments<3.0.0,>=2.13.0 in /opt/mamba/lib/python3.10/site-packages (from rich<14,>=10.11.0->streamlit->-r requirements.txt (line 11)) (2.15.1)\n",
      "Collecting pytz-deprecation-shim (from tzlocal<5,>=1.1->streamlit->-r requirements.txt (line 11))\n",
      "  Downloading pytz_deprecation_shim-0.1.0.post0-py2.py3-none-any.whl (15 kB)\n",
      "Requirement already satisfied: decorator>=3.4.0 in /opt/mamba/lib/python3.10/site-packages (from validators<1,>=0.2->streamlit->-r requirements.txt (line 11)) (5.1.1)\n",
      "Requirement already satisfied: smmap<6,>=3.0.1 in /opt/mamba/lib/python3.10/site-packages (from gitdb<5,>=4.0.1->gitpython!=3.1.19,<4,>=3->streamlit->-r requirements.txt (line 11)) (3.0.5)\n",
      "Requirement already satisfied: MarkupSafe>=2.0 in /opt/mamba/lib/python3.10/site-packages (from jinja2->altair<6,>=4.0->streamlit->-r requirements.txt (line 11)) (2.1.3)\n",
      "Requirement already satisfied: attrs>=17.4.0 in /opt/mamba/lib/python3.10/site-packages (from jsonschema>=3.0->altair<6,>=4.0->streamlit->-r requirements.txt (line 11)) (23.1.0)\n",
      "Requirement already satisfied: pyrsistent!=0.17.0,!=0.17.1,!=0.17.2,>=0.14.0 in /opt/mamba/lib/python3.10/site-packages (from jsonschema>=3.0->altair<6,>=4.0->streamlit->-r requirements.txt (line 11)) (0.19.3)\n",
      "Collecting mdurl~=0.1 (from markdown-it-py>=2.2.0->rich<14,>=10.11.0->streamlit->-r requirements.txt (line 11))\n",
      "  Downloading mdurl-0.1.2-py3-none-any.whl (10.0 kB)\n",
      "Building wheels for collected packages: fasttext, validators\n",
      "  Building wheel for fasttext (setup.py) ... \u001b[?25ldone\n",
      "\u001b[?25h  Created wheel for fasttext: filename=fasttext-0.9.2-cp310-cp310-linux_x86_64.whl size=310073 sha256=2575064253a5fa77ec9569b8f82b7e3aed4e6b3db76803b00684504b5a8965fe\n",
      "  Stored in directory: /home/onyxia/.cache/pip/wheels/a5/13/75/f811c84a8ab36eedbaef977a6a58a98990e8e0f1967f98f394\n",
      "  Building wheel for validators (setup.py) ... \u001b[?25ldone\n",
      "\u001b[?25h  Created wheel for validators: filename=validators-0.20.0-py3-none-any.whl size=19579 sha256=2dbd2023d39a4513bb4ada63d4dd7b2e93b796fcbf8f463ddaf8ceb1e3ffb16b\n",
      "  Stored in directory: /home/onyxia/.cache/pip/wheels/f2/ed/dd/d3a556ad245ef9dc570c6bcd2f22886d17b0b408dd3bbb9ac3\n",
      "Successfully built fasttext validators\n",
      "Installing collected packages: pyzbar, duckdb, xlrd, watchdog, validators, toml, tifffile, PyWavelets, pytz-deprecation-shim, pympler, pybind11, opencv-python, mdurl, lazy_loader, imageio, tzlocal, scikit-image, pydeck, markdown-it-py, fasttext, rich, altair, streamlit, streamlit-javascript\n",
      "Successfully installed PyWavelets-1.4.1 altair-5.0.1 duckdb-0.8.1 fasttext-0.9.2 imageio-2.31.1 lazy_loader-0.2 markdown-it-py-3.0.0 mdurl-0.1.2 opencv-python-4.7.0.72 pybind11-2.10.4 pydeck-0.8.1b0 pympler-1.0.1 pytz-deprecation-shim-0.1.0.post0 pyzbar-0.1.9 rich-13.4.2 scikit-image-0.21.0 streamlit-1.24.0 streamlit-javascript-0.1.5 tifffile-2023.4.12 toml-0.10.2 tzlocal-4.3.1 validators-0.20.0 watchdog-3.0.0 xlrd-2.0.1\n",
      "Note: you may need to restart the kernel to use updated packages.\n"
     ]
    }
   ],
   "source": [
    "pip install -r requirements.txt"
   ]
  },
  {
   "cell_type": "markdown",
   "id": "af373442-d737-4d54-9360-b67f1ba4e832",
   "metadata": {},
   "source": [
    "# Objectif et approche pédagogique\n",
    "\n",
    "L’objectif de ce projet est d’apprendre à utiliser `Python` pour créer\n",
    "des applications réactives avec `Streamlit` mais aussi de se\n",
    "familiariser à la manipulation de données avec `Python` et, au passage,\n",
    "à quelques bonnes pratiques utiles pour obtenir des projets plus\n",
    "lisibles et reproductibles.\n",
    "\n",
    "Pour parvenir à cet objectif, il est possible d’emprunter plusieurs\n",
    "voies, plus ou moins guidées. Celles-ci sont là pour permettre que ce\n",
    "sujet soit réalisable. Elles sont balisées de la manière suivante :\n",
    "\n",
    "| Balisage | Approche                                                              | Prérequis de niveau                                            | Objectif pédagogique                                                                                                                                    |\n",
    "|------------|-------------|----------------------|--------------------------|\n",
    "| 🟡       | Exécuter les cellules permet d’obtenir le résultat attendu            | Capacité à installer des *packages*                            | Découvrir de nouveaux *packages* en suivant le fil conducteur du projet, découvrir les scripts `Python`, se familiariser avec `Git`                     |\n",
    "| 🟢       | Des instructions détaillées sur la manière de procéder sont proposées | Connaître quelques manipulations avec `Pandas`                 | Apprendre à utiliser certains *packages* avec un projet guidé, se familiariser avec les projets `Python` plus conséquents que les *notebooks* `Jupyter` |\n",
    "| 🔵       | Instructions moins détaillées                                         | Capacité à manipuler des données avec `Pandas`                 | Apprendre à modulariser du code pour faciliter sa réutilisation dans une application, découvrir la récupation de données via des API                    |\n",
    "| 🔴       | Peu d’instructions                                                    | Expérience en développement de code `Python`                   | Découvrir la création d’application ou se familiariser avec l’écosystème `DuckDB`                                                                       |\n",
    "| ⚫       | Autonomie                                                             | Bonne maîtrise de `Python` et de la ligne de commande ̀`Linux`  | S’initier au déploiement d’une application ou à l’ingénierie de données                                                                                 |\n",
    "\n",
    "Le parcours vers la mise en oeuvre d’une application fonctionnelle se\n",
    "fait par étapes, en séquençant le projet pour permettre d’avoir un\n",
    "projet lisible, reproductible et modulaire.\n",
    "\n",
    "Les étapes ne sont pas forcément de difficulté graduelle, il s’agit\n",
    "plutôt de séquencer de manière logique le projet pour vous faciliter la\n",
    "prise en main.\n",
    "\n",
    "Il est donc tout à fait possible de passer, selon les parties, d’une\n",
    "voie 🟢 à une voie 🔵 ou bien de tester les codes proposés dans la voie\n",
    "🟡 d’abord puis, une fois que la logique a été comprise, essayer de les\n",
    "faire soit-même via la voie 🟢 ou encore essayer via la voie 🔵, ne pas\n",
    "y parvenir du fait du caractère plus succinct des instructions et\n",
    "regarder les instructions de la voie 🟢 ou la solution de la voie 🟡.\n",
    "\n",
    "Il est même tout à fait possible de sauter une étape et reprendre à\n",
    "partir de la suivante grâce aux *checkpoints* proposés.\n",
    "\n",
    "Les consignes sont encapsulées dans des boites dédiées, afin d’être\n",
    "séparées des explications générales.\n",
    "\n",
    "Par exemple, la boite verte prendra l’aspect suivant:"
   ]
  },
  {
   "cell_type": "markdown",
   "id": "1c11a00f-a235-4e20-8951-f5f41d2a95c7",
   "metadata": {},
   "source": [
    "<!----- boite 🟢 ----->\n",
    "\n",
    "<div class=\"alert alert-warning\" role=\"alert\" style=\"color: rgba(0,0,0,.8); background-color: white; margin-top: 1em; margin-bottom: 1em; margin:1.5625emauto; padding:0 .6rem .8rem!important;overflow:hidden; page-break-inside:avoid; border-radius:.25rem; box-shadow:0 .2rem .5rem rgba(0,0,0,.05),0 0 .05rem rgba(0,0,0,.1); transition:color .25s,background-color .25s,border-color .25s ; border-right: 1px solid #dee2e6 ; border-top: 1px solid #dee2e6 ; border-bottom: 1px solid #dee2e6 ; border-left:.2rem solid #7cb342;\">\n",
    "<h3 class=\"alert-heading\"><i class=\"fa fa-pencil\"></i> Exemple (🟢)</h3>\n",
    "\n",
    "\n",
    "<details>\n",
    "<summary>Dérouler pour révéler les instructions</summary>\n",
    "\n",
    "Utiliser la fonction `print` pour afficher le texte *“Toto”*\n",
    "\n",
    "</details>\n",
    "</div>\n",
    "\n",
    "<!----- end 🟢 ----->"
   ]
  },
  {
   "cell_type": "markdown",
   "id": "0ee43d8c-847a-4a5c-a471-aa4fca701c0b",
   "metadata": {},
   "source": [
    "alors que sur le même exercice, si plusieurs voies peuvent emprunter le\n",
    "même chemin, on utilisera une délimitation grise :"
   ]
  },
  {
   "cell_type": "markdown",
   "id": "3a652226-3ff6-4366-b383-170357dd6e3e",
   "metadata": {},
   "source": [
    "<!----- boite 🔵 ----->\n",
    "\n",
    "<div class=\"alert alert-warning\" role=\"alert\" style=\"color: rgba(0,0,0,.8); background-color: white; margin-top: 1em; margin-bottom: 1em; margin:1.5625emauto; padding:0 .6rem .8rem!important;overflow:hidden; page-break-inside:avoid; border-radius:.25rem; box-shadow:0 .2rem .5rem rgba(0,0,0,.05),0 0 .05rem rgba(0,0,0,.1); transition:color .25s,background-color .25s,border-color .25s ; border-right: 1px solid #dee2e6 ; border-top: 1px solid #dee2e6 ; border-bottom: 1px solid #dee2e6 ; border-left:.2rem solid #9c9797;\">\n",
    "<h3 class=\"alert-heading\"><i class=\"fa fa-pencil\"></i> Exemple (🔵,🔴,⚫)</h3>\n",
    "\n",
    "\n",
    "<details>\n",
    "<summary>Dérouler pour révéler les instructions</summary>\n",
    "\n",
    "Afficher le texte *“Toto”*\n",
    "\n",
    "</details>\n",
    "</div>\n",
    "\n",
    "<!----- end 🔵 ----->"
   ]
  },
  {
   "cell_type": "markdown",
   "id": "af935acf-7ba5-49b9-a111-392e2a7bec56",
   "metadata": {},
   "source": [
    "La solution associée, visible pour les personnes sur la voie 🟡, sera :"
   ]
  },
  {
   "cell_type": "code",
   "execution_count": 5,
   "id": "d5d33cab",
   "metadata": {
    "jupyter": {
     "source_hidden": true
    }
   },
   "outputs": [],
   "source": [
    "# Solution pour voie 🟡\n",
    "print(\"toto\")"
   ]
  },
  {
   "cell_type": "markdown",
   "id": "1daff34c-db5a-42b5-a8aa-8121f61d93ca",
   "metadata": {},
   "source": [
    "## Etapes du projet\n",
    "\n",
    "Le projet est séquencé de la manière suivante :\n",
    "\n",
    "| Etape                                                            | Objectif                                                                                                                                                                                                                                                                                                                           |\n",
    "|----------------------------------|--------------------------------------|\n",
    "| Récupération et nettoyage de la base `OpenFoodFacts`             | Lire des données avec `Pandas` depuis un site web (🟡,🟢,🔵,🔴,⚫), appliquer des nettoyages de champs textuels (🟡,🟢,🔵,🔴,⚫), catégoriser ces données avec un classifieur automatique (🟡,🟢,🔵,🔴,⚫) voire entrainer un classifieur *ad hoc* (🔴,⚫), écrire ces données sur un système de stockage distant (🟡,🟢,🔵,🔴,⚫) |\n",
    "| Faire des statistiques agrégées par catégories                   | Utiliser `Pandas` (🟡,🟢,🔵) ou ̀`DuckDB` (🔴,⚫) pour faire des statistiques par groupe                                                                                                                                                                                                                                            |\n",
    "| Trouver un produit dans `OpenFoodFacts` à partir d’un code barre | Détection visuelle d’un code barre (🟡,🟢,🔵, 🔴,⚫), rechercher des données avec des critères d’appariement exact comme le code barre via `Pandas` (🟡,🟢,🔵) ou ̀`DuckDB` (🔴,⚫) ou via des distances textuelles (🔴,⚫)                                                                                                         |\n",
    "| Encapsuler ces étapes dans une application `Streamlit`           | Tester une application `Streamlit` minimale (🟡,🟢,🔵, 🔴,⚫), personnaliser celle-ci (🔴,⚫ ou 🟡,🟢,🔵 désirant se focaliser sur `Streamlit`)                                                                                                                                                                                    |\n",
    "| Mettre en production cette application                           | Déployer grâce à des serveurs standardisés une application `Streamlit` (🔴,⚫) ou proposer une version sans serveur (⚫ voulant se familiariser à `Observable`)                                                                                                                                                                    |\n",
    "\n",
    "Le développement à proprement parler de l’application est donc assez\n",
    "tardif car un certain nombre d’étapes préalables sont nécessaires pour\n",
    "ne pas avoir une application monolithique (ce qui est une bonne\n",
    "pratique). Si vous n’êtes intéressés que par développer une application\n",
    "`Streamlit`, vous pouvez directement passer aux étapes concernées (à\n",
    "partir de la partie 3️).\n",
    "\n",
    "La première étape (1️⃣ *Récupération et nettoyage de la base\n",
    "`OpenFoodFacts`*) peut être assez chronophage. Cela est assez\n",
    "représentatif des projets de *data science* où la majorité du temps est\n",
    "consacrée à la structuration et la manipulation de données. La deuxième\n",
    "étape (2️ *“Faire des statistiques agrégées par catégories”*) est la\n",
    "moins centrale de ce sujet : si vous manquez de temps vous pouvez la\n",
    "passer et utiliser directement les morceaux de code mis à disposition.\n",
    "\n",
    "## Remarques\n",
    "\n",
    "Cette page peut être consultée par différents canaux :\n",
    "\n",
    "-   Sur un site web, les codes faisant office de solution sont, par\n",
    "    défauts, cachés. Cela peut être pratique de consulter cette page si\n",
    "    vous êtes sur un parcours de couleur différente que le jaune et ne\n",
    "    voulez pas voir la solution sans le vouloir ;\n",
    "-   Sur un notebook `Jupyter`, les solutions de la voie 🟡 sont\n",
    "    affichées par défaut. Elles peuvent être cachées en faisant `View`\n",
    "    \\> `Collapse All Code`\n",
    "\n",
    "## Sources et packages utilisés\n",
    "\n",
    "Notre source de référence sera\n",
    "[`OpenFoodFacts`](https://fr.openfoodfacts.org/), une base contributive\n",
    "sur les produits alimentaires."
   ]
  },
  {
   "cell_type": "markdown",
   "id": "73aefc72-2cf5-4c78-ad50-5e2c9063c98f",
   "metadata": {},
   "source": [
    "<div class=\"alert alert-warning\" role=\"alert\" style=\"color: rgba(0,0,0,.8); background-color: white; margin-top: 1em; margin-bottom: 1em; margin:1.5625emauto; padding:0 .6rem .8rem!important;overflow:hidden; page-break-inside:avoid; border-radius:.25rem; box-shadow:0 .2rem .5rem rgba(0,0,0,.05),0 0 .05rem rgba(0,0,0,.1); transition:color .25s,background-color .25s,border-color .25s ; border-right: 1px solid #dee2e6 ; border-top: 1px solid #dee2e6 ; border-bottom: 1px solid #dee2e6 ; border-left:.2rem solid #ffc10780;\">\n",
    "<h3 class=\"alert-heading\"><i class=\"fa fa-lightbulb-o\"></i> Hint</h3>\n",
    "\n",
    "Nous utiliserons également un classifieur automatique issu du projet\n",
    "[`predicat`](https://github.com/InseeFrLab/predicat). Il s’agit d’un\n",
    "modèle qui utilise des noms de produits pour leur associer des\n",
    "catégories de la nomenclature [COICOP (Classification des fonctions de\n",
    "consommation des ménages)](https://www.insee.fr/fr/information/2408172).\n",
    "\n",
    "Ce modèle est là à des fins de démonstration du principe de la\n",
    "classification automatique et de la manière dont celle-ci peut être\n",
    "intégrée à un processus de production de données. Il ne s’agit pas d’un\n",
    "modèle officiel de l’Insee.\n",
    "\n",
    "</div>"
   ]
  },
  {
   "cell_type": "markdown",
   "id": "e5c7cc20-a7be-439e-bc00-f6608c5994ac",
   "metadata": {},
   "source": [
    "# 1️⃣ Récupération des données `OpenFoodFacts`\n",
    "\n",
    "## 1.1. Préliminaire (🟡,🟢,🔵,🔴,⚫)\n",
    "\n",
    "Comme nous allons utiliser fréquemment certains paramètres, une bonne\n",
    "pratique consiste à les stocker dans un fichier dédié, au format `YAML`\n",
    "et d’importer celui-ci via `Python`. Ceci est expliqué dans [ce cours de\n",
    "l’ENSAE](https://ensae-reproductibilite.github.io/website/chapters/application.html#etape-3-gestion-des-param%C3%A8tres)\n",
    "\n",
    "Nous proposons de créer le fichier suivant au nom `config.yaml`:\n",
    "\n",
    "``` yaml\n",
    "URL_OPENFOOD: \"https://static.openfoodfacts.org/data/en.openfoodfacts.org.products.csv.gz\"\n",
    "ENDPOINT_S3: \"https://minio.lab.sspcloud.fr\"\n",
    "BUCKET: \"projet-funathon\"\n",
    "DESTINATION_DATA_S3: \"/2023/sujet4/diffusion\"\n",
    "URL_FASTTEXT_MINIO: \"https://minio.lab.sspcloud.fr/projet-funathon/2023/sujet4/diffusion/model_coicop10.bin\"\n",
    "URL_COICOP_LABEL: \"https://www.insee.fr/fr/statistiques/fichier/2402696/coicop2016_liste_n5.xls\"\n",
    "```\n",
    "\n",
    "⚠️ Si vous désirez pouvoir reproduire tous les exemples de ce fichier,\n",
    "vous devez changer la variable `BUCKET` pour mettre votre nom\n",
    "d’utilisateur sur le `SSPCloud`.\n",
    "\n",
    "Nous allons lire ce fichier avec le package adapté pour transformer ces\n",
    "instructions en variables `Python` (stockées dans un dictionnaire)!,"
   ]
  },
  {
   "cell_type": "markdown",
   "id": "b1a95b19-11dc-4c80-9871-c377e6dbe343",
   "metadata": {},
   "source": [
    "<!----- boite 🟢 ----->\n",
    "\n",
    "<div class=\"alert alert-warning\" role=\"alert\" style=\"color: rgba(0,0,0,.8); background-color: white; margin-top: 1em; margin-bottom: 1em; margin:1.5625emauto; padding:0 .6rem .8rem!important;overflow:hidden; page-break-inside:avoid; border-radius:.25rem; box-shadow:0 .2rem .5rem rgba(0,0,0,.05),0 0 .05rem rgba(0,0,0,.1); transition:color .25s,background-color .25s,border-color .25s ; border-right: 1px solid #dee2e6 ; border-top: 1px solid #dee2e6 ; border-bottom: 1px solid #dee2e6 ; border-left:.2rem solid #7cb342;\">\n",
    "<h3 class=\"alert-heading\"><i class=\"fa fa-pencil\"></i> Utiliser un fichier YAML (🟢)</h3>\n",
    "\n",
    "\n",
    "<details>\n",
    "<summary>Dérouler pour révéler les instructions</summary>\n",
    "\n",
    "A partir des exemples présents dans [cette\n",
    "page](https://stackoverflow.com/questions/1773805/how-can-i-parse-a-yaml-file-in-python),\n",
    "importer les variables dans un objet `Python` nommé `config`\n",
    "\n",
    "</details>\n",
    "</div>\n",
    "\n",
    "<!----- end 🟢 ----->"
   ]
  },
  {
   "cell_type": "markdown",
   "id": "3e730531-605b-4abf-9c32-b4294548c2e5",
   "metadata": {},
   "source": [
    "<!----- boite 🔵 ----->\n",
    "\n",
    "<div class=\"alert alert-warning\" role=\"alert\" style=\"color: rgba(0,0,0,.8); background-color: white; margin-top: 1em; margin-bottom: 1em; margin:1.5625emauto; padding:0 .6rem .8rem!important;overflow:hidden; page-break-inside:avoid; border-radius:.25rem; box-shadow:0 .2rem .5rem rgba(0,0,0,.05),0 0 .05rem rgba(0,0,0,.1); transition:color .25s,background-color .25s,border-color .25s ; border-right: 1px solid #dee2e6 ; border-top: 1px solid #dee2e6 ; border-bottom: 1px solid #dee2e6 ; border-left:.2rem solid #1976d2;\">\n",
    "<h3 class=\"alert-heading\"><i class=\"fa fa-pencil\"></i> Utiliser un fichier YAML (🔵)</h3>\n",
    "\n",
    "\n",
    "<details>\n",
    "<summary>Dérouler pour révéler les instructions</summary>\n",
    "\n",
    "Utiliser le package `PyYAML` pour importer les éléments présents dans\n",
    "`config.yaml` dans un objet `Python` nommé `config`\n",
    "\n",
    "</details>\n",
    "</div>\n",
    "\n",
    "<!----- end 🔵 ----->"
   ]
  },
  {
   "cell_type": "markdown",
   "id": "23d38314-d5d4-411d-b1ad-70b9a7f725a0",
   "metadata": {},
   "source": [
    "<!----- boite 🔴,⚫ ----->\n",
    "\n",
    "<div class=\"alert alert-warning\" role=\"alert\" style=\"color: rgba(0,0,0,.8); background-color: white; margin-top: 1em; margin-bottom: 1em; margin:1.5625emauto; padding:0 .6rem .8rem!important;overflow:hidden; page-break-inside:avoid; border-radius:.25rem; box-shadow:0 .2rem .5rem rgba(0,0,0,.05),0 0 .05rem rgba(0,0,0,.1); transition:color .25s,background-color .25s,border-color .25s ; border-right: 1px solid #dee2e6 ; border-top: 1px solid #dee2e6 ; border-bottom: 1px solid #dee2e6 ; border-left:.2rem solid #f44336;\">\n",
    "<h3 class=\"alert-heading\"><i class=\"fa fa-pencil\"></i> Utiliser un fichier YAML (🔴,⚫)</h3>\n",
    "\n",
    "\n",
    "<details>\n",
    "<summary>Dérouler pour révéler les instructions</summary>\n",
    "\n",
    "Importer les éléments présents dans `config.yaml` dans un objet `Python`\n",
    "nommé `config`\n",
    "\n",
    "</details>\n",
    "</div>\n",
    "\n",
    "<!----- end 🔵 ----->"
   ]
  },
  {
   "cell_type": "code",
   "execution_count": 9,
   "id": "88028dbd",
   "metadata": {
    "jupyter": {
     "source_hidden": true
    }
   },
   "outputs": [],
   "source": [
    "# Solution pour voie 🟡\n",
    "import yaml\n",
    "\n",
    "def import_yaml(filename: str) -> dict:\n",
    "    \"\"\"\n",
    "    Importer un fichier YAML\n",
    "\n",
    "    Args:\n",
    "        filename (str): Emplacement du fichier\n",
    "\n",
    "    Returns:\n",
    "        dict: Le fichier YAML sous forme de dictionnaire Python\n",
    "    \"\"\"\n",
    "    with open(filename, \"r\", encoding=\"utf-8\") as stream:\n",
    "        config = yaml.safe_load(stream)\n",
    "        return config\n",
    "\n",
    "import_yaml(\"config.yaml\")"
   ]
  },
  {
   "cell_type": "markdown",
   "id": "cc2d5126-c84b-42a0-a67d-0c63aed0bbcc",
   "metadata": {},
   "source": [
    "Il est recommandé pour la suite de copier-coller la fonction créée (ne\n",
    "pas oublier les imports associés) dans un fichier à l’emplacement\n",
    "`utils/import_yaml.py`. Cette approche modulaire est une bonne pratique,\n",
    "recommandée dans [ce cours de\n",
    "l’ENSAE](https://ensae-reproductibilite.github.io/website/).\n",
    "\n",
    "Pour la voie 🟡, ce fichier a déjà été créé pour vous. Le tester de la\n",
    "manière suivante:"
   ]
  },
  {
   "cell_type": "code",
   "execution_count": 10,
   "id": "a8c68f95",
   "metadata": {
    "jupyter": {
     "source_hidden": true
    }
   },
   "outputs": [],
   "source": [
    "# Solution pour voie 🟡\n",
    "from utils.import_yaml import import_yaml\n",
    "config = import_yaml(\"config.yaml\")"
   ]
  },
  {
   "cell_type": "markdown",
   "id": "a676269e-274f-415d-9a30-f796cf81c63b",
   "metadata": {},
   "source": [
    "**Ma solution :**"
   ]
  },
  {
   "cell_type": "code",
   "execution_count": 2,
   "id": "45512767-6e75-4ff7-8ac3-b002e1e30de7",
   "metadata": {},
   "outputs": [],
   "source": [
    "import yaml\n",
    "\n",
    "with open(\"config.yaml\", \"r\") as stream:\n",
    "    try:\n",
    "        config = (yaml.safe_load(stream))\n",
    "    except yaml.YAMLError as exc:\n",
    "        print(exc)"
   ]
  },
  {
   "cell_type": "code",
   "execution_count": 3,
   "id": "b954b5ae-fed9-4a8a-8065-36ff5f6fc8cf",
   "metadata": {},
   "outputs": [],
   "source": [
    "def read_yaml_config(path):\n",
    "    with open(path, \"r\") as stream:\n",
    "        try:\n",
    "            config = (yaml.safe_load(stream))\n",
    "        except yaml.YAMLError as exc:\n",
    "            print(exc)\n",
    "    return(config)"
   ]
  },
  {
   "cell_type": "code",
   "execution_count": 12,
   "id": "3a75a7fa-8018-4e3c-a4ac-b81f0a551f1a",
   "metadata": {},
   "outputs": [],
   "source": [
    "config = read_yaml_config(\"config.yaml\")"
   ]
  },
  {
   "cell_type": "code",
   "execution_count": 13,
   "id": "8b60178f-f1f4-4abf-b113-c05931a40a21",
   "metadata": {},
   "outputs": [
    {
     "name": "stdout",
     "output_type": "stream",
     "text": [
      "{'URL_OPENFOOD': 'https://static.openfoodfacts.org/data/en.openfoodfacts.org.products.csv.gz', 'ENDPOINT_S3': 'https://minio.lab.sspcloud.fr', 'BUCKET': 'klarbi', 'DESTINATION_DATA_S3': '/funthathon', 'URL_FASTTEXT_MINIO': 'https://minio.lab.sspcloud.fr/projet-funathon/2023/sujet4/diffusion/model_coicop10.bin', 'URL_COICOP_LABEL': 'https://www.insee.fr/fr/statistiques/fichier/2402696/coicop2016_liste_n5.xls', 'variables': ['nutriscore_grade', 'ecoscore_grade', 'nova_group', 'product_name', 'code', 'energy-kcal_100g', 'created_datetime', 'last_image_datetime', 'last_modified_datetime', 'energy-kcal_100g']}\n"
     ]
    }
   ],
   "source": [
    "print(config)"
   ]
  },
  {
   "cell_type": "markdown",
   "id": "2169f4e3-f932-4cfb-8fcd-55325313a05b",
   "metadata": {},
   "source": [
    "## 1.2. Télécharger et nettoyer la base `OpenFoodFacts` (🟡,🟢,🔵,🔴,⚫)\n",
    "\n",
    "Un export quotidien de la base de données `OpenFoodFacts` est fourni au\n",
    "format `CSV`. L’URL est le suivant:"
   ]
  },
  {
   "cell_type": "code",
   "execution_count": 11,
   "id": "a5a14794",
   "metadata": {},
   "outputs": [],
   "source": [
    "config[\"URL_OPENFOOD\"]"
   ]
  },
  {
   "cell_type": "markdown",
   "id": "31ff19ab-bda8-47c4-b2b9-c789290910a6",
   "metadata": {},
   "source": [
    "Il est possible d’importer de plusieurs manières ce type de fichier avec\n",
    "`Python`. Ce qu’on propose ici, c’est de le faire en deux temps, afin\n",
    "d’avoir un contrôle des options mises en oeuvre lors de l’import\n",
    "(notamment le format de certaines variables) :\n",
    "\n",
    "-   Utiliser `requests` pour télécharger le fichier et l’écrire, de\n",
    "    manière intermédiaire, sur le disque local ;\n",
    "-   Utiliser `pandas` avec quelques options pour importer le fichier\n",
    "    puis le manipuler."
   ]
  },
  {
   "cell_type": "markdown",
   "id": "96e04538-1c97-4f38-bbbe-c78450451de0",
   "metadata": {},
   "source": [
    "<!----- boite 🟢 ----->\n",
    "\n",
    "<div class=\"alert alert-warning\" role=\"alert\" style=\"color: rgba(0,0,0,.8); background-color: white; margin-top: 1em; margin-bottom: 1em; margin:1.5625emauto; padding:0 .6rem .8rem!important;overflow:hidden; page-break-inside:avoid; border-radius:.25rem; box-shadow:0 .2rem .5rem rgba(0,0,0,.05),0 0 .05rem rgba(0,0,0,.1); transition:color .25s,background-color .25s,border-color .25s ; border-right: 1px solid #dee2e6 ; border-top: 1px solid #dee2e6 ; border-bottom: 1px solid #dee2e6 ; border-left:.2rem solid #7cb342;\">\n",
    "<h3 class=\"alert-heading\"><i class=\"fa fa-pencil\"></i> Télécharger et importer OpenFoodFacts (🟢)</h3>\n",
    "\n",
    "\n",
    "<details>\n",
    "<summary>Dérouler pour révéler les instructions</summary>\n",
    "\n",
    "1.  Utiliser la fonction `requests.get` pour télécharger le fichier.\n",
    "    Vous pouvez vous inspirer de réponses\n",
    "    [ici](https://stackoverflow.com/questions/16694907/download-large-file-in-python-with-requests)\n",
    "\n",
    "2.  Utiliser `pd.read_csv` avec les options suivantes: + Le fichier\n",
    "    utilise `\\t` comme tabulation + Utiliser l’argument\n",
    "    `parse_dates=[\"created_datetime\", \"last_modified_datetime\", \"last_image_datetime\"]` +\n",
    "    Il est nécessaire de figer quelques types avec l’argument `dtype`.\n",
    "    Voici le dictionnaire à passer\n",
    "\n",
    "``` python\n",
    "{\n",
    "    \"code \": \"str\",\n",
    "    \"emb_codes\": \"str\",\n",
    "    \"emb_codes_tags\": \"str\",\n",
    "    \"energy_100g\": \"float\",\n",
    "    \"alcohol_100g\": \"float\",\n",
    "}\n",
    "```\n",
    "\n",
    "1.  Forcer la colonne `code` à être de type *string* avec la méthode\n",
    "    `.astype(str)`\n",
    "\n",
    "</details>\n",
    "</div>\n",
    "\n",
    "<!----- end 🟢 ----->"
   ]
  },
  {
   "cell_type": "markdown",
   "id": "c26c80a2-2d76-4679-88b3-549f002e54eb",
   "metadata": {},
   "source": [
    "<!----- boite 🔵 ----->\n",
    "\n",
    "<div class=\"alert alert-warning\" role=\"alert\" style=\"color: rgba(0,0,0,.8); background-color: white; margin-top: 1em; margin-bottom: 1em; margin:1.5625emauto; padding:0 .6rem .8rem!important;overflow:hidden; page-break-inside:avoid; border-radius:.25rem; box-shadow:0 .2rem .5rem rgba(0,0,0,.05),0 0 .05rem rgba(0,0,0,.1); transition:color .25s,background-color .25s,border-color .25s ; border-right: 1px solid #dee2e6 ; border-top: 1px solid #dee2e6 ; border-bottom: 1px solid #dee2e6 ; border-left:.2rem solid #1976d2;\">\n",
    "<h3 class=\"alert-heading\"><i class=\"fa fa-pencil\"></i> Télécharger et importer OpenFoodFacts (🔵)</h3>\n",
    "\n",
    "\n",
    "<details>\n",
    "<summary>Dérouler pour révéler les instructions</summary>\n",
    "\n",
    "1.  Utiliser le *package* `requests` pour télécharger le fichier. Si\n",
    "    vous voulez afficher une barre de progression, vous pouvez vous\n",
    "    inspirer de la fonction `download_pb` du package\n",
    "    [`cartiflette`](https://github.com/InseeFrLab/cartiflette)\n",
    "\n",
    "2.  Lire les données avec `pandas` avec les options suivantes: + Le\n",
    "    fichier utilise `\\t` comme tabulation + Utiliser l’argument\n",
    "    `parse_dates = [\"created_datetime\", \"last_modified_datetime\", \"last_image_datetime\"]` +\n",
    "    Il est nécessaire de figer, voici le dictionnaire à passer\n",
    "\n",
    "``` python\n",
    "{\n",
    "    \"code \": \"str\",\n",
    "    \"emb_codes\": \"str\",\n",
    "    \"emb_codes_tags\": \"str\",\n",
    "    \"energy_100g\": \"float\",\n",
    "    \"alcohol_100g\": \"float\",\n",
    "}\n",
    "```\n",
    "\n",
    "1.  Forcer la colonne `code` à être de type *string*\n",
    "\n",
    "</details>\n",
    "</div>\n",
    "\n",
    "<!----- end 🔵 ----->"
   ]
  },
  {
   "cell_type": "code",
   "execution_count": 7,
   "id": "fcabf0ae-10a2-42f8-819e-c9388a26cc43",
   "metadata": {},
   "outputs": [],
   "source": [
    "import requests \n",
    "\n",
    "re_openfood = requests.get(config[\"URL_OPENFOOD\"])"
   ]
  },
  {
   "cell_type": "code",
   "execution_count": 9,
   "id": "f44325e8-ae6f-46de-bc84-a63015b795bf",
   "metadata": {},
   "outputs": [],
   "source": [
    "from tqdm import tqdm"
   ]
  },
  {
   "cell_type": "code",
   "execution_count": 19,
   "id": "58133ae7-ddec-4345-9fb9-5b146bdbda1c",
   "metadata": {},
   "outputs": [
    {
     "name": "stderr",
     "output_type": "stream",
     "text": [
      "Downloading: : 735MiB [00:02, 369MiB/s] \n"
     ]
    }
   ],
   "source": [
    " with open(\"donnees.csv.gz\", \"wb\") as file, tqdm(\n",
    "        desc=\"Downloading: \",\n",
    "        unit=\"iB\",\n",
    "        unit_scale=True,\n",
    "        unit_divisor=1024,\n",
    "    ) as obj:\n",
    "        for data in re_openfood.iter_content(chunk_size=1024):\n",
    "            size = file.write(data)\n",
    "            obj.update(size)"
   ]
  },
  {
   "cell_type": "code",
   "execution_count": 14,
   "id": "b5420e16-569e-4028-8cc2-ac24740dbacb",
   "metadata": {},
   "outputs": [],
   "source": [
    "types_var = {\n",
    "    \"code \": \"str\",\n",
    "    \"emb_codes\": \"str\",\n",
    "    \"emb_codes_tags\": \"str\",\n",
    "    \"energy_100g\": \"float\",\n",
    "    \"alcohol_100g\": \"float\",\n",
    "}\n"
   ]
  },
  {
   "cell_type": "code",
   "execution_count": 21,
   "id": "02f2d36e-23fd-426a-97c2-f4d5637768ae",
   "metadata": {},
   "outputs": [
    {
     "name": "stderr",
     "output_type": "stream",
     "text": [
      "/tmp/ipykernel_213/3474760973.py:2: DtypeWarning: Columns (0) have mixed types. Specify dtype option on import or set low_memory=False.\n",
      "  openfood = pd.read_csv(\"donnees.csv.gz\",\n"
     ]
    }
   ],
   "source": [
    "import pandas as pd\n",
    "openfood = pd.read_csv(\"donnees.csv.gz\",\n",
    "            usecols = config['variables'],\n",
    "            parse_dates = [\"created_datetime\", \"last_modified_datetime\", \"last_image_datetime\"],\n",
    "            dtype = types_var,\n",
    "                              delimiter=\"\\t\",\n",
    "        encoding=\"utf-8\")"
   ]
  },
  {
   "cell_type": "code",
   "execution_count": 22,
   "id": "c758be60-0e14-4568-9dd3-2be642c936f4",
   "metadata": {},
   "outputs": [
    {
     "data": {
      "text/html": [
       "<div>\n",
       "<style scoped>\n",
       "    .dataframe tbody tr th:only-of-type {\n",
       "        vertical-align: middle;\n",
       "    }\n",
       "\n",
       "    .dataframe tbody tr th {\n",
       "        vertical-align: top;\n",
       "    }\n",
       "\n",
       "    .dataframe thead th {\n",
       "        text-align: right;\n",
       "    }\n",
       "</style>\n",
       "<table border=\"1\" class=\"dataframe\">\n",
       "  <thead>\n",
       "    <tr style=\"text-align: right;\">\n",
       "      <th></th>\n",
       "      <th>code</th>\n",
       "      <th>created_datetime</th>\n",
       "      <th>last_modified_datetime</th>\n",
       "      <th>product_name</th>\n",
       "      <th>nutriscore_grade</th>\n",
       "      <th>nova_group</th>\n",
       "      <th>ecoscore_grade</th>\n",
       "      <th>last_image_datetime</th>\n",
       "      <th>energy-kcal_100g</th>\n",
       "    </tr>\n",
       "  </thead>\n",
       "  <tbody>\n",
       "    <tr>\n",
       "      <th>0</th>\n",
       "      <td>00000000000000225</td>\n",
       "      <td>2021-06-16 14:53:28+00:00</td>\n",
       "      <td>2021-06-16 14:53:29+00:00</td>\n",
       "      <td>jeunes pousses</td>\n",
       "      <td>NaN</td>\n",
       "      <td>NaN</td>\n",
       "      <td>unknown</td>\n",
       "      <td>NaT</td>\n",
       "      <td>NaN</td>\n",
       "    </tr>\n",
       "    <tr>\n",
       "      <th>1</th>\n",
       "      <td>0000000000000207025004</td>\n",
       "      <td>2022-07-04 15:30:10+00:00</td>\n",
       "      <td>2022-07-04 15:30:13+00:00</td>\n",
       "      <td>Andrè</td>\n",
       "      <td>NaN</td>\n",
       "      <td>NaN</td>\n",
       "      <td>unknown</td>\n",
       "      <td>2022-07-04 15:30:13+00:00</td>\n",
       "      <td>165.0</td>\n",
       "    </tr>\n",
       "    <tr>\n",
       "      <th>2</th>\n",
       "      <td>00000000000003429145</td>\n",
       "      <td>2021-09-01 08:11:51+00:00</td>\n",
       "      <td>2023-04-28 01:40:29+00:00</td>\n",
       "      <td>L.casei</td>\n",
       "      <td>NaN</td>\n",
       "      <td>NaN</td>\n",
       "      <td>unknown</td>\n",
       "      <td>2021-09-01 08:11:52+00:00</td>\n",
       "      <td>NaN</td>\n",
       "    </tr>\n",
       "    <tr>\n",
       "      <th>3</th>\n",
       "      <td>00000000000026772226</td>\n",
       "      <td>2022-06-03 09:58:31+00:00</td>\n",
       "      <td>2022-06-03 15:34:34+00:00</td>\n",
       "      <td>Skyr</td>\n",
       "      <td>a</td>\n",
       "      <td>NaN</td>\n",
       "      <td>d</td>\n",
       "      <td>2022-06-03 09:58:34+00:00</td>\n",
       "      <td>57.0</td>\n",
       "    </tr>\n",
       "    <tr>\n",
       "      <th>4</th>\n",
       "      <td>0000000000017</td>\n",
       "      <td>2018-06-15 10:38:00+00:00</td>\n",
       "      <td>2019-06-25 11:55:18+00:00</td>\n",
       "      <td>Vitória crackers</td>\n",
       "      <td>NaN</td>\n",
       "      <td>NaN</td>\n",
       "      <td>unknown</td>\n",
       "      <td>2018-06-15 10:38:07+00:00</td>\n",
       "      <td>375.0</td>\n",
       "    </tr>\n",
       "    <tr>\n",
       "      <th>...</th>\n",
       "      <td>...</td>\n",
       "      <td>...</td>\n",
       "      <td>...</td>\n",
       "      <td>...</td>\n",
       "      <td>...</td>\n",
       "      <td>...</td>\n",
       "      <td>...</td>\n",
       "      <td>...</td>\n",
       "      <td>...</td>\n",
       "    </tr>\n",
       "    <tr>\n",
       "      <th>2911843</th>\n",
       "      <td>8076809575140</td>\n",
       "      <td>2019-05-02 15:43:08+00:00</td>\n",
       "      <td>2023-06-26 00:20:32+00:00</td>\n",
       "      <td>Pates aux lentilles rouges</td>\n",
       "      <td>a</td>\n",
       "      <td>1.0</td>\n",
       "      <td>b</td>\n",
       "      <td>2021-11-06 20:06:55+00:00</td>\n",
       "      <td>335.0</td>\n",
       "    </tr>\n",
       "    <tr>\n",
       "      <th>2911844</th>\n",
       "      <td>8076809576871</td>\n",
       "      <td>2019-11-29 13:49:42+00:00</td>\n",
       "      <td>2023-05-19 13:24:14+00:00</td>\n",
       "      <td>Pâtes Fettuccine</td>\n",
       "      <td>a</td>\n",
       "      <td>1.0</td>\n",
       "      <td>unknown</td>\n",
       "      <td>2019-11-29 13:49:43+00:00</td>\n",
       "      <td>373.0</td>\n",
       "    </tr>\n",
       "    <tr>\n",
       "      <th>2911845</th>\n",
       "      <td>8076809580427</td>\n",
       "      <td>2021-12-04 05:30:32+00:00</td>\n",
       "      <td>2023-06-16 16:33:53+00:00</td>\n",
       "      <td>Barilla sauce pesto genovese monoportion 90g</td>\n",
       "      <td>e</td>\n",
       "      <td>4.0</td>\n",
       "      <td>c</td>\n",
       "      <td>2022-12-22 05:30:37+00:00</td>\n",
       "      <td>517.0</td>\n",
       "    </tr>\n",
       "    <tr>\n",
       "      <th>2911846</th>\n",
       "      <td>8076809580458</td>\n",
       "      <td>2021-06-01 04:30:41+00:00</td>\n",
       "      <td>2023-06-13 10:39:50+00:00</td>\n",
       "      <td>Barilla sauce pesto rustico basilic &amp; olives 200g</td>\n",
       "      <td>c</td>\n",
       "      <td>3.0</td>\n",
       "      <td>c</td>\n",
       "      <td>2023-02-22 16:10:35+00:00</td>\n",
       "      <td>212.0</td>\n",
       "    </tr>\n",
       "    <tr>\n",
       "      <th>2911847</th>\n",
       "      <td>8076809581868</td>\n",
       "      <td>2022-04-16 04:30:17+00:00</td>\n",
       "      <td>2023-06-16 16:33:24+00:00</td>\n",
       "      <td>Barilla pesto pistache et basilic 190g</td>\n",
       "      <td>d</td>\n",
       "      <td>4.0</td>\n",
       "      <td>d</td>\n",
       "      <td>2023-04-23 07:30:30+00:00</td>\n",
       "      <td>477.0</td>\n",
       "    </tr>\n",
       "  </tbody>\n",
       "</table>\n",
       "<p>2911848 rows × 9 columns</p>\n",
       "</div>"
      ],
      "text/plain": [
       "                           code          created_datetime  \\\n",
       "0             00000000000000225 2021-06-16 14:53:28+00:00   \n",
       "1        0000000000000207025004 2022-07-04 15:30:10+00:00   \n",
       "2          00000000000003429145 2021-09-01 08:11:51+00:00   \n",
       "3          00000000000026772226 2022-06-03 09:58:31+00:00   \n",
       "4                 0000000000017 2018-06-15 10:38:00+00:00   \n",
       "...                         ...                       ...   \n",
       "2911843           8076809575140 2019-05-02 15:43:08+00:00   \n",
       "2911844           8076809576871 2019-11-29 13:49:42+00:00   \n",
       "2911845           8076809580427 2021-12-04 05:30:32+00:00   \n",
       "2911846           8076809580458 2021-06-01 04:30:41+00:00   \n",
       "2911847           8076809581868 2022-04-16 04:30:17+00:00   \n",
       "\n",
       "           last_modified_datetime  \\\n",
       "0       2021-06-16 14:53:29+00:00   \n",
       "1       2022-07-04 15:30:13+00:00   \n",
       "2       2023-04-28 01:40:29+00:00   \n",
       "3       2022-06-03 15:34:34+00:00   \n",
       "4       2019-06-25 11:55:18+00:00   \n",
       "...                           ...   \n",
       "2911843 2023-06-26 00:20:32+00:00   \n",
       "2911844 2023-05-19 13:24:14+00:00   \n",
       "2911845 2023-06-16 16:33:53+00:00   \n",
       "2911846 2023-06-13 10:39:50+00:00   \n",
       "2911847 2023-06-16 16:33:24+00:00   \n",
       "\n",
       "                                              product_name nutriscore_grade  \\\n",
       "0                                           jeunes pousses              NaN   \n",
       "1                                                    Andrè              NaN   \n",
       "2                                                  L.casei              NaN   \n",
       "3                                                     Skyr                a   \n",
       "4                                         Vitória crackers              NaN   \n",
       "...                                                    ...              ...   \n",
       "2911843                         Pates aux lentilles rouges                a   \n",
       "2911844                                   Pâtes Fettuccine                a   \n",
       "2911845       Barilla sauce pesto genovese monoportion 90g                e   \n",
       "2911846  Barilla sauce pesto rustico basilic & olives 200g                c   \n",
       "2911847             Barilla pesto pistache et basilic 190g                d   \n",
       "\n",
       "         nova_group ecoscore_grade       last_image_datetime  energy-kcal_100g  \n",
       "0               NaN        unknown                       NaT               NaN  \n",
       "1               NaN        unknown 2022-07-04 15:30:13+00:00             165.0  \n",
       "2               NaN        unknown 2021-09-01 08:11:52+00:00               NaN  \n",
       "3               NaN              d 2022-06-03 09:58:34+00:00              57.0  \n",
       "4               NaN        unknown 2018-06-15 10:38:07+00:00             375.0  \n",
       "...             ...            ...                       ...               ...  \n",
       "2911843         1.0              b 2021-11-06 20:06:55+00:00             335.0  \n",
       "2911844         1.0        unknown 2019-11-29 13:49:43+00:00             373.0  \n",
       "2911845         4.0              c 2022-12-22 05:30:37+00:00             517.0  \n",
       "2911846         3.0              c 2023-02-22 16:10:35+00:00             212.0  \n",
       "2911847         4.0              d 2023-04-23 07:30:30+00:00             477.0  \n",
       "\n",
       "[2911848 rows x 9 columns]"
      ]
     },
     "execution_count": 22,
     "metadata": {},
     "output_type": "execute_result"
    }
   ],
   "source": [
    "openfood"
   ]
  },
  {
   "cell_type": "markdown",
   "id": "44478e94-2479-4a34-a394-58a95e0a90a9",
   "metadata": {},
   "source": [
    "<!----- boite 🔴,⚫ ----->\n",
    "\n",
    "<div class=\"alert alert-warning\" role=\"alert\" style=\"color: rgba(0,0,0,.8); background-color: white; margin-top: 1em; margin-bottom: 1em; margin:1.5625emauto; padding:0 .6rem .8rem!important;overflow:hidden; page-break-inside:avoid; border-radius:.25rem; box-shadow:0 .2rem .5rem rgba(0,0,0,.05),0 0 .05rem rgba(0,0,0,.1); transition:color .25s,background-color .25s,border-color .25s ; border-right: 1px solid #dee2e6 ; border-top: 1px solid #dee2e6 ; border-bottom: 1px solid #dee2e6 ; border-left:.2rem solid #9c9797;\">\n",
    "<h3 class=\"alert-heading\"><i class=\"fa fa-pencil\"></i> Télécharger et importer OpenFoodFacts (🔴,⚫)</h3>\n",
    "\n",
    "\n",
    "<details>\n",
    "<summary>Dérouler pour révéler les instructions</summary>\n",
    "\n",
    "1.  Télécharger le fichier avec `Python`. Pour s’assurer de la\n",
    "    progression du téléchargement, utiliser également la librairie\n",
    "    `tqdm`.\n",
    "\n",
    "2.  Lire les données avec `pandas` avec les options suivantes: + Le\n",
    "    fichier utilise `\\t` comme tabulation + Utiliser l’argument\n",
    "    `parse_dates = [\"created_datetime\", \"last_modified_datetime\", \"last_image_datetime\"]` +\n",
    "    Il est nécessaire de figer, voici le dictionnaire à passer\n",
    "\n",
    "``` python\n",
    "{\n",
    "    \"code \": \"str\",\n",
    "    \"emb_codes\": \"str\",\n",
    "    \"emb_codes_tags\": \"str\",\n",
    "    \"energy_100g\": \"float\",\n",
    "    \"alcohol_100g\": \"float\",\n",
    "}\n",
    "```\n",
    "\n",
    "1.  Forcer la colonne `code` à être de type *string*\n",
    "\n",
    "</details>\n",
    "</div>\n",
    "\n",
    "<!----- end 🔴,⚫ ----->"
   ]
  },
  {
   "cell_type": "code",
   "execution_count": 15,
   "id": "import-openfood-solution",
   "metadata": {},
   "outputs": [],
   "source": [
    "# Solution pour voie 🟡\n",
    "from utils.preprocess_openfood import download_openfood, import_openfood\n",
    "download_openfood(destination = \"openfood.csv.gz\")\n",
    "openfood = import_openfood(\"openfood.csv.gz\")\n",
    "openfood.loc[:, ['code', 'product_name', 'energy-kcal_100g', 'nutriscore_grade']].sample(5, random_state = 12345)"
   ]
  },
  {
   "cell_type": "markdown",
   "id": "a0e185eb-68e4-404c-95d2-2331e8526bad",
   "metadata": {},
   "source": [
    "L’objectif de l’application est de proposer pour un produit donné\n",
    "quelques statistiques descriptives. On propose de se focaliser sur trois\n",
    "scores :\n",
    "\n",
    "-   Le\n",
    "    [**nutriscore**](https://www.santepubliquefrance.fr/determinants-de-sante/nutrition-et-activite-physique/articles/nutri-score)\n",
    "    ;\n",
    "-   Le [**score Nova**](https://fr.openfoodfacts.org/nova) indiquant le\n",
    "    degré de transformation d’un produit ;\n",
    "-   L’[**écoscore**](https://docs.score-environnemental.com/), une\n",
    "    mesure de l’empreinte carbone d’un produit ;\n",
    "\n",
    "Ces scores ne sont pas systématiquement disponibles sur `OpenFoodFacts`\n",
    "mais une part croissante des données présente ces informations\n",
    "(directement renseignées ou imputées)."
   ]
  },
  {
   "cell_type": "code",
   "execution_count": 17,
   "id": "c4cc0713",
   "metadata": {},
   "outputs": [],
   "source": [
    "indices_synthetiques = ['nutriscore_grade', 'nova_group', 'ecoscore_grade']"
   ]
  },
  {
   "cell_type": "markdown",
   "id": "1ca5f4ea-1dc2-409c-aa9e-bdf7b44d1a96",
   "metadata": {},
   "source": [
    "Le bloc de code ci-dessous propose d’harmoniser le format de ces scores\n",
    "pour faciliter la représentation graphique ultérieure.\n",
    "\n",
    "Comme il ne s’agit pas du coeur du sujet, il est donné directement à\n",
    "tous les parcours. Le code source de cette fonction est disponible dans\n",
    "le module `utils.pipeline`:"
   ]
  },
  {
   "cell_type": "code",
   "execution_count": 18,
   "id": "42e24096",
   "metadata": {},
   "outputs": [],
   "source": [
    "import pandas as pd\n",
    "from utils.pipeline import clean_note\n",
    "\n",
    "indices_synthetiques = ['nutriscore_grade', 'nova_group', 'ecoscore_grade']\n",
    "\n",
    "openfood.loc[:, indices_synthetiques] = pd.concat(\n",
    "        [clean_note(openfood, s, \"wide\") for s in indices_synthetiques],\n",
    "        axis = 1\n",
    "    )"
   ]
  },
  {
   "cell_type": "markdown",
   "id": "10d3c1aa-9c07-42e0-8e8a-6f62c439fb41",
   "metadata": {},
   "source": [
    "## 1.3. Classification automatique dans une nomenclature de produits (🟡,🟢,🔵,🔴,⚫)\n",
    "\n",
    "Pour proposer sur notre application quelques statistiques pertinentes\n",
    "sur le produit, nous allons associer chaque ligne d’`OpenFoodFacts` à un\n",
    "type de produit dans la `COICOP` pour pouvoir comparer un produit à des\n",
    "produits similaires.\n",
    "\n",
    "Nous allons ainsi utiliser le nom du produit pour inférer le type de\n",
    "bien dont il s’agit.\n",
    "\n",
    "Pour cela, dans les parcours 🟡,🟢 et 🔵, nous allons d’utiliser un\n",
    "classifieur expérimental proposé sur\n",
    "[`Github InseeFrLab/predicat`](https://github.com/InseeFrLab/predicat)\n",
    "qui a été entrainé sur cette tâche sur un grand volume de données (non\n",
    "spécifiquement alimentaires).\n",
    "\n",
    "Pour les parcours 🔴 et ⚫, nous proposons également d’utiliser ce\n",
    "classifieur. Néanmoins, une voie bis est possible pour entraîner\n",
    "soi-même un classifieur en utilisant la catégorisation des données\n",
    "disponible directement dans `OpenFoodFacts`. Il est proposé d’utiliser\n",
    "`Fasttext` (une librairie spécialisée open-source, développée par `Meta`\n",
    "il y a quelques années) dans le cadre de la voie 🔴. Les personnes\n",
    "suivant la voie ⚫ sont libres d’utiliser n’importe quel *framework* de\n",
    "classification, par exemple un modèle disponible sur\n",
    "[HuggingFace](https://huggingface.co/)."
   ]
  },
  {
   "cell_type": "markdown",
   "id": "f1b09eeb-ad06-4a1e-ae77-6461dab2b35f",
   "metadata": {},
   "source": [
    "<!----- boite 🟢 ----->\n",
    "\n",
    "<div class=\"alert alert-warning\" role=\"alert\" style=\"color: rgba(0,0,0,.8); background-color: white; margin-top: 1em; margin-bottom: 1em; margin:1.5625emauto; padding:0 .6rem .8rem!important;overflow:hidden; page-break-inside:avoid; border-radius:.25rem; box-shadow:0 .2rem .5rem rgba(0,0,0,.05),0 0 .05rem rgba(0,0,0,.1); transition:color .25s,background-color .25s,border-color .25s ; border-right: 1px solid #dee2e6 ; border-top: 1px solid #dee2e6 ; border-bottom: 1px solid #dee2e6 ; border-left:.2rem solid #7cb342;\">\n",
    "<h3 class=\"alert-heading\"><i class=\"fa fa-pencil\"></i> Nettoyer les données textuelles (🟢)</h3>\n",
    "\n",
    "\n",
    "<details>\n",
    "<summary>Dérouler pour révéler les instructions</summary>\n",
    "\n",
    "1.  Récupérer le dictionnaire de règles dans [ce\n",
    "    fichier](https://raw.githubusercontent.com/InseeFrLab/predicat/master/app/utils_ddc.py)\n",
    "2.  Créer une colonne `preprocessed_labels` en appliquant la méthode\n",
    "    `str.upper` à la colonne `product_name` afin de la mettre en\n",
    "    majuscule\n",
    "3.  Modifier le `DataFrame` avec la syntaxe prenant la forme\n",
    "    `data.replace({variable: dict_rules_replacement}, regex=True)`\n",
    "4.  Observer les cas où il y a eu des changements, par exemple de la\n",
    "    manière suivante\n",
    "\n",
    "``` python\n",
    "(openfood\n",
    "    .dropna(subset = [\"product_name\", \"preprocessed_labels\"])\n",
    "    .loc[\n",
    "        openfood[\"product_name\"].str.upper() != openfood[\"preprocessed_labels\"],\n",
    "        [\"product_name\", \"preprocessed_labels\"]\n",
    "    ]\n",
    ")\n",
    "```\n",
    "\n",
    "</details>\n",
    "</div>\n",
    "\n",
    "<!----- end 🟢 ----->"
   ]
  },
  {
   "cell_type": "markdown",
   "id": "d29febfd-b45f-493e-8c0b-2a4684e14320",
   "metadata": {},
   "source": [
    "<!----- boite 🔵 ----->\n",
    "\n",
    "<div class=\"alert alert-warning\" role=\"alert\" style=\"color: rgba(0,0,0,.8); background-color: white; margin-top: 1em; margin-bottom: 1em; margin:1.5625emauto; padding:0 .6rem .8rem!important;overflow:hidden; page-break-inside:avoid; border-radius:.25rem; box-shadow:0 .2rem .5rem rgba(0,0,0,.05),0 0 .05rem rgba(0,0,0,.1); transition:color .25s,background-color .25s,border-color .25s ; border-right: 1px solid #dee2e6 ; border-top: 1px solid #dee2e6 ; border-bottom: 1px solid #dee2e6 ; border-left:.2rem solid #1976d2;\">\n",
    "<h3 class=\"alert-heading\"><i class=\"fa fa-pencil\"></i> Nettoyer les données textuelles (🔵)</h3>\n",
    "\n",
    "\n",
    "<details>\n",
    "<summary>Dérouler pour révéler les instructions</summary>\n",
    "\n",
    "1.  Récupérer le dictionnaire de règles dans [ce\n",
    "    fichier](https://raw.githubusercontent.com/InseeFrLab/predicat/master/app/utils_ddc.py)\n",
    "2.  Créer une colonne `preprocessed_labels` mettant en majuscule la\n",
    "    colonne `product_name`\n",
    "3.  Modifier le `DataFrame` avec la syntaxe utilisant la méthode\n",
    "    `replace` (celle qui s’applique aux `DataFrame`, pas celle\n",
    "    s’appliquant à une `Serie`) et le dictionnaire adapté\n",
    "4.  Observer les cas où il y a eu des changements,\n",
    "\n",
    "</details>\n",
    "</div>\n",
    "\n",
    "<!----- end 🔵 ----->"
   ]
  },
  {
   "cell_type": "markdown",
   "id": "734736aa-22f4-40f9-8797-a91747cad959",
   "metadata": {},
   "source": [
    "<!----- boite 🔴 ----->\n",
    "\n",
    "<div class=\"alert alert-warning\" role=\"alert\" style=\"color: rgba(0,0,0,.8); background-color: white; margin-top: 1em; margin-bottom: 1em; margin:1.5625emauto; padding:0 .6rem .8rem!important;overflow:hidden; page-break-inside:avoid; border-radius:.25rem; box-shadow:0 .2rem .5rem rgba(0,0,0,.05),0 0 .05rem rgba(0,0,0,.1); transition:color .25s,background-color .25s,border-color .25s ; border-right: 1px solid #dee2e6 ; border-top: 1px solid #dee2e6 ; border-bottom: 1px solid #dee2e6 ; border-left:.2rem solid #f44336;\">\n",
    "<h3 class=\"alert-heading\"><i class=\"fa fa-pencil\"></i> Nettoyer les données textuelles (🔴)</h3>\n",
    "\n",
    "\n",
    "<details>\n",
    "<summary>Dérouler pour révéler les instructions</summary>\n",
    "\n",
    "1.  Récupérer le dictionnaire de règles dans [ce\n",
    "    fichier](https://raw.githubusercontent.com/InseeFrLab/predicat/master/app/utils_ddc.py)\n",
    "2.  Créer une colonne `preprocessed_labels` appliquant les remplacements\n",
    "    à `product_name` grâce à la méthode `replace` (celle qui s’applique\n",
    "    aux `DataFrame`, pas celle s’appliquant à une `Serie`)\n",
    "3.  Observer les cas où il y a eu des changements\n",
    "\n",
    "</details>\n",
    "</div>\n",
    "\n",
    "<!----- end 🔴 ----->"
   ]
  },
  {
   "cell_type": "markdown",
   "id": "ad3170f5-11d4-4f84-a9b9-51843191b732",
   "metadata": {},
   "source": [
    "<!----- boite ⚫ ----->\n",
    "\n",
    "<div class=\"alert alert-warning\" role=\"alert\" style=\"color: rgba(0,0,0,.8); background-color: white; margin-top: 1em; margin-bottom: 1em; margin:1.5625emauto; padding:0 .6rem .8rem!important;overflow:hidden; page-break-inside:avoid; border-radius:.25rem; box-shadow:0 .2rem .5rem rgba(0,0,0,.05),0 0 .05rem rgba(0,0,0,.1); transition:color .25s,background-color .25s,border-color .25s ; border-right: 1px solid #dee2e6 ; border-top: 1px solid #dee2e6 ; border-bottom: 1px solid #dee2e6 ; border-left:.2rem solid #424242;\">\n",
    "<h3 class=\"alert-heading\"><i class=\"fa fa-pencil\"></i> Nettoyer les données textuelles (⚫)</h3>\n",
    "\n",
    "\n",
    "<details>\n",
    "<summary>Dérouler pour révéler les instructions</summary>\n",
    "\n",
    "1.  Récupérer le dictionnaire de règles dans [ce\n",
    "    fichier](https://raw.githubusercontent.com/InseeFrLab/predicat/master/app/utils_ddc.py)\n",
    "2.  Créer une colonne `preprocessed_labels` appliquant les remplacements\n",
    "    à `product_name`\n",
    "3.  Observer les cas où il y a eu des changements\n",
    "\n",
    "</details>\n",
    "</div>\n",
    "\n",
    "<!----- end ⚫ ----->"
   ]
  },
  {
   "cell_type": "markdown",
   "id": "7b3e1da1-a176-4212-b244-b882adb266ad",
   "metadata": {},
   "source": [
    "Dans un premier temps, on récupère les fonctions permettant d’appliquer\n",
    "sur nos données le même *preprocessing* que celui qui a été mis en\n",
    "oeuvre lors de l’entraînement du modèle:"
   ]
  },
  {
   "cell_type": "code",
   "execution_count": 23,
   "id": "get-utils-ddc",
   "metadata": {
    "jupyter": {
     "source_hidden": true
    }
   },
   "outputs": [],
   "source": [
    "# Solution pour voie 🟡 et 🟢\n",
    "from utils.download_pb import download_pb\n",
    "download_pb(\"https://raw.githubusercontent.com/InseeFrLab/predicat/master/app/utils_ddc.py\", \"utils/utils_ddc.py\")"
   ]
  },
  {
   "cell_type": "markdown",
   "id": "32c90b88-6f8b-41fd-9365-6c90ac8f67cf",
   "metadata": {},
   "source": [
    "Pour observer les nettoyages de champs textuels mis en oeuvre, les\n",
    "lignes suivantes peuvent être exécutées:"
   ]
  },
  {
   "cell_type": "code",
   "execution_count": 24,
   "id": "ea4d9ce9",
   "metadata": {
    "jupyter": {
     "source_hidden": true
    }
   },
   "outputs": [],
   "source": [
    "from utils.utils_ddc import replace_values_ean\n",
    "replace_values_ean"
   ]
  },
  {
   "cell_type": "markdown",
   "id": "918cdb2b-2c0c-4e6f-83df-1897d97fbfcc",
   "metadata": {},
   "source": [
    "Pour effectuer des remplacements dans des champs textuels, le plus\n",
    "simple est d’utiliser les expressions régulières (`regex`). Vous pouvez\n",
    "trouver une ressource complète sur le sujet dans [ce cours de `Python`\n",
    "de l’ENSAE](https://pythonds.linogaliana.fr/regex/).\n",
    "\n",
    "Deux options s’offrent à nous:\n",
    "\n",
    "-   Utiliser le *package* `re` et boucler sur les lignes\n",
    "-   Utiliser les fonctionnalités très pratiques de `Pandas`\n",
    "\n",
    "Nous privilégierons la deuxième approche, plus naturelle quand on\n",
    "utilise des `DataFrames` et plus efficace puisqu’elle est nativement\n",
    "intégrée à `Pandas`.\n",
    "\n",
    "La syntaxe prend la forme suivante :\n",
    "\n",
    "``` python\n",
    "data.replace({variable: dict_rules_replacement}, regex=True)\n",
    "```\n",
    "\n",
    "C’est celle qui est implémentée dans la fonction *ad hoc* du script\n",
    "`utils/preprocess_openfood.py`. Cette dernière s’utilise de la manière\n",
    "suivante:"
   ]
  },
  {
   "cell_type": "code",
   "execution_count": 25,
   "id": "3d8416ca",
   "metadata": {
    "jupyter": {
     "source_hidden": true
    }
   },
   "outputs": [],
   "source": [
    "from utils.utils_ddc import replace_values_ean\n",
    "from utils.preprocess_openfood import clean_column_dataset\n",
    "openfood = clean_column_dataset(\n",
    "        openfood, replace_values_ean,\n",
    "        \"product_name\", \"preprocessed_labels\"\n",
    ")"
   ]
  },
  {
   "cell_type": "markdown",
   "id": "c9ac8007-c76b-43ff-b270-e58dbe02f45a",
   "metadata": {},
   "source": [
    "Voici quelques cas où notre nettoyage de données a modifié le nom du\n",
    "produit :"
   ]
  },
  {
   "cell_type": "code",
   "execution_count": 26,
   "id": "eb04665f",
   "metadata": {
    "jupyter": {
     "source_hidden": true
    }
   },
   "outputs": [],
   "source": [
    "(openfood\n",
    "    .dropna(subset = [\"product_name\", \"preprocessed_labels\"])\n",
    "    .loc[\n",
    "        openfood[\"product_name\"].str.upper() != openfood[\"preprocessed_labels\"],\n",
    "        [\"product_name\", \"preprocessed_labels\"]\n",
    "    ]\n",
    ")"
   ]
  },
  {
   "cell_type": "markdown",
   "id": "fdcc6a60-ddd5-4d08-8423-bc0898784a90",
   "metadata": {},
   "source": [
    "On peut remarquer que pour aller plus loin et améliorer la normalisation\n",
    "des champs, il serait pertinent d’appliquer un certain nombre de\n",
    "nettoyages supplémentaires, comme le retrait des mots de liaison (*stop\n",
    "words*). Des exemples de ce type de nettoyages sont présents dans le\n",
    "[cours de `Python` de\n",
    "l’ENSAE](https://pythonds.linogaliana.fr/nlpintro/).\n",
    "\n",
    "Cela est laissé comme exercice aux voies 🔴 et ⚫."
   ]
  },
  {
   "cell_type": "markdown",
   "id": "7584b190-d930-4a76-9106-ea2f51df476d",
   "metadata": {},
   "source": [
    "<!----- boite 🔴,⚫ ----->\n",
    "\n",
    "<div class=\"alert alert-warning\" role=\"alert\" style=\"color: rgba(0,0,0,.8); background-color: white; margin-top: 1em; margin-bottom: 1em; margin:1.5625emauto; padding:0 .6rem .8rem!important;overflow:hidden; page-break-inside:avoid; border-radius:.25rem; box-shadow:0 .2rem .5rem rgba(0,0,0,.05),0 0 .05rem rgba(0,0,0,.1); transition:color .25s,background-color .25s,border-color .25s ; border-right: 1px solid #dee2e6 ; border-top: 1px solid #dee2e6 ; border-bottom: 1px solid #dee2e6 ; border-left:.2rem solid #9c9797;\">\n",
    "<h3 class=\"alert-heading\"><i class=\"fa fa-pencil\"></i> Normaliser les champs textuels (🔴,⚫)</h3>\n",
    "\n",
    "\n",
    "<details>\n",
    "<summary>Dérouler pour révéler les instructions</summary>\n",
    "\n",
    "Utiliser `NLTK` ou `SpaCy` (solution préférable) pour ajouter des\n",
    "nettoyages de champs textuels\n",
    "\n",
    "</details>\n",
    "</div>\n",
    "\n",
    "<!----- end 🔴,⚫ ----->"
   ]
  },
  {
   "cell_type": "markdown",
   "id": "0b552f5b-f9ac-4c1a-8ed8-ed76b71d9fa9",
   "metadata": {},
   "source": [
    "On peut maintenant se tourner vers la classification à proprement\n",
    "parler. Pour celle-ci, on propose d’utiliser un modèle qui a été\n",
    "entrainé avec la librairie [`Fasttext`](https://fasttext.cc/). Voici\n",
    "comment récupérer le modèle et le tester sur un exemple très basique:"
   ]
  },
  {
   "cell_type": "code",
   "execution_count": 28,
   "id": "312a8792",
   "metadata": {
    "jupyter": {
     "source_hidden": true
    }
   },
   "outputs": [],
   "source": [
    "from utils.download_pb import download_pb\n",
    "import os\n",
    "import fasttext\n",
    "\n",
    "if os.path.exists(\"fasttext_coicop.bin\") is False:\n",
    "    download_pb(\n",
    "        url = config[\"URL_FASTTEXT_MINIO\"],\n",
    "        fname = \"fasttext_coicop.bin\"\n",
    "    )\n",
    "\n",
    "\n",
    "model = fasttext.load_model(\"fasttext_coicop.bin\")\n",
    "model.predict(\"RATATOUILLE\")"
   ]
  },
  {
   "cell_type": "markdown",
   "id": "d10f4c8d-b9a5-4c99-ac30-35a6319bae27",
   "metadata": {},
   "source": [
    "Le résultat est peu intelligible. En effet, cela demande une bonne\n",
    "connaissance de la COICOP pour savoir de manière intuitive que cela\n",
    "correspond à la catégorie [*“Autres plats cuisinés à base de\n",
    "légumes”*](https://www.insee.fr/fr/statistiques/serie/001764476).\n",
    "\n",
    "Avant de généraliser le classifieur à l’ensemble de nos données, on se\n",
    "propose donc de récupérer les noms des COICOP depuis le site\n",
    "[insee.fr](https://www.insee.fr/fr/metadonnees/coicop2016/division/01?champRecherche=true).\n",
    "Comme cela ne présente pas de défi majeur, le code est directement\n",
    "proposé, quelle que soit la voie empruntée:"
   ]
  },
  {
   "cell_type": "code",
   "execution_count": 29,
   "id": "303439cd",
   "metadata": {
    "jupyter": {
     "source_hidden": true
    }
   },
   "outputs": [],
   "source": [
    "def import_coicop_labels(url: str) -> pd.DataFrame:\n",
    "    coicop = pd.read_excel(url, skiprows=1)\n",
    "    coicop['Code'] = coicop['Code'].str.replace(\"'\", \"\")\n",
    "    coicop = coicop.rename({\"Libellé\": \"category\"}, axis = \"columns\")\n",
    "    return coicop\n",
    "    \n",
    "coicop = import_coicop_labels(\n",
    "    \"https://www.insee.fr/fr/statistiques/fichier/2402696/coicop2016_liste_n5.xls\"\n",
    ")\n",
    "\n",
    "# Verification de la COICOP rencontrée plus haut\n",
    "coicop.loc[coicop[\"Code\"].str.contains(\"01.1.7.3.2\")]"
   ]
  },
  {
   "cell_type": "markdown",
   "id": "77d1fe9e-b66b-484b-85b4-8a4947bd5f36",
   "metadata": {},
   "source": [
    "Maintenant nous avons tous les ingrédients pour généraliser notre\n",
    "approche. L’application en série de prédictions via `Fasttext` étant un\n",
    "peu fastidieuse et peu élégante (elle nécessite d’être à l’aise avec les\n",
    "listes `Python`) et n’étant pas le centre de notre sujet, la fonction\n",
    "suivante est fournie pour effectuer cette opération :"
   ]
  },
  {
   "cell_type": "code",
   "execution_count": 30,
   "id": "ce08dbc5",
   "metadata": {
    "jupyter": {
     "source_hidden": true
    }
   },
   "outputs": [],
   "source": [
    "def model_predict_coicop(data, model, product_column: str = \"preprocessed_labels\", output_column: str = \"coicop\"):\n",
    "    predictions = pd.DataFrame(\n",
    "        {\n",
    "        output_column: \\\n",
    "            [k[0] for k in model.predict(\n",
    "                [str(libel) for libel in data[product_column]], k = 1\n",
    "                )[0]]\n",
    "        })\n",
    "\n",
    "    data[output_column] = predictions[output_column].str.replace(r'__label__', '')\n",
    "    return data\n",
    "\n",
    "openfood = model_predict_coicop(openfood, model)"
   ]
  },
  {
   "cell_type": "markdown",
   "id": "463dfcf2-963f-4117-a75f-4fcab9f2d71f",
   "metadata": {},
   "source": [
    "## 1.3.bis Version alternative via l’API [`predicat`](https://github.com/InseeFrLab/predicat) (🟡,🟢,🔵,🔴,⚫)\n",
    "\n",
    "L’utilisation d’API pour accéder à des données devient de plus en plus\n",
    "fréquente. Si vous êtes peu familiers avec les API, vous pouvez\n",
    "consulter ce [chapitre du cours de `Python` de\n",
    "l’ENSAE](https://pythonds.linogaliana.fr/api/) ou de la documentation\n",
    "[`utilitR` (langage\n",
    "`R`)](https://www.book.utilitr.org/03_fiches_thematiques/fiche_api)\n",
    "\n",
    "Les API peuvent servir à faire beaucoup plus que récupérer des données.\n",
    "Elles sont notamment de plus en plus utilisées pour récupérer des\n",
    "prédictions d’un modèle. La plateforme\n",
    "[`HuggingFace`](https://huggingface.co/) est très appréciée pour cela:\n",
    "elle a grandement facilité la réutilisation de modèles mis en\n",
    "disposition en *open source*. Cette approche a principalement deux\n",
    "avantages:\n",
    "\n",
    "-   Elle permet d’appliquer sur les données fournies en entrée\n",
    "    exactement les mêmes pré-traitement que sur les données\n",
    "    d’entrainement. Ceci renforce la fiabilité des prédictions.\n",
    "-   Elle facilite le travail des *data scientists* ou statisticiens car\n",
    "    ils ne sont plus obligés de mettre en place des fonctions\n",
    "    compliquées pour passer les prédictions dans une colonne de\n",
    "    `DataFrame`.\n",
    "\n",
    "Ici, nous proposons de tester une API mise à disposition de manière\n",
    "expérimentale pour faciliter la réutilisation de notre modèle de\n",
    "classification dans la nomenclature COICOP.\n",
    "\n",
    "Cette API s’appelle `predicat` et son code source est disponible sur\n",
    "[`Github`](https://github.com/InseeFrLab/predicat).\n",
    "\n",
    "Pour les parcours 🟡,🟢,🔵, nous suggérons de se cantonner à tester\n",
    "quelques exemples. Pour les parcours 🔴 et ⚫ qui voudraient se tester\n",
    "sur les API, nous proposons de généraliser ces appels à\n",
    "[`predicat`](https://github.com/InseeFrLab/predicat) pour classifier\n",
    "toutes nos données."
   ]
  },
  {
   "cell_type": "markdown",
   "id": "f5a0751f-3420-429a-983e-d45801cc5a00",
   "metadata": {},
   "source": [
    "<!----- boite 🔴,⚫ ----->\n",
    "\n",
    "<div class=\"alert alert-warning\" role=\"alert\" style=\"color: rgba(0,0,0,.8); background-color: white; margin-top: 1em; margin-bottom: 1em; margin:1.5625emauto; padding:0 .6rem .8rem!important;overflow:hidden; page-break-inside:avoid; border-radius:.25rem; box-shadow:0 .2rem .5rem rgba(0,0,0,.05),0 0 .05rem rgba(0,0,0,.1); transition:color .25s,background-color .25s,border-color .25s ; border-right: 1px solid #dee2e6 ; border-top: 1px solid #dee2e6 ; border-bottom: 1px solid #dee2e6 ; border-left:.2rem solid #9c9797;\">\n",
    "<h3 class=\"alert-heading\"><i class=\"fa fa-pencil\"></i> Consommer un modèle sous forme d'API (🔴,⚫)</h3>\n",
    "\n",
    "\n",
    "<details>\n",
    "<summary>Dérouler pour révéler les instructions</summary>\n",
    "\n",
    "Appliquer l’API [`predicat`](https://github.com/InseeFrLab/predicat) en\n",
    "série pour catégoriser l’ensemble des données\n",
    "\n",
    "</details>\n",
    "</div>\n",
    "\n",
    "<!----- end 🔴,⚫ ----->"
   ]
  },
  {
   "cell_type": "markdown",
   "id": "d440b1cd-214f-4d47-9ecb-aaafc6ed6170",
   "metadata": {},
   "source": [
    "Voici, pour les parcours 🟡,🟢,🔵, un exemple d’utilisation:"
   ]
  },
  {
   "cell_type": "code",
   "execution_count": 32,
   "id": "bf46444e",
   "metadata": {
    "jupyter": {
     "source_hidden": true
    }
   },
   "outputs": [],
   "source": [
    "import requests\n",
    "\n",
    "def predict_from_api(product_name):\n",
    "    url_api = f\"https://api.lab.sspcloud.fr/predicat/label?k=1&q=%27{product_name}%27\"\n",
    "    output_api_predicat = requests.get(url_api).json()\n",
    "    coicop_found = output_api_predicat['coicop'][f\"'{product_name}'\"][0]['label']\n",
    "    return coicop_found\n",
    "\n",
    "predict_from_api(\"Ratatouille\")"
   ]
  },
  {
   "cell_type": "markdown",
   "id": "5f0e30a7-cb21-4ca3-8056-770086d98cab",
   "metadata": {},
   "source": [
    "Pour le parcours 🔵, voici un exercice pour tester sur un échantillon\n",
    "des données de l’`OpenFoodFacts`"
   ]
  },
  {
   "cell_type": "markdown",
   "id": "7463721f-8166-4977-991f-b7ed75211a41",
   "metadata": {},
   "source": [
    "<!----- boite 🔵 ----->\n",
    "\n",
    "<div class=\"alert alert-warning\" role=\"alert\" style=\"color: rgba(0,0,0,.8); background-color: white; margin-top: 1em; margin-bottom: 1em; margin:1.5625emauto; padding:0 .6rem .8rem!important;overflow:hidden; page-break-inside:avoid; border-radius:.25rem; box-shadow:0 .2rem .5rem rgba(0,0,0,.05),0 0 .05rem rgba(0,0,0,.1); transition:color .25s,background-color .25s,border-color .25s ; border-right: 1px solid #dee2e6 ; border-top: 1px solid #dee2e6 ; border-bottom: 1px solid #dee2e6 ; border-left:.2rem solid #1976d2;\">\n",
    "<h3 class=\"alert-heading\"><i class=\"fa fa-pencil\"></i> Consommer un modèle sous forme d'API (🔵)</h3>\n",
    "\n",
    "\n",
    "<details>\n",
    "<summary>Dérouler pour révéler les instructions</summary>\n",
    "\n",
    "A partir des exemples présents dans [ce\n",
    "*notebook*](https://github.com/InseeFrLab/predicat/blob/master/help/example-request.ipynb),\n",
    "tester l’API sur une centaine de noms de produits pris aléatoirement\n",
    "(ceux avant *preprocessing*).\n",
    "\n",
    "</details>\n",
    "</div>\n",
    "\n",
    "<!----- end 🔵 ----->"
   ]
  },
  {
   "cell_type": "markdown",
   "id": "5625fc83-318e-42e5-8d3a-fa3b22b58990",
   "metadata": {},
   "source": [
    "## 1.3.ter Entrainer son propre classifieur (🔴,⚫)\n",
    "\n",
    "Les grimpeurs des voies 🔴 et ⚫ sont encouragés à essayer d’entraîner\n",
    "eux-mêmes un modèle de classification."
   ]
  },
  {
   "cell_type": "markdown",
   "id": "f5082bcf-4ac5-4703-897b-3292ad8d06ec",
   "metadata": {},
   "source": [
    "<!----- boite 🔴, ⚫ ----->\n",
    "\n",
    "<div class=\"alert alert-warning\" role=\"alert\" style=\"color: rgba(0,0,0,.8); background-color: white; margin-top: 1em; margin-bottom: 1em; margin:1.5625emauto; padding:0 .6rem .8rem!important;overflow:hidden; page-break-inside:avoid; border-radius:.25rem; box-shadow:0 .2rem .5rem rgba(0,0,0,.05),0 0 .05rem rgba(0,0,0,.1); transition:color .25s,background-color .25s,border-color .25s ; border-right: 1px solid #dee2e6 ; border-top: 1px solid #dee2e6 ; border-bottom: 1px solid #dee2e6 ; border-left:.2rem solid #9c9797;\">\n",
    "<h3 class=\"alert-heading\"><i class=\"fa fa-pencil\"></i> Entrainer son propre modèle de classification (🔴, ⚫)</h3>\n",
    "\n",
    "\n",
    "<details>\n",
    "<summary>Dérouler pour révéler les instructions</summary>\n",
    "\n",
    "A partir des exemples présents dans [ce\n",
    "*notebook*](https://github.com/InseeFrLab/predicat/blob/master/help/example-request.ipynb),\n",
    "tester l’API sur une centaine de noms de produits pris aléatoirement\n",
    "(ceux avant *preprocessing*). L’apprentissage peut être fait à partir de\n",
    "la variable `category` disponible sur `OpenFoodFacts`.\n",
    "\n",
    "Voici la consigne:\n",
    "\n",
    "-   🔴 : utiliser `fasttext`\n",
    "-   ⚫ : liberté sur le *framework* utilisé\n",
    "\n",
    "</details>\n",
    "</div>\n",
    "\n",
    "<!----- end 🔴, ⚫ ----->"
   ]
  },
  {
   "cell_type": "markdown",
   "id": "092238bf-1a30-449b-804e-b0cca36f9823",
   "metadata": {},
   "source": [
    "## 1.4. Ecriture de la base sur l’espace de stockage distant\n",
    "\n",
    "Le fait d’avoir effectué en amont ce type d’opération permettra\n",
    "d’économiser du temps par la suite puisqu’on s’évite des calculs à la\n",
    "volée coûteux en performance (rien de pire qu’une page *web* qui rame\n",
    "non ?).\n",
    "\n",
    "Pour facilement retrouver ces données, on propose de les écrire dans un\n",
    "espace de stockage accessible facilement. Pour cela, nous proposons\n",
    "d’utiliser celui du `SSP Cloud` pour les personnes ayant un compte\n",
    "dessus. Pour les personnes n’ayant pas de compte sur le `SSP Cloud`,\n",
    "vous pouvez passer cette étape et réutiliser le jeu de données que nous\n",
    "proposons pour la suite de ce parcours.\n",
    "\n",
    "Nous proposons ici d’utiliser le package `s3fs` qui est assez pratique\n",
    "pour traiter un espace distant comme on ferait d’un espace de stockage\n",
    "local. Pour en apprendre plus sur le système de stockage `S3` (la\n",
    "technologie utilisée par le SSP Cloud) ou sur le format `Parquet`, vous\n",
    "pouvez consulter ce chapitre du [cours de `Python` de\n",
    "l’ENSAE](https://pythonds.linogaliana.fr/reads3/)\n",
    "\n",
    "La première étape consiste à initialiser la connexion (créer un *file\n",
    "system* distant, via `s3fs.S3FileSystem`, qui pointe vers l’espace de\n",
    "stockage du SSP Cloud). La deuxième ressemble beaucoup à l’écriture d’un\n",
    "fichier en local, il y a seulement une couche d’abstraction\n",
    "supplémentaire avec `fs.open`:"
   ]
  },
  {
   "cell_type": "code",
   "execution_count": 35,
   "id": "f4176efa",
   "metadata": {
    "jupyter": {
     "source_hidden": true
    }
   },
   "outputs": [],
   "source": [
    "from utils.import_yaml import import_yaml\n",
    "import s3fs\n",
    "\n",
    "config = import_yaml(\"config.yaml\")\n",
    "DESTINATION_OPENFOOD = f\"{config['BUCKET']}{config['DESTINATION_DATA_S3']}/openfood.parquet\"\n",
    "\n",
    "# Initialisation de la connexion\n",
    "fs = s3fs.S3FileSystem(\n",
    "    client_kwargs={\"endpoint_url\": config[\"ENDPOINT_S3\"]}\n",
    ")\n",
    "\n",
    "# Ecriture au format parquet sur l'espace de stockage distant\n",
    "with fs.open(DESTINATION_OPENFOOD, \"wb\") as file_location:\n",
    "    openfood.to_parquet(file_location)"
   ]
  },
  {
   "cell_type": "markdown",
   "id": "06c5c2ed-8efb-4b0c-90dd-1775fa1c84f4",
   "metadata": {},
   "source": [
    "⚠️ **Il faut avoir modifié la valeur de `BUCKET` dans le fichier\n",
    "`config.yaml` pour que cette commande fonctionne**.\n",
    "\n",
    "Enfin, pour rendre ce fichier accessible à votre future application, il\n",
    "est nécessaire d’éditer la cellule ci-dessous pour remplacer\n",
    "`<USERNAME_SSPCLOUD>` par votre nom d’utilisateur sur le `SSPCloud` puis\n",
    "d’exécuter la cellule suivante qui va permettre de rendre ce fichier\n",
    "public. :"
   ]
  },
  {
   "cell_type": "code",
   "execution_count": 36,
   "id": "cec910b2",
   "metadata": {
    "jupyter": {
     "source_hidden": true
    }
   },
   "outputs": [],
   "source": [
    "# ⚠️ modifier ci-dessous pour remplacer USERNAME_SSPCLOUD par votre nom d'utilisateur sur le SSPCloud\n",
    "!mc anonymous set download s3/<USERNAME_SSPCLOUD>/2023/sujet4/diffusion"
   ]
  },
  {
   "cell_type": "markdown",
   "id": "e03a3d31-1a2f-42f8-8e77-4e5c0cad8eb4",
   "metadata": {},
   "source": [
    "⚠️ **Il faut avoir modifié la valeur de `USERNAME_SSPCLOUD` dans la\n",
    "commande pour que cela fonctionne**.\n",
    "\n",
    "Le fichier sera ainsi disponible en téléchargement directement depuis un\n",
    "URL de la forme:\n",
    "\n",
    "> https://minio.lab.sspcloud.fr/<USERNAME_SSPCLOUD>/2023/sujet4/diffusion/openfood.parquet\n",
    "\n",
    "# 2️⃣ Faire des statistiques agrégées par catégories\n",
    "\n",
    "Cette partie permet de calculer en amont de l’application des\n",
    "statistiques descriptives qui pourront être utilisées par celle-ci.\n",
    "\n",
    "Il est préférable de minimiser la quantité de calculs faits à la volée\n",
    "dans le cadre d’une application. Sinon, le risque est une latence\n",
    "embêtante pour l’utilisateur voire un crash du serveur à cause de\n",
    "besoins de ressources trop importants.\n",
    "\n",
    "Cette partie propose ainsi de créer en avance une base de données\n",
    "synthétisant le nombre de produits dans une catégorie donnée (par\n",
    "exemple les fromages à pâte crue) qui partagent la même note. Cela nous\n",
    "permettra d’afficher des statistiques personnalisées sur les produits\n",
    "similaires à celui qu’on scanne.\n",
    "\n",
    "## 2.1. Préliminaires (🟡,🟢,🔵,🔴,⚫)\n",
    "\n",
    "Sur le plan technique, cette partie propose deux cadres de manipulation\n",
    "de données différents, selon le balisage de la voie:\n",
    "\n",
    "-   🟡,🟢,🔵: utilisation de `Pandas`\n",
    "-   🔴,⚫: requêtes SQL directement sur le fichier `Parquet` grâce à\n",
    "    `DuckDB`\n",
    "\n",
    "La deuxième approche permet de mettre en oeuvre des calculs plus\n",
    "efficaces (`DuckDB`) est plus rapide mais nécessite un peu plus\n",
    "d’expertise sur la manipulation de données, notamment des connaissances\n",
    "en SQL.\n",
    "\n",
    "Cette partie va fonctionner en trois temps:\n",
    "\n",
    "1.  Lecture des données `OpenFoodFacts` précédemment produites\n",
    "2.  Construction de statistiques descriptives standardisées\n",
    "3.  Construction de graphiques à partir de ces statistiques descriptives\n",
    "\n",
    "Les étapes 1 et 2 sont séparées conceptuellement pour les parcours\n",
    "🟡,🟢,🔵. Pour les parcours 🔴 et ⚫, l’utilisation de requêtes SQL fait\n",
    "que ces deux étapes conceptuelles sont intriquées. Les parcours 🟡,🟢,🔵\n",
    "peuvent observer les morceaux de code proposés dans le cadre 🔴 et ⚫,\n",
    "c’est assez instructif. L’étape 3 (production de graphiques) sera la\n",
    "même pour tous les parcours."
   ]
  },
  {
   "cell_type": "markdown",
   "id": "3b4c1685-4f33-4242-b9b4-995ebfb9681e",
   "metadata": {},
   "source": [
    "<div class=\"alert alert-warning\" role=\"alert\" style=\"color: rgba(0,0,0,.8); background-color: white; margin-top: 1em; margin-bottom: 1em; margin:1.5625emauto; padding:0 .6rem .8rem!important;overflow:hidden; page-break-inside:avoid; border-radius:.25rem; box-shadow:0 .2rem .5rem rgba(0,0,0,.05),0 0 .05rem rgba(0,0,0,.1); transition:color .25s,background-color .25s,border-color .25s ; border-right: 1px solid #dee2e6 ; border-top: 1px solid #dee2e6 ; border-bottom: 1px solid #dee2e6 ; border-left:.2rem solid #ffc10780;\">\n",
    "<h3 class=\"alert-heading\"><i class=\"fa fa-lightbulb-o\"></i> Hint</h3>\n",
    "\n",
    "Cette partie peut être faite sans avoir suivie la précédente. Il est\n",
    "alors recommandé d’effectuer deux actions:\n",
    "\n",
    "1.  Dans le fichier `config.yaml`, remplacer `\"projet-funathon\"` par\n",
    "    votre nom d’utilisateur sur le `SSP Cloud`\n",
    "2.  Créer une cellule en copiant-collant le texte suivant et en\n",
    "    remplacant `<USERNAME_SSPCLOUD>` par votre nom d’utilisateur sur le\n",
    "    SSPCloud.\n",
    "\n",
    "``` python\n",
    "# créer une cellule de code et copier dedans ce texte\n",
    "# remplacer `<USERNAME_SSPCLOUD>` par votre nom d'utilisateur sur le SSPCloud\n",
    "!mc cp s3/projet-funathon/2023/sujet4/diffusion/openfood.parquet s3/<USERNAME_SSPCLOUD>/2023/sujet4/diffusion/openfood.parquet\n",
    "```\n",
    "\n",
    "⚠️ **Il faut avoir modifié la valeur de `USERNAME_SSPCLOUD` pour que\n",
    "cette commande fonctionne**.\n",
    "\n",
    "Cette commande permet de copier le fichier d’exemple que nous avons mis\n",
    "à disposition vers votre espace personnel.\n",
    "\n",
    "</div>"
   ]
  },
  {
   "cell_type": "markdown",
   "id": "f9fb181d-e402-45a8-8773-81da48b49bb1",
   "metadata": {},
   "source": [
    "Nous proposons d’importer à nouveau nos configurations:"
   ]
  },
  {
   "cell_type": "code",
   "execution_count": 37,
   "id": "64e6b5bb",
   "metadata": {
    "jupyter": {
     "source_hidden": true
    }
   },
   "outputs": [],
   "source": [
    "from utils.import_yaml import import_yaml\n",
    "config = import_yaml(\"config.yaml\")"
   ]
  },
  {
   "cell_type": "markdown",
   "id": "783410a1-26eb-4f49-9f5b-3410eafd2300",
   "metadata": {},
   "source": [
    "Les colonnes suivantes nous seront utiles dans cette partie:"
   ]
  },
  {
   "cell_type": "code",
   "execution_count": 38,
   "id": "c66671e5",
   "metadata": {
    "jupyter": {
     "source_hidden": true
    }
   },
   "outputs": [],
   "source": [
    "indices_synthetiques = [\n",
    "    \"nutriscore_grade\", \"ecoscore_grade\", \"nova_group\"\n",
    "]\n",
    "principales_infos = ['product_name', 'code', 'preprocessed_labels', 'coicop']"
   ]
  },
  {
   "cell_type": "markdown",
   "id": "7e2dd6bc-a0b8-4fc5-81e2-87cd8463de02",
   "metadata": {},
   "source": [
    "Voici, à nouveau, la configuration pour permettre à `Python` de\n",
    "communiquer avec l’espace de stockage distant:"
   ]
  },
  {
   "cell_type": "code",
   "execution_count": 39,
   "id": "824b706e",
   "metadata": {
    "jupyter": {
     "source_hidden": true
    }
   },
   "outputs": [],
   "source": [
    "import s3fs\n",
    "\n",
    "config = import_yaml(\"config.yaml\")\n",
    "INPUT_OPENFOOD = f\"{config['BUCKET']}{config['DESTINATION_DATA_S3']}/openfood.parquet\"\n",
    "\n",
    "# Initialisation de la connexion\n",
    "fs = s3fs.S3FileSystem(\n",
    "    client_kwargs={\"endpoint_url\": config[\"ENDPOINT_S3\"]}\n",
    ")"
   ]
  },
  {
   "cell_type": "markdown",
   "id": "b5e08dc6-c887-4f0b-8329-3916dff82eaf",
   "metadata": {},
   "source": [
    "## 2.2. Import des données depuis l’espace de stockage distant avec `Pandas` (🟡,🟢,🔵)\n",
    "\n",
    "Il est recommandé pour les parcours 🟡, 🟢, 🔵 de travailler avec\n",
    "`Pandas` pour construire des statistiques descriptives. Cela se fera en\n",
    "deux étapes:\n",
    "\n",
    "-   Import des données directement depuis l’espace de stockage, sans\n",
    "    écriture intermédiaire sur le disque local, puis nettoyage de\n",
    "    celles-ci ;\n",
    "-   Construction de fonctions standardisées pour la production de\n",
    "    statistiques descriptives.\n",
    "\n",
    "### Import et nettoyage des données `OpenFoodFacts` (🟡, 🟢 et 🔵)\n",
    "\n",
    "Il est possible de lire un CSV de plusieurs manières avec `Python`.\n",
    "L’une d’elle se fait à travers le *[context\n",
    "manager](https://book.pythontips.com/en/latest/context_managers.html#context-managers)*.\n",
    "Le module `s3fs` permet d’utiliser ce *context manager* pour lire un\n",
    "fichier distant, de manière très similaire à la lecture d’un fichier\n",
    "local."
   ]
  },
  {
   "cell_type": "markdown",
   "id": "de77ebf3-14df-476c-b165-91fa3c688606",
   "metadata": {},
   "source": [
    "<!----- boite 🔵 ----->\n",
    "\n",
    "<div class=\"alert alert-warning\" role=\"alert\" style=\"color: rgba(0,0,0,.8); background-color: white; margin-top: 1em; margin-bottom: 1em; margin:1.5625emauto; padding:0 .6rem .8rem!important;overflow:hidden; page-break-inside:avoid; border-radius:.25rem; box-shadow:0 .2rem .5rem rgba(0,0,0,.05),0 0 .05rem rgba(0,0,0,.1); transition:color .25s,background-color .25s,border-color .25s ; border-right: 1px solid #dee2e6 ; border-top: 1px solid #dee2e6 ; border-bottom: 1px solid #dee2e6 ; border-left:.2rem solid #1976d2;\">\n",
    "<h3 class=\"alert-heading\"><i class=\"fa fa-pencil\"></i> Lire les données depuis un espace distant (🔵)</h3>\n",
    "\n",
    "\n",
    "<details>\n",
    "<summary>Dérouler pour révéler les instructions</summary>\n",
    "\n",
    "A partir du *context manager* intégré à `s3fs`, lire les données en\n",
    "suivant les consignes suivantes:\n",
    "\n",
    "-   la localisation des données est stockée dans la variable\n",
    "    `INPUT_OPENFOOD`\n",
    "-   Utiliser l’option\n",
    "    `columns = principales_infos + indices_synthetiques` pour n’importer\n",
    "    que les variables nécessaires.\n",
    "\n",
    "</details>\n",
    "</div>\n",
    "\n",
    "<!----- end 🔵 ----->"
   ]
  },
  {
   "cell_type": "markdown",
   "id": "4e0eb5b1-9d4d-4aa7-9086-3dcb86d17482",
   "metadata": {},
   "source": [
    "<!----- boite 🟢 ----->\n",
    "\n",
    "<div class=\"alert alert-warning\" role=\"alert\" style=\"color: rgba(0,0,0,.8); background-color: white; margin-top: 1em; margin-bottom: 1em; margin:1.5625emauto; padding:0 .6rem .8rem!important;overflow:hidden; page-break-inside:avoid; border-radius:.25rem; box-shadow:0 .2rem .5rem rgba(0,0,0,.05),0 0 .05rem rgba(0,0,0,.1); transition:color .25s,background-color .25s,border-color .25s ; border-right: 1px solid #dee2e6 ; border-top: 1px solid #dee2e6 ; border-bottom: 1px solid #dee2e6 ; border-left:.2rem solid #7cb342;\">\n",
    "<h3 class=\"alert-heading\"><i class=\"fa fa-pencil\"></i> Lire les données depuis un espace distant (🟢)</h3>\n",
    "\n",
    "\n",
    "<details>\n",
    "<summary>Dérouler pour révéler les instructions</summary>\n",
    "\n",
    "Lors de l’écriture du fichier nous avons utilisé la commande suivante:\n",
    "\n",
    "``` python\n",
    "# Ecriture au format parquet sur l'espace de stockage distant\n",
    "with fs.open(DESTINATION_OPENFOOD, \"wb\") as file_location:\n",
    "    openfood.to_parquet(file_location)\n",
    "```\n",
    "\n",
    "Nous proposons de suivre la même logique en changeant quelques éléments:\n",
    "\n",
    "-   La variable de chemin à utiliser ici est `INPUT_OPENFOOD` ;\n",
    "-   Le contexte n’est plus à l’écriture (*“wb”*) mais à la lecture\n",
    "    (*“rb”*) ;\n",
    "-   La commande à exécuter dans ce contexte n’est plus l’écriture d’un\n",
    "    fichier parquet mais `pd.read_parquet`. Utiliser l’option\n",
    "    `columns = principales_infos + indices_synthetiques` pour n’importer\n",
    "    que les variables nécessaires.\n",
    "\n",
    "</details>\n",
    "</div>\n",
    "\n",
    "<!----- end 🟢 ----->"
   ]
  },
  {
   "cell_type": "code",
   "execution_count": 42,
   "id": "get-openfood-parquet-2",
   "metadata": {
    "jupyter": {
     "source_hidden": true
    }
   },
   "outputs": [],
   "source": [
    "# Solution pour voie 🟡, 🟢 et 🔵\n",
    "import pandas as pd\n",
    "\n",
    "# methode 1: pandas\n",
    "with fs.open(INPUT_OPENFOOD, \"rb\") as remote_file:\n",
    "    openfood = pd.read_parquet(\n",
    "        remote_file,\n",
    "        columns = principales_infos + \\\n",
    "        indices_synthetiques\n",
    "    )"
   ]
  },
  {
   "cell_type": "markdown",
   "id": "9c56c81d-c272-4e98-b90b-f1fddff34a74",
   "metadata": {},
   "source": [
    "Les données ont ainsi l’aspect suivant:"
   ]
  },
  {
   "cell_type": "code",
   "execution_count": 43,
   "id": "43d1915b",
   "metadata": {
    "jupyter": {
     "source_hidden": true
    }
   },
   "outputs": [],
   "source": [
    "openfood.head(2)"
   ]
  },
  {
   "cell_type": "markdown",
   "id": "f674c927-a431-46b4-9ee9-c123434e391e",
   "metadata": {},
   "source": [
    "## 2.3. Statistiques descriptives (🟡, 🟢 et 🔵)\n",
    "\n",
    "On désire calculer pour chaque classe de produits - par exemple les\n",
    "boissons rafraichissantes - le nombre de produits qui partagent une même\n",
    "note pour chaque indicateur de qualité nutritionnelle ou\n",
    "environnementale.\n",
    "\n",
    "Nous allons utiliser le `DataFrame` suivant pour les calculs de notes:"
   ]
  },
  {
   "cell_type": "code",
   "execution_count": 44,
   "id": "46bc5806",
   "metadata": {
    "jupyter": {
     "source_hidden": true
    }
   },
   "outputs": [],
   "source": [
    "openfood_notes = openfood.loc[:,[\"coicop\"] + indices_synthetiques]"
   ]
  },
  {
   "cell_type": "markdown",
   "id": "b8ec9bd0-a3c3-4451-a5a2-fb0b0436b8b0",
   "metadata": {},
   "source": [
    "<!----- boite 🔵 ----->\n",
    "\n",
    "<div class=\"alert alert-warning\" role=\"alert\" style=\"color: rgba(0,0,0,.8); background-color: white; margin-top: 1em; margin-bottom: 1em; margin:1.5625emauto; padding:0 .6rem .8rem!important;overflow:hidden; page-break-inside:avoid; border-radius:.25rem; box-shadow:0 .2rem .5rem rgba(0,0,0,.05),0 0 .05rem rgba(0,0,0,.1); transition:color .25s,background-color .25s,border-color .25s ; border-right: 1px solid #dee2e6 ; border-top: 1px solid #dee2e6 ; border-bottom: 1px solid #dee2e6 ; border-left:.2rem solid #1976d2;\">\n",
    "<h3 class=\"alert-heading\"><i class=\"fa fa-pencil\"></i> Distribution des notes par catégorie de produit (🔵)</h3>\n",
    "\n",
    "\n",
    "<details>\n",
    "<summary>Dérouler pour révéler les instructions</summary>\n",
    "\n",
    "1.  Pour chaque valeur de la variable `coicop`, avec la méthode `agg`,\n",
    "    effectuer un décompte des notes (`value_counts` en `Pandas`) pour\n",
    "    chaque variable de la liste `indices_synthetiques` grâce à la\n",
    "    méthode `agg`. Renommer ensuite les deux variables d’index ‘coicop’\n",
    "    et ‘note’ grâce à la méthode `reset_index`\n",
    "\n",
    "2.  Pivoter les données vers un format *long* via les axes `coicop` et\n",
    "    `note`\n",
    "\n",
    "3.  Dédupliquer les données en ne gardant que les paires uniques sur les\n",
    "    variables `variable, note, coicop`\n",
    "\n",
    "</details>\n",
    "</div>\n",
    "\n",
    "<!----- end 🔵 ----->"
   ]
  },
  {
   "cell_type": "markdown",
   "id": "e865f7d6-0f81-41a8-9691-1b9bb2815014",
   "metadata": {},
   "source": [
    "<!----- boite 🟢 ----->\n",
    "\n",
    "<div class=\"alert alert-warning\" role=\"alert\" style=\"color: rgba(0,0,0,.8); background-color: white; margin-top: 1em; margin-bottom: 1em; margin:1.5625emauto; padding:0 .6rem .8rem!important;overflow:hidden; page-break-inside:avoid; border-radius:.25rem; box-shadow:0 .2rem .5rem rgba(0,0,0,.05),0 0 .05rem rgba(0,0,0,.1); transition:color .25s,background-color .25s,border-color .25s ; border-right: 1px solid #dee2e6 ; border-top: 1px solid #dee2e6 ; border-bottom: 1px solid #dee2e6 ; border-left:.2rem solid #7cb342;\">\n",
    "<h3 class=\"alert-heading\"><i class=\"fa fa-pencil\"></i> Distribution des notes par catégorie de produit (🟢)</h3>\n",
    "\n",
    "\n",
    "<details>\n",
    "<summary>Dérouler pour révéler les instructions</summary>\n",
    "\n",
    "1.  Après un `groupby(\"coicop\")`, effectuer un décompte des notes\n",
    "    (`value_counts` en `Pandas`) pour chaque variable de la liste\n",
    "    `indices_synthetiques` grâce à la méthode `agg` puis renommer les\n",
    "    deux variables d’index ‘coicop’ et ‘note’ grâce à la méthode\n",
    "    `reset_index`\n",
    "\n",
    "<details>\n",
    "<summary>Réponse en cas de difficulté</summary>\n",
    "\n",
    "``` python\n",
    "stats_notes = (\n",
    "    openfood_notes\n",
    "    .groupby(\"coicop\")\n",
    "    .agg({i:'value_counts' for i in indices_synthetiques})\n",
    "    .reset_index(names=['coicop', 'note'])\n",
    ")\n",
    "```\n",
    "\n",
    "</details>\n",
    "\n",
    "1.  Utiliser `pd.melt` pour pivoter les données vers un format *long*\n",
    "    via les axes `coicop` et `note`\n",
    "\n",
    "2.  Dédupliquer les données en ne gardant que les paires uniques sur les\n",
    "    variables `variable, note, coicop` grâce à la méthode\n",
    "    `drop_duplicates`\n",
    "\n",
    "</details>\n",
    "</div>\n",
    "\n",
    "<!----- end 🟢 ----->"
   ]
  },
  {
   "cell_type": "code",
   "execution_count": 47,
   "id": "2249a851",
   "metadata": {
    "jupyter": {
     "source_hidden": true
    }
   },
   "outputs": [],
   "source": [
    "# Solution pour voie 🟡, 🟢 et 🔵\n",
    "def compute_stats_grades(data, indices_synthetiques):\n",
    "    stats_notes = (\n",
    "        data\n",
    "        .groupby(\"coicop\")\n",
    "        .agg({i:'value_counts' for i in indices_synthetiques})\n",
    "        .reset_index(names=['coicop', 'note'])\n",
    "    )\n",
    "    stats_notes = pd.melt(stats_notes, id_vars = ['coicop','note'])\n",
    "    stats_notes = stats_notes.dropna().drop_duplicates(subset = ['variable','note','coicop'])\n",
    "    stats_notes['value'] = stats_notes['value'].astype(int)\n",
    "  \n",
    "    return stats_notes\n",
    "\n",
    "stats_notes = compute_stats_grades(openfood_notes, indices_synthetiques)"
   ]
  },
  {
   "cell_type": "markdown",
   "id": "335550fc-d211-4fc3-bf44-32b1cdbf5b67",
   "metadata": {},
   "source": [
    "## 2.4. Import et traitement des données avec `DuckDB` (🔴 et ⚫)\n",
    "\n",
    "Cette partie propose pour les parcours 🔴 et ⚫ de reproduire l’analyse\n",
    "faite par les parcours 🟡,🟢 et 🔵 via `Pandas`.\n",
    "\n",
    "`DuckDB` va être utilisé pour lire et agréger les données. Pour lire\n",
    "directement depuis un système de stockage distant, sans pré-télécharger\n",
    "les données, vous pouvez utiliser la configuration suivante de `DuckDB`:"
   ]
  },
  {
   "cell_type": "code",
   "execution_count": 48,
   "id": "3525f220",
   "metadata": {
    "jupyter": {
     "source_hidden": true
    }
   },
   "outputs": [],
   "source": [
    "import duckdb\n",
    "con = duckdb.connect(database=':memory:')\n",
    "con.execute(\"\"\"\n",
    "    INSTALL httpfs;\n",
    "    LOAD httpfs;\n",
    "    SET s3_endpoint='minio.lab.sspcloud.fr'\n",
    "\"\"\")"
   ]
  },
  {
   "cell_type": "markdown",
   "id": "4a881b40-99b7-4f03-98d7-5695676f653c",
   "metadata": {},
   "source": [
    "Et voici un exemple minimal de lecture de données à partir du chemin\n",
    "`INPUT_OPENFOOD` défini précédemment."
   ]
  },
  {
   "cell_type": "code",
   "execution_count": 49,
   "id": "6f71792c",
   "metadata": {
    "jupyter": {
     "source_hidden": true
    }
   },
   "outputs": [],
   "source": [
    "duckdb_data = con.sql(\n",
    "    f\"SELECT product_name, preprocessed_labels, coicop, energy_100g FROM read_parquet('s3://{INPUT_OPENFOOD}') LIMIT 10\"\n",
    ")\n",
    "duckdb_data.df() #conversion en pandas dataframe"
   ]
  },
  {
   "cell_type": "markdown",
   "id": "0af12e6a-108e-4ab8-b248-cf03d81aa41d",
   "metadata": {},
   "source": [
    "Nous proposons de créer une unique requête SQL qui, dans une clause\n",
    "`SELECT`, pour chaque classe de produit (notre variable de COICOP),\n",
    "compte le nombre de produits qui partagent une même note."
   ]
  },
  {
   "cell_type": "markdown",
   "id": "5e1c50a0-11d5-4984-a8b3-ac9c23169d8a",
   "metadata": {},
   "source": [
    "<!----- boite ⚫ ----->\n",
    "\n",
    "<div class=\"alert alert-warning\" role=\"alert\" style=\"color: rgba(0,0,0,.8); background-color: white; margin-top: 1em; margin-bottom: 1em; margin:1.5625emauto; padding:0 .6rem .8rem!important;overflow:hidden; page-break-inside:avoid; border-radius:.25rem; box-shadow:0 .2rem .5rem rgba(0,0,0,.05),0 0 .05rem rgba(0,0,0,.1); transition:color .25s,background-color .25s,border-color .25s ; border-right: 1px solid #dee2e6 ; border-top: 1px solid #dee2e6 ; border-bottom: 1px solid #dee2e6 ; border-left:.2rem solid #424242;\">\n",
    "<h3 class=\"alert-heading\"><i class=\"fa fa-pencil\"></i> Distribution des notes par catégorie de produit (⚫)</h3>\n",
    "\n",
    "\n",
    "<details>\n",
    "<summary>Dérouler pour révéler les instructions</summary>\n",
    "\n",
    "-   Créer une fonction `count_one_variable_sql` prenant un argument\n",
    "    nommé `con` (connexion DuckDB), un argument `variable` (par défaut\n",
    "    égal à `nova_group`) et un chemin de lecture des données dans le\n",
    "    système `S3`. Cette fonction agrège calcule la statistique\n",
    "    descriptive désirée pour `variable`.\n",
    "-   Créer le `DataFrame` qui combine toutes ces statistiques pour les\n",
    "    variables `[\"nutriscore_grade\", \"ecoscore_grade\", \"nova_group\"]`.\n",
    "    Celui-ci comporte quatre variables: `coicop`, `note`, `value` et\n",
    "    `variable`.\n",
    "\n",
    "</details>\n",
    "</div>\n",
    "\n",
    "<!----- end ⚫ ----->"
   ]
  },
  {
   "cell_type": "markdown",
   "id": "4b0ce572-292d-4147-b8f2-a551587b1010",
   "metadata": {},
   "source": [
    "<!----- boite 🔴 ----->\n",
    "\n",
    "<div class=\"alert alert-warning\" role=\"alert\" style=\"color: rgba(0,0,0,.8); background-color: white; margin-top: 1em; margin-bottom: 1em; margin:1.5625emauto; padding:0 .6rem .8rem!important;overflow:hidden; page-break-inside:avoid; border-radius:.25rem; box-shadow:0 .2rem .5rem rgba(0,0,0,.05),0 0 .05rem rgba(0,0,0,.1); transition:color .25s,background-color .25s,border-color .25s ; border-right: 1px solid #dee2e6 ; border-top: 1px solid #dee2e6 ; border-bottom: 1px solid #dee2e6 ; border-left:.2rem solid #f44336;\">\n",
    "<h3 class=\"alert-heading\"><i class=\"fa fa-pencil\"></i> Distribution des notes par catégorie de produit (🔴)</h3>\n",
    "\n",
    "\n",
    "<details>\n",
    "<summary>Dérouler pour révéler les instructions</summary>\n",
    "\n",
    "Créer une fonction `count_one_variable_sql` prenant un argument nommé\n",
    "`con` (connexion DuckDB), un argument `variable` (par défaut égal à\n",
    "`nova_group`) et un chemin de lecture des données dans le système `S3`.\n",
    "\n",
    "Cette fonction effectue les opérations suivantes:\n",
    "\n",
    "-   Créer un `DataFrame` `Pandas` après avoir agrégé les données via\n",
    "    `DuckDB` grâce au modèle de requête\n",
    "\n",
    "``` python\n",
    "f\"SELECT coicop, {variable} AS note, COUNT({variable}) AS value FROM read_parquet('s3://{path_within_s3}') GROUP BY coicop, {variable}\"\n",
    "```\n",
    "\n",
    "-   Crée une variable `variable` égale à la valeur de l’argument\n",
    "    `variable`\n",
    "\n",
    "-   Créer le `DataFrame` qui combine toutes ces statistiques de la\n",
    "    manière suivante en appliquant la fonction de manière répétée :\n",
    "\n",
    "``` python\n",
    "grades = [\"nutriscore_grade\", \"ecoscore_grade\", \"nova_group\"]\n",
    "stats_notes_sql = [count_one_variable_sql(con, note, INPUT_OPENFOOD) for note in grades]\n",
    "stats_notes_sql = pd.concat(stats_notes_sql)\n",
    "```\n",
    "\n",
    "</details>\n",
    "</div>\n",
    "\n",
    "<!----- end 🔴 ----->"
   ]
  },
  {
   "cell_type": "code",
   "execution_count": 52,
   "id": "d09b1cf6",
   "metadata": {
    "jupyter": {
     "source_hidden": true
    }
   },
   "outputs": [],
   "source": [
    "# Solution à la voie 🔴 et ⚫ pour les curieux de la voie 🟡, 🟢 et 🔵\n",
    "def count_one_variable_sql(con, variable, path_within_s3 = \"temp.parquet\"):\n",
    "    query = f\"SELECT coicop, {variable} AS note, COUNT({variable}) AS value FROM read_parquet('s3://{path_within_s3}') GROUP BY coicop, {variable}\"\n",
    "    stats_one_variable = con.sql(query).df().dropna()\n",
    "    stats_one_variable['variable'] = variable\n",
    "    stats_one_variable = stats_one_variable.replace('', 'NONE')\n",
    "\n",
    "    return stats_one_variable\n",
    "\n",
    "grades = [\"nutriscore_grade\", \"ecoscore_grade\", \"nova_group\"]\n",
    "stats_notes_sql = [count_one_variable_sql(con, note, INPUT_OPENFOOD) for note in grades]\n",
    "stats_notes_sql = pd.concat(stats_notes_sql)"
   ]
  },
  {
   "cell_type": "markdown",
   "id": "2c52a1ad-5d77-4813-bf68-d1ff7a4f6645",
   "metadata": {},
   "source": [
    "Ceci nous donne donc le `DataFrame` suivant:"
   ]
  },
  {
   "cell_type": "code",
   "execution_count": 53,
   "id": "020b60e8",
   "metadata": {
    "jupyter": {
     "source_hidden": true
    }
   },
   "outputs": [],
   "source": [
    "stats_notes_sql.head(2)"
   ]
  },
  {
   "cell_type": "markdown",
   "id": "ff6c42bc-0dda-4c61-931c-e2b70c21da09",
   "metadata": {},
   "source": [
    "## 2.5. Sauvegarde dans l’espace de stockage distant (🟡,🟢,🔵,🔴,⚫)\n",
    "\n",
    "Ces statistiques descriptives sont à écrire dans l’espace de stockage\n",
    "distant pour ne plus avoir à les calculer."
   ]
  },
  {
   "cell_type": "code",
   "execution_count": 54,
   "id": "591cd17d",
   "metadata": {
    "jupyter": {
     "source_hidden": true
    }
   },
   "outputs": [],
   "source": [
    "def write_stats_to_s3(data, destination):\n",
    "    # Ecriture au format parquet sur l'espace de stockage distant\n",
    "    with fs.open(destination, \"wb\") as file_location:\n",
    "        data.to_parquet(file_location)\n",
    "\n",
    "write_stats_to_s3(stats_notes, f\"{config['BUCKET']}{config['DESTINATION_DATA_S3']}/stats_notes_pandas.parquet\")\n",
    "write_stats_to_s3(stats_notes_sql, f\"{config['BUCKET']}{config['DESTINATION_DATA_S3']}/stats_notes_sql.parquet\")"
   ]
  },
  {
   "cell_type": "markdown",
   "id": "c4299517-398c-4376-9133-e150798b576a",
   "metadata": {},
   "source": [
    "⚠️ **Il faut avoir modifié la valeur de `BUCKET` dans le fichier\n",
    "`config.yaml` pour que cette commande fonctionne**.\n",
    "\n",
    "## 2.6. Création d’un modèle de graphiques (🟡,🟢,🔵,🔴,⚫)\n",
    "\n",
    "On va utiliser `Plotly` pour créer des graphiques et, ultérieurement,\n",
    "les afficher sur notre page web. Cela permettra d’avoir un peu de\n",
    "réactivité, c’est l’intérêt de faire un format *web* plutôt qu’une\n",
    "publication figée comme un `PDF`."
   ]
  },
  {
   "cell_type": "markdown",
   "id": "0580b695-9aec-441c-8183-685fabd18d16",
   "metadata": {},
   "source": [
    "<!----- boite ⚫ ----->\n",
    "\n",
    "<div class=\"alert alert-warning\" role=\"alert\" style=\"color: rgba(0,0,0,.8); background-color: white; margin-top: 1em; margin-bottom: 1em; margin:1.5625emauto; padding:0 .6rem .8rem!important;overflow:hidden; page-break-inside:avoid; border-radius:.25rem; box-shadow:0 .2rem .5rem rgba(0,0,0,.05),0 0 .05rem rgba(0,0,0,.1); transition:color .25s,background-color .25s,border-color .25s ; border-right: 1px solid #dee2e6 ; border-top: 1px solid #dee2e6 ; border-bottom: 1px solid #dee2e6 ; border-left:.2rem solid #424242;\">\n",
    "<h3 class=\"alert-heading\"><i class=\"fa fa-pencil\"></i> Modèle de figure pour les notes (⚫)</h3>\n",
    "\n",
    "\n",
    "<details>\n",
    "<summary>Dérouler pour révéler les instructions</summary>\n",
    "\n",
    "Créer une fonction standardisée dont l’*output* est un objet `Plotly`\n",
    "respectant le cahier des charges suivant, pour chaque classe de produit\n",
    ":\n",
    "\n",
    "-   Diagramme en barre présentant le nombre de produits ayant telle ou\n",
    "    telle note\n",
    "-   Prévoir un argument pour mettre en surbrillance une valeur donnée\n",
    "    (par exemple la note `B`).\n",
    "-   Prévoir un argument pour le titre du graphique\n",
    "\n",
    "</details>\n",
    "</div>\n",
    "\n",
    "<!----- end ⚫ ----->"
   ]
  },
  {
   "cell_type": "markdown",
   "id": "0633c4fd-6e51-4ec6-aa05-444335bd5544",
   "metadata": {},
   "source": [
    "<!----- boite 🔴 ----->\n",
    "\n",
    "<div class=\"alert alert-warning\" role=\"alert\" style=\"color: rgba(0,0,0,.8); background-color: white; margin-top: 1em; margin-bottom: 1em; margin:1.5625emauto; padding:0 .6rem .8rem!important;overflow:hidden; page-break-inside:avoid; border-radius:.25rem; box-shadow:0 .2rem .5rem rgba(0,0,0,.05),0 0 .05rem rgba(0,0,0,.1); transition:color .25s,background-color .25s,border-color .25s ; border-right: 1px solid #dee2e6 ; border-top: 1px solid #dee2e6 ; border-bottom: 1px solid #dee2e6 ; border-left:.2rem solid #f44336;\">\n",
    "<h3 class=\"alert-heading\"><i class=\"fa fa-pencil\"></i> Modèle de figure pour les notes (🔴)</h3>\n",
    "\n",
    "\n",
    "<details>\n",
    "<summary>Dérouler pour révéler les instructions</summary>\n",
    "\n",
    "Créer une fonction standardisée dont les arguments sont\n",
    "\n",
    "-   Un jeu de données nommé `data`\n",
    "-   Une caractéristique nutritionnelle nommée `variable_note` par défaut\n",
    "    égale à `nutriscore_grade`\n",
    "-   Une catégorie nommée `coicop`, par défaut égale à `01.1.7.3.2`\n",
    "-   Une note pour le produit dans une variable nommée `note_produit` par\n",
    "    défaut égal à `B`\n",
    "-   Un titre par défaut égal à `Nutriscore`\n",
    "\n",
    "Cette fonction effectue les tâches suivantes:\n",
    "\n",
    "-   Ne conserver, dans notre ensemble de valeurs agrégées, que celles\n",
    "    relatives à la COICOP et à la caractéristique nutritionnelle qu’on\n",
    "    recherche ;\n",
    "-   Représenter sous forme de diagramme en barre les valeurs\n",
    "    nutritionnelles pour chaque décile de la distribution avec, en\n",
    "    rouge, celle de notre produit (`valeur_produit`)\n",
    "-   N’hésitez pas à utiliser les options de `Plotly` pour personnaliser\n",
    "    la figure\n",
    "\n",
    "</details>\n",
    "</div>\n",
    "\n",
    "<!----- end 🔴 ----->"
   ]
  },
  {
   "cell_type": "markdown",
   "id": "45ddb005-ba1f-4455-b04a-392c4433ca1a",
   "metadata": {},
   "source": [
    "<!----- boite 🔵 ----->\n",
    "\n",
    "<div class=\"alert alert-warning\" role=\"alert\" style=\"color: rgba(0,0,0,.8); background-color: white; margin-top: 1em; margin-bottom: 1em; margin:1.5625emauto; padding:0 .6rem .8rem!important;overflow:hidden; page-break-inside:avoid; border-radius:.25rem; box-shadow:0 .2rem .5rem rgba(0,0,0,.05),0 0 .05rem rgba(0,0,0,.1); transition:color .25s,background-color .25s,border-color .25s ; border-right: 1px solid #dee2e6 ; border-top: 1px solid #dee2e6 ; border-bottom: 1px solid #dee2e6 ; border-left:.2rem solid #1976d2;\">\n",
    "<h3 class=\"alert-heading\"><i class=\"fa fa-pencil\"></i> Modèle de figure pour les notes (🔵)</h3>\n",
    "\n",
    "\n",
    "<details>\n",
    "<summary>Dérouler pour révéler les instructions</summary>\n",
    "\n",
    "Pour préparer cet exercice, créer les objets suivants:\n",
    "\n",
    "``` python\n",
    "data = stats_nutritionnelles.copy()\n",
    "variable_note = 'nutriscore_grade'\n",
    "coicop = \"01.1.7.3.2\"\n",
    "note_produit = \"B\"\n",
    "titre = \"Nutriscore\"\n",
    "```\n",
    "\n",
    "1.  Ne conserver que les observations où `data['variable']` est égale à\n",
    "    la valeur `variable_note` et où la variable `coicop` est égale à la\n",
    "    valeur `coicop`. A l’issue de ces filtres, nommer le dataframe\n",
    "    obtenu `example_coicop`\n",
    "2.  Créer une colonne stockant les couleurs de notre graphique. Nommer\n",
    "    cette variable `color`.\n",
    "3.  Créer un diagramme en barre avec: + sur l’axe des *x* les\n",
    "    quantiles + sur l’axe des *y*, la valeur à représenter + la couleur\n",
    "    à partir de la variable `color` + Les *labels* : pour l’axe des *x*\n",
    "    ne rien mettre et pour l’axe des *y* : *“Note”* + Masquer la\n",
    "    légende + Le titre à partir de la variable `titre`\n",
    "4.  Encapsuler ce code dans une fonction nommée `figure_infos_notes`\n",
    "    dont les arguments sont les variables précédemment crées.\n",
    "\n",
    "</details>\n",
    "</div>\n",
    "\n",
    "<!----- end 🔵 ----->"
   ]
  },
  {
   "cell_type": "markdown",
   "id": "de524580-c637-441a-898f-a685cd60e994",
   "metadata": {},
   "source": [
    "<!----- boite 🟢 ----->\n",
    "\n",
    "<div class=\"alert alert-warning\" role=\"alert\" style=\"color: rgba(0,0,0,.8); background-color: white; margin-top: 1em; margin-bottom: 1em; margin:1.5625emauto; padding:0 .6rem .8rem!important;overflow:hidden; page-break-inside:avoid; border-radius:.25rem; box-shadow:0 .2rem .5rem rgba(0,0,0,.05),0 0 .05rem rgba(0,0,0,.1); transition:color .25s,background-color .25s,border-color .25s ; border-right: 1px solid #dee2e6 ; border-top: 1px solid #dee2e6 ; border-bottom: 1px solid #dee2e6 ; border-left:.2rem solid #7cb342;\">\n",
    "<h3 class=\"alert-heading\"><i class=\"fa fa-pencil\"></i> Modèle de figure pour les notes (🟢)</h3>\n",
    "\n",
    "\n",
    "<details>\n",
    "<summary>Dérouler pour révéler les instructions</summary>\n",
    "\n",
    "Pour préparer cet exercice, créer les objets suivants:\n",
    "\n",
    "``` python\n",
    "data = stats_nutritionnelles.copy()\n",
    "variable_note = 'nutriscore_grade'\n",
    "coicop = \"01.1.7.3.2\"\n",
    "note_produit = \"B\"\n",
    "titre = \"Nutriscore\"\n",
    "```\n",
    "\n",
    "1.  Utiliser la méthode\n",
    "    [`loc`](https://pandas.pydata.org/docs/reference/api/pandas.DataFrame.loc.html)\n",
    "    pour ne conserver que les observations où `data['variable']` est\n",
    "    égale à la valeur `variable_note` et où la variable `coicop` est\n",
    "    égale à la valeur `coicop` (qu’on a fixé à `\"01.1.7.3.2\"`). A\n",
    "    l’issue de ces filtres, nommer le dataframe obtenu `example_coicop`\n",
    "2.  Utiliser\n",
    "    [`np.where`](https://numpy.org/doc/stable/reference/generated/numpy.where.html)\n",
    "    pour créer une colonne stockant les couleurs de notre graphique. On\n",
    "    utilisera le rouge (*red*) lorsque la variable quantile est égale à\n",
    "    `note_produit` et du bleu (*royalblue*) sinon. Nommer cette variable\n",
    "    `color`.\n",
    "3.  Créer un diagramme en barre avec: + sur l’axe des *x* les notes\n",
    "    (stockés dans la variable `note`) + sur l’axe des *y*, la valeur à\n",
    "    représenter (stockée dans la variable `value`) + la couleur à partir\n",
    "    de la variable `color` + Les *labels* : pour l’axe des *x* ne rien\n",
    "    mettre et pour l’axe des *y* : *“Note”* + Masquer la légende via\n",
    "    l’argument `showlegend` de la méthode `update_layout` + Le titre à\n",
    "    partir de la variable `titre`\n",
    "4.  Encapsuler ce code dans une fonction nommée\n",
    "    `figure_infos_nutritionnelles` dont les arguments sont `data`,\n",
    "    `variable_nutritionnelle = 'nutriscore_grade'`,\n",
    "    `coicop = \"01.1.7.3.2\"` et `valeur_produit = \"B\"`.\n",
    "\n",
    "</details>\n",
    "</div>\n",
    "\n",
    "<!----- end 🟢 ----->"
   ]
  },
  {
   "cell_type": "markdown",
   "id": "6ab048c0-9a84-4a36-b5d8-97ccb110d037",
   "metadata": {},
   "source": [
    "Voici un exemple de fonction qui répond aux cahiers des charges\n",
    "ci-dessus:"
   ]
  },
  {
   "cell_type": "code",
   "execution_count": 59,
   "id": "c69c55c5",
   "metadata": {
    "jupyter": {
     "source_hidden": true
    }
   },
   "outputs": [],
   "source": [
    "# Solution pour voie 🟡\n",
    "\n",
    "import plotly.express as px\n",
    "import numpy as np\n",
    "\n",
    "def figure_infos_notes(\n",
    "    data, variable_note = 'nutriscore_grade',\n",
    "    coicop = \"01.1.7.3.2\", note_produit = \"B\",\n",
    "    title = \"Nutriscore\"\n",
    "):\n",
    "    example_coicop = data.loc[data['variable'] == variable_note]\n",
    "    example_coicop = example_coicop.loc[example_coicop['coicop']==coicop]\n",
    "    example_coicop['color'] = np.where(example_coicop['note'] == note_produit, \"Note du produit\", \"Autres produits\")\n",
    "\n",
    "    fig = px.bar(\n",
    "        example_coicop,\n",
    "        x='note', y='value', color = \"color\", template = \"simple_white\",\n",
    "        title=title,\n",
    "        color_discrete_map={\"Note produit\": \"red\", \"Autres produits\": \"royalblue\"},\n",
    "        labels={\n",
    "            \"note\": \"Note\",\n",
    "            \"value\": \"\"\n",
    "        }\n",
    "    )\n",
    "    fig.update_xaxes(\n",
    "        categoryorder='array',\n",
    "        categoryarray= ['A', 'B', 'C', 'D', 'E'])\n",
    "    fig.update_layout(showlegend=False)\n",
    "    fig.update_layout(hovermode=\"x\")\n",
    "    fig.update_traces(\n",
    "        hovertemplate=\"<br>\".join([\n",
    "            \"Note %{x}\",\n",
    "            f\"{variable_note}: \" +\" %{y} produits\"\n",
    "        ])\n",
    "    )\n",
    "\n",
    "    return fig"
   ]
  },
  {
   "cell_type": "markdown",
   "id": "2158fb82-8e44-439e-a1c0-7a0733cc85ac",
   "metadata": {},
   "source": [
    "Voici un exemple d’utilisation"
   ]
  },
  {
   "cell_type": "code",
   "execution_count": 60,
   "id": "9520cae2",
   "metadata": {
    "jupyter": {
     "source_hidden": true
    }
   },
   "outputs": [],
   "source": [
    "from utils.construct_figures import figure_infos_notes\n",
    "fig = figure_infos_notes(stats_notes)\n",
    "fig.update_layout(width=800, height=400)\n",
    "\n",
    "fig"
   ]
  },
  {
   "cell_type": "markdown",
   "id": "e0e94bc8-f96e-4c8b-aa6d-88568a3e1b4f",
   "metadata": {},
   "source": [
    "# 3️⃣ Comparer un produit à un groupe similaire\n",
    "\n",
    "Tout ce travail préliminaire nous permettra d’afficher sur notre\n",
    "application des statistiques propres à chaque catégorie.\n",
    "\n",
    "On propose d’utiliser le jeu de données préparé précedemment"
   ]
  },
  {
   "cell_type": "code",
   "execution_count": 61,
   "id": "84467a4f",
   "metadata": {
    "jupyter": {
     "source_hidden": true
    }
   },
   "outputs": [],
   "source": [
    "indices_synthetiques = [\n",
    "    \"nutriscore_grade\", \"ecoscore_grade\", \"nova_group\"\n",
    "]\n",
    "principales_infos = ['product_name', 'code', 'preprocessed_labels', 'coicop']\n",
    "liste_colonnes = principales_infos + indices_synthetiques\n",
    "liste_colonnes_sql = [f\"\\\"{s}\\\"\" for s in liste_colonnes]\n",
    "liste_colonnes_sql = ', '.join(liste_colonnes_sql)"
   ]
  },
  {
   "cell_type": "markdown",
   "id": "05a099bd-7462-44da-812c-dbd7ede9c10f",
   "metadata": {},
   "source": [
    "On va aussi utiliser la nomenclature COICOP qui peut être importée via\n",
    "le code ci-dessous:"
   ]
  },
  {
   "cell_type": "code",
   "execution_count": 62,
   "id": "374125fc",
   "metadata": {
    "jupyter": {
     "source_hidden": true
    }
   },
   "outputs": [],
   "source": [
    "from utils.download_pb import import_coicop_labels\n",
    "coicop = import_coicop_labels(\n",
    "    \"https://www.insee.fr/fr/statistiques/fichier/2402696/coicop2016_liste_n5.xls\"\n",
    ")"
   ]
  },
  {
   "cell_type": "markdown",
   "id": "713e6bbf-a435-492c-9d07-54e24d6e0989",
   "metadata": {},
   "source": [
    "## 3.1. Détection de code barre (🟡,🟢,🔵,🔴,⚫)\n",
    "\n",
    "La première brique de notre application consiste à repérer un produit\n",
    "par le scan du code-barre. Nous allons partir pour le moment d’un\n",
    "produit d’exemple, ci-dessous:\n",
    "\n",
    "![](https://images.openfoodfacts.org/images/products/500/011/260/2791/front_fr.4.400.jpg)"
   ]
  },
  {
   "cell_type": "code",
   "execution_count": 63,
   "id": "54ec9477",
   "metadata": {
    "jupyter": {
     "source_hidden": true
    }
   },
   "outputs": [],
   "source": [
    "url_image = \"https://images.openfoodfacts.org/images/products/500/011/260/2791/front_fr.4.400.jpg\""
   ]
  },
  {
   "cell_type": "markdown",
   "id": "8de34893-6cc5-4440-a1ab-06b3d7073f0f",
   "metadata": {},
   "source": [
    "Dans le cadre de notre application, on permettra aux utilisateurs\n",
    "d’*uploader* la photo d’un produit, ce sera plus *fun*. En attendant\n",
    "notre application, partir d’un produit standardisé permet déjà de mettre\n",
    "en oeuvre la logique à ré-appliquer plus tard.\n",
    "\n",
    "Pour se simplifier la vie, le plus simple pour repérer un code-barre est\n",
    "d’utiliser le *package* [`pyzbar`](https://pypi.org/project/pyzbar/).\n",
    "Pour transformer une image en matrice `Numpy` (l’objet attendu par\n",
    "[`pyzbar`](https://pypi.org/project/pyzbar/)), on peut utiliser le\n",
    "module `skimage` de la manière suivante:"
   ]
  },
  {
   "cell_type": "code",
   "execution_count": 64,
   "id": "89d80ec6",
   "metadata": {
    "jupyter": {
     "source_hidden": true
    }
   },
   "outputs": [],
   "source": [
    "from skimage import io\n",
    "io.imread(url_image)"
   ]
  },
  {
   "cell_type": "markdown",
   "id": "7ae118f1-6ac9-4442-821c-d65ff47399d7",
   "metadata": {},
   "source": [
    "Grâce à `sklearn.image`, on peut utiliser l’URL d’une page web ou le\n",
    "chemin d’un fichier de manière indifférente pour la valeur de\n",
    "`url_image`."
   ]
  },
  {
   "cell_type": "markdown",
   "id": "fe384207-8a14-49d9-bca3-c05e3a5c86db",
   "metadata": {},
   "source": [
    "<!----- boite 🟢🔵🔴 et ⚫ ----->\n",
    "\n",
    "<div class=\"alert alert-warning\" role=\"alert\" style=\"color: rgba(0,0,0,.8); background-color: white; margin-top: 1em; margin-bottom: 1em; margin:1.5625emauto; padding:0 .6rem .8rem!important;overflow:hidden; page-break-inside:avoid; border-radius:.25rem; box-shadow:0 .2rem .5rem rgba(0,0,0,.05),0 0 .05rem rgba(0,0,0,.1); transition:color .25s,background-color .25s,border-color .25s ; border-right: 1px solid #dee2e6 ; border-top: 1px solid #dee2e6 ; border-bottom: 1px solid #dee2e6 ; border-left:.2rem solid #9c9797;\">\n",
    "<h3 class=\"alert-heading\"><i class=\"fa fa-pencil\"></i> Extraire le code-barre à partir d'une image (🟢🔵🔴 et ⚫)</h3>\n",
    "\n",
    "\n",
    "<details>\n",
    "<summary>Dérouler pour révéler les instructions</summary>\n",
    "\n",
    "1.  Après avoir importé l’image via `io.imread`, utiliser\n",
    "    `pyzbar.decode` pour extraire les informations voulues, notamment le\n",
    "    code-barre.\n",
    "2.  Si vous avez nommé l’objet généré, vérifier le code-barre avec\n",
    "    `obj[0].data.decode()`.\n",
    "3.  A partir de cela, créer une fonction `extract_ean` pour décoder\n",
    "    l’image (en retournant l’objet généré par `pyzbar`)\n",
    "\n",
    "</details>\n",
    "</div>\n",
    "\n",
    "<!----- end 🟢🔵🔴 et ⚫ ----->"
   ]
  },
  {
   "cell_type": "code",
   "execution_count": 66,
   "id": "get-openfood-parquet",
   "metadata": {
    "jupyter": {
     "source_hidden": true
    }
   },
   "outputs": [],
   "source": [
    "# Solution pour voie 🟡\n",
    "from pyzbar import pyzbar\n",
    "\n",
    "def extract_ean(url, verbose=True):\n",
    "    img = io.imread(url)\n",
    "    decoded_objects = pyzbar.decode(img)\n",
    "    if verbose is True:\n",
    "        for obj in decoded_objects:\n",
    "            # draw the barcode\n",
    "            print(\"detected barcode:\", obj)\n",
    "            # print barcode type & data\n",
    "            print(\"Type:\", obj.type)\n",
    "            print(\"Data:\", obj.data)\n",
    "    return decoded_objects\n",
    "\n",
    "obj = extract_ean(url_image, verbose = False)\n",
    "\n",
    "obj[0].data.decode()"
   ]
  },
  {
   "cell_type": "markdown",
   "id": "5f79b82c-ed97-4fda-b888-4b9c2debb21f",
   "metadata": {},
   "source": [
    "On obtient bien un code identifiant notre produit. Il s’agit de l’EAN\n",
    "qui est un identifiant unique, partagé quelque soit le point de vente\n",
    "d’un produit. Il s’agit d’un identifiant présent sur tout code-barre,\n",
    "utilisé dans les systèmes d’information des grandes enseignes mais aussi\n",
    "dans les bases produits qui peuvent être utilisées de manière annexe\n",
    "(par exemple l’`OpenFoodFacts`).\n",
    "\n",
    "## 3.2. Association d’un code barre à un produit d’`OpenFoodFacts` (🟡,🟢,🔵,🔴,⚫)\n",
    "\n",
    "Maintenant qu’on dispose d’un code-barre (le numéro EAN), on va trouver\n",
    "le produit dans `OpenFoodFacts` à partir de ce code-barre.\n",
    "\n",
    "Cependant, comme il peut arriver qu’un produit dispose d’informations\n",
    "incomplètes, il peut être utile de faire non seulement de l’appariement\n",
    "exact (trouver le produit avec le même code EAN) mais aussi de\n",
    "l’appariement flou (trouver un produit avec un nom proche de celui qu’on\n",
    "veut).\n",
    "\n",
    "Ceci est un exercice pour les parcours 🔴 et ⚫, les autres voies\n",
    "pouvant prendre cette fonction comme donnée.\n",
    "\n",
    "Pour aller plus loin sur cette question des appariements flous, il\n",
    "pourrait être utile d’aller vers `ElasticSearch`. C’est néanmoins un\n",
    "sujet en soi, nous proposons donc aux curieux de consulter [cette\n",
    "ressource](https://pythonds.linogaliana.fr/elastic/).\n",
    "\n",
    "Voici l’EAN d’exemple :"
   ]
  },
  {
   "cell_type": "code",
   "execution_count": 68,
   "id": "0e9b8c2a",
   "metadata": {
    "jupyter": {
     "source_hidden": true
    }
   },
   "outputs": [],
   "source": [
    "ean = \"5000112602999\""
   ]
  },
  {
   "cell_type": "markdown",
   "id": "b9a5502b-d111-40a0-9b53-5eb6eabb892f",
   "metadata": {},
   "source": [
    "Pour avoir un outil performant, on propose d’utiliser `DuckDB` pour lire\n",
    "et filtrer les données. Cela sera plus performant que lire, à chaque\n",
    "fois que l’utilisateur de notre application *upload* une image, un gros\n",
    "fichier (2 millions de ligne) pour n’en garder qu’une.\n",
    "\n",
    "Voici la configuration à mettre en oeuvre:"
   ]
  },
  {
   "cell_type": "code",
   "execution_count": 69,
   "id": "572366ef",
   "metadata": {
    "jupyter": {
     "source_hidden": true
    }
   },
   "outputs": [],
   "source": [
    "import duckdb\n",
    "con = duckdb.connect(database=':memory:')\n",
    "con.execute(\"\"\"\n",
    "    INSTALL httpfs;\n",
    "    LOAD httpfs;\n",
    "    SET s3_endpoint='minio.lab.sspcloud.fr'\n",
    "\"\"\")\n",
    "\n",
    "url_data = \"https://projet-funathon.minio.lab.sspcloud.fr/2023/sujet4/diffusion/openfood.parquet\""
   ]
  },
  {
   "cell_type": "markdown",
   "id": "67534439-e624-469c-9c4b-12cda8e0835c",
   "metadata": {},
   "source": [
    "Pour commencer, effectuons une requête SQL pour récupérer le produit\n",
    "correspondant au code-barre qu’on a scanné:"
   ]
  },
  {
   "cell_type": "markdown",
   "id": "2d6d3930-b929-42fe-b3da-c479e0d6883e",
   "metadata": {},
   "source": [
    "<!----- boite 🟢🔵 ----->\n",
    "\n",
    "<div class=\"alert alert-warning\" role=\"alert\" style=\"color: rgba(0,0,0,.8); background-color: white; margin-top: 1em; margin-bottom: 1em; margin:1.5625emauto; padding:0 .6rem .8rem!important;overflow:hidden; page-break-inside:avoid; border-radius:.25rem; box-shadow:0 .2rem .5rem rgba(0,0,0,.05),0 0 .05rem rgba(0,0,0,.1); transition:color .25s,background-color .25s,border-color .25s ; border-right: 1px solid #dee2e6 ; border-top: 1px solid #dee2e6 ; border-bottom: 1px solid #dee2e6 ; border-left:.2rem solid #9c9797;\">\n",
    "<h3 class=\"alert-heading\"><i class=\"fa fa-pencil\"></i> Lire les données avec <code>DuckDB</code> (🟢 et 🔵)</h3>\n",
    "\n",
    "\n",
    "<details>\n",
    "<summary>Dérouler pour révéler les instructions</summary>\n",
    "\n",
    "Pour exécuter une requête SQL, on utilise la structure suivante avec `DuckDB`\n",
    "\n",
    "```python\n",
    "data_pandas_from_duckdb = con.sql(REQUETE).df()\n",
    "\n",
    "La requête que nous proposons d’utiliser est à structurer à partir des\n",
    "éléments suivants :\n",
    "\n",
    "-   Pour la clause `SELECT`, la liste des colonnes à utiliser est\n",
    "    pré-formattée dans l’objet `liste_colonnes_sql`\n",
    "-   Pour la clause `FROM`, l’instruction `read_parquet` peut être\n",
    "    utilisée avec l’URL stocké dans `url_data`\n",
    "-   Pour la clause `WHERE`, vous pouvez utiliser la syntaxe suivante\n",
    "    pour normaliser les code-barres des deux côtés en retirant les 0\n",
    "    initiaux:\n",
    "    `CAST(ltrim(code, '0') AS STRING) = CAST(ltrim({ean}) AS STRING)`\n",
    "\n",
    "</details>\n",
    "</div>\n",
    "\n",
    "<!----- end 🟢🔵 ----->"
   ]
  },
  {
   "cell_type": "markdown",
   "id": "e4b4dd87-841f-40a1-ac74-3e30d2ce326b",
   "metadata": {},
   "source": [
    "<!----- boite 🔴 et ⚫ ----->\n",
    "\n",
    "<div class=\"alert alert-warning\" role=\"alert\" style=\"color: rgba(0,0,0,.8); background-color: white; margin-top: 1em; margin-bottom: 1em; margin:1.5625emauto; padding:0 .6rem .8rem!important;overflow:hidden; page-break-inside:avoid; border-radius:.25rem; box-shadow:0 .2rem .5rem rgba(0,0,0,.05),0 0 .05rem rgba(0,0,0,.1); transition:color .25s,background-color .25s,border-color .25s ; border-right: 1px solid #dee2e6 ; border-top: 1px solid #dee2e6 ; border-bottom: 1px solid #dee2e6 ; border-left:.2rem solid #9c9797;\">\n",
    "<h3 class=\"alert-heading\"><i class=\"fa fa-pencil\"></i> Lire les données avec <code>DuckDB</code> (🔴 et ⚫)</h3>\n",
    "\n",
    "\n",
    "<details>\n",
    "<summary>Dérouler pour révéler les instructions</summary>\n",
    "\n",
    "La requête que nous proposons d'utiliser est à structurer à partir des éléments suivants :\n",
    "\n",
    "- Ne garder que les variables présentes dans `liste_colonnes_sql`\n",
    "- Lire les données directement depuis `url_data`\n",
    "- Filtrer les données pour ne garder que celle dans l'OpenFood avec notre code-barre\n",
    "\n",
    "Aide pour la voie 🔴\n",
    "\n",
    "Il faut normaliser les code-barres des deux côtés avant d'essayer\n",
    "de comparer. Cela se fait de la manière suivante: `CAST(ltrim({ean}) AS STRING)`\n",
    "A vous de mettre en oeuvre cela pour faire de la comparaison entre notre EAN et la\n",
    "variable `code`.\n",
    "\n",
    "\n",
    "\n",
    "\n",
    "```{=html}\n",
    "</details>\n",
    "</div>\n",
    "\n",
    "<!----- end 🔴 et ⚫ ----->"
   ]
  },
  {
   "cell_type": "markdown",
   "id": "63556bbf-f389-40f4-8513-3df194c6c682",
   "metadata": {},
   "source": [
    "Voici la solution:"
   ]
  },
  {
   "cell_type": "code",
   "execution_count": 72,
   "id": "4cb6ef3e",
   "metadata": {
    "jupyter": {
     "source_hidden": true
    }
   },
   "outputs": [],
   "source": [
    "# Solution pour voie 🟡\n",
    "def get_product_ean(con, ean, url_data, liste_colonnes_sql):\n",
    "    openfood_produit = con.sql(\n",
    "            f\"SELECT {liste_colonnes_sql} FROM read_parquet('{url_data}') WHERE CAST(ltrim(code, '0') AS STRING) = CAST(ltrim({ean}) AS STRING)\"\n",
    "        ).df()\n",
    "    return openfood_produit"
   ]
  },
  {
   "cell_type": "markdown",
   "id": "c0c7f02a-b5df-491f-9faa-88be8cfaa46b",
   "metadata": {},
   "source": [
    "On va néanmoins intégrer ceci dans un *pipeline* plus général:\n",
    "\n",
    "1.  On cherche le produit à partir du code barre\n",
    "2.  Si les infos sont manquantes, on récupère les produits dont le nom\n",
    "    ressemble par distance de Jaro-Winkler.\n",
    "\n",
    "Voici la fonction qui permet d’implémenter la deuxième partie:"
   ]
  },
  {
   "cell_type": "code",
   "execution_count": 73,
   "id": "466a4db7",
   "metadata": {
    "jupyter": {
     "source_hidden": true
    }
   },
   "outputs": [],
   "source": [
    "# Solution pour voie 🟡\n",
    "\n",
    "import numpy as np\n",
    "import pandas as pd\n",
    "from utils.pipeline import clean_note\n",
    "\n",
    "def fuzzy_matching_product(openfood_produit, product_name, con, url_data, liste_colonnes_sql, indices_synthetiques):\n",
    "    out_textual = con.sql(f\"SELECT {liste_colonnes_sql} from read_parquet('{url_data}') WHERE jaro_winkler_similarity('{product_name}',product_name) > 0.9 AND \\\"energy-kcal_100g\\\" IS NOT NULL\")\n",
    "    out_textual = out_textual.df()\n",
    "\n",
    "    out_textual_imputed = pd.concat(\n",
    "        [\n",
    "            openfood_produit.loc[:, [\"code\", \"product_name\", \"coicop\"]].reset_index(drop = True),\n",
    "            pd.DataFrame(out_textual.loc[:, indices_synthetiques].replace(\"NONE\",\"\").replace('',np.nan).mode(dropna=True))\n",
    "        ], ignore_index=True, axis=1\n",
    "    )\n",
    "    out_textual_imputed.columns = [\"code\", \"product_name\", \"coicop\"] + indices_synthetiques\n",
    "    \n",
    "    return out_textual_imputed"
   ]
  },
  {
   "cell_type": "markdown",
   "id": "7c7e0f8b-07f9-437d-a504-900ee98d9394",
   "metadata": {},
   "source": [
    "Voici finalement le *pipeline* mis en oeuvre par une fonction :"
   ]
  },
  {
   "cell_type": "code",
   "execution_count": 74,
   "id": "f281903a",
   "metadata": {
    "jupyter": {
     "source_hidden": true
    }
   },
   "outputs": [],
   "source": [
    "# Solution pour voie 🟡\n",
    "\n",
    "def find_product_openfood(con, liste_colonnes_sql, url_data, ean):\n",
    "    openfood_produit = con.sql(\n",
    "        f\"SELECT {liste_colonnes_sql} FROM read_parquet('{url_data}') WHERE CAST(ltrim(code, '0') AS STRING) = CAST(ltrim({ean}) AS STRING)\"\n",
    "    ).df()\n",
    "    \n",
    "    product_name = openfood_produit[\"product_name\"].iloc[0]\n",
    "    \n",
    "    if openfood_produit['nutriscore_grade'].isin(['NONE','']).iloc[0]:\n",
    "        openfood_produit = fuzzy_matching_product(\n",
    "            openfood_produit, product_name, con, url_data,\n",
    "            liste_colonnes_sql, indices_synthetiques)\n",
    "        openfood_produit = openfood_produit.merge(coicop, left_on = \"coicop\", right_on = \"Code\")\n",
    "\n",
    "    return openfood_produit"
   ]
  },
  {
   "cell_type": "markdown",
   "id": "2ffb9fb0-bfd6-4dec-903b-befb9b1cd62f",
   "metadata": {},
   "source": [
    "Qui peut être finalisé de la manière suivante:"
   ]
  },
  {
   "cell_type": "code",
   "execution_count": 75,
   "id": "230cbb6b",
   "metadata": {
    "jupyter": {
     "source_hidden": true
    }
   },
   "outputs": [],
   "source": [
    "openfood_produit = find_product_openfood(\n",
    "    con, liste_colonnes_sql,\n",
    "    url_data, ean\n",
    ")\n",
    "openfood_produit.head(2)"
   ]
  },
  {
   "cell_type": "markdown",
   "id": "472c5fe9-f3b8-4985-96b4-858a7ee7b7a3",
   "metadata": {},
   "source": [
    "## Production automatique d’un graphique (🟡,🟢,🔵,🔴,⚫)\n",
    "\n",
    "La dernière partie du prototypage consiste à enrober nos fonctions de\n",
    "production de graphiques dans une fonction plus générique.\n",
    "\n",
    "Pour rappel, l’import des données se fait de la manière suivante:"
   ]
  },
  {
   "cell_type": "code",
   "execution_count": 76,
   "id": "482bbf6c",
   "metadata": {
    "jupyter": {
     "source_hidden": true
    }
   },
   "outputs": [],
   "source": [
    "stats_notes = pd.read_parquet(\n",
    "    \"https://minio.lab.sspcloud.fr/projet-funathon/2023/sujet4/diffusion/stats_notes_pandas.parquet\"\n",
    ")"
   ]
  },
  {
   "cell_type": "markdown",
   "id": "fd4c9c63-f393-4605-a369-589ff922a2bb",
   "metadata": {},
   "source": [
    "Dans notre application, nous allons utiliser cette fonction:"
   ]
  },
  {
   "cell_type": "code",
   "execution_count": 77,
   "id": "a7cc6d1d",
   "metadata": {
    "jupyter": {
     "source_hidden": true
    }
   },
   "outputs": [],
   "source": [
    "from utils.construct_figures import figure_infos_notes\n",
    "\n",
    "variable = 'nutriscore_grade'\n",
    "\n",
    "def plot_product_info(\n",
    "    data, variable,\n",
    "    stats_notes):\n",
    "\n",
    "    fig = figure_infos_notes(\n",
    "        stats_notes,\n",
    "        variable_note = variable,\n",
    "        coicop = data['coicop'].iloc[0],\n",
    "        note_produit = data[variable].iloc[0],\n",
    "        title = variable.split(\"_\")[0].capitalize()\n",
    "    )\n",
    "\n",
    "    return fig"
   ]
  },
  {
   "cell_type": "code",
   "execution_count": 78,
   "id": "41bf32ee",
   "metadata": {
    "jupyter": {
     "source_hidden": true
    }
   },
   "outputs": [],
   "source": [
    "fig = plot_product_info(openfood_produit, variable, stats_notes)\n",
    "fig.update_layout(width=800, height=400)\n",
    "fig"
   ]
  },
  {
   "cell_type": "code",
   "execution_count": 79,
   "id": "1ee1b958",
   "metadata": {
    "jupyter": {
     "source_hidden": true
    }
   },
   "outputs": [],
   "source": [
    "fig = plot_product_info(openfood_produit, \"ecoscore_grade\", stats_notes)\n",
    "fig.update_layout(width=800, height=400)\n",
    "fig"
   ]
  },
  {
   "cell_type": "markdown",
   "id": "16594fd0-390c-43e8-a9b2-b08244c14b66",
   "metadata": {},
   "source": [
    "# 4️⃣ Construire une application interactive\n",
    "\n",
    "Cette partie vise à assembler les briques précédentes afin de les rendre\n",
    "facilement accessibles à un utilisateur final. Pour cela, nous allons\n",
    "construire une application interactive à l’aide du framework `Streamlit`\n",
    "en `Python`.\n",
    "\n",
    "L’objectif est de créer une application sur le modèle de\n",
    "[myyuka.lab.sspcloud.fr/](https://myyuka.lab.sspcloud.fr/). Voici une\n",
    "petite vidéo de démonstration de l’application:"
   ]
  },
  {
   "cell_type": "code",
   "execution_count": 80,
   "id": "016f7fe7",
   "metadata": {
    "jupyter": {
     "source_hidden": true
    }
   },
   "outputs": [
    {
     "data": {
      "text/html": [
       "\n",
       "    <video width=\"520\" height=\"240\" alt=\"test\" controls>\n",
       "        <source src=\"https://minio.lab.sspcloud.fr/projet-funathon/2023/sujet4/diffusion/video_out.webm\" type=\"video/mp4\">\n",
       "    </video>"
      ]
     },
     "metadata": {},
     "output_type": "display_data"
    }
   ],
   "source": [
    "from IPython.display import HTML\n",
    "HTML(\"\"\"\n",
    "    <video width=\"520\" height=\"240\" alt=\"test\" controls>\n",
    "        <source src=\"https://minio.lab.sspcloud.fr/projet-funathon/2023/sujet4/diffusion/video_out.webm\" type=\"video/mp4\">\n",
    "    </video>\n",
    "\"\"\")"
   ]
  },
  {
   "cell_type": "markdown",
   "id": "ccc4bf32-e610-4206-ad6f-e844ebf641da",
   "metadata": {},
   "source": [
    "Selon le parcours suivi, la construction de cette application sera plus\n",
    "ou moins guidée.\n",
    "\n",
    "## 4.1. Lancer l’application pour la tester (🟡,🟢,🔵,🔴,⚫)\n",
    "\n",
    "Il est rare d’avoir une application fonctionnelle du premier coup, cela\n",
    "peut demander beaucoup d’essai-erreur pour parvenir à ses fins. Il est\n",
    "donc utile de régulièrement lancer l’application pour la tester. Cela se\n",
    "fait en lançant un serveur local, c’est-à-dire en créant une tâche qui\n",
    "fonctionne en arrière-plan et qui va créer une interaction entre un\n",
    "navigateur et du code `Python`.\n",
    "\n",
    "Pour lancer ce serveur web local plusieurs méthodes sont possibles sur\n",
    "le `SSP Cloud`, en partant du principe que votre application est stockée\n",
    "dans un fichier `app.py`\n",
    "\n",
    "-   Pour les personnes familières de la ligne de commande, vous pouvez\n",
    "    en lancer une (en cliquant sur `+` dans le menu à gauche de\n",
    "    `Jupyter` et exécuter, dans le bon dossier de travail,\n",
    "    `streamlit run app.py --server.port 5000 --server.address 0.0.0.0`\n",
    "-   Pour les personnes désirant lancer la commande depuis `Jupyter`, il\n",
    "    suffit d’exécuter la cellule suivante:"
   ]
  },
  {
   "cell_type": "code",
   "execution_count": 81,
   "id": "911bbdf5",
   "metadata": {
    "jupyter": {
     "source_hidden": true
    }
   },
   "outputs": [],
   "source": [
    "!streamlit run app.py --server.port 5000 --server.address 0.0.0.0"
   ]
  },
  {
   "attachments": {
    "img/demo_readme_sspcloud.png": {
     "image/png": "[encoded data removed]"
    },
    "img/demo_readme_sspcloud2.png": {
     "image/png": "[encoded data removed]"
    }
   },
   "cell_type": "markdown",
   "id": "823092bd-efa4-4f5d-b7d7-ee5006febdae",
   "metadata": {},
   "source": [
    "Remarque: si vous n’êtes pas sur le `SSP Cloud`, vous pouvez retirer\n",
    "l’option `--server.address 0.0.0.0`.\n",
    "\n",
    "Il reste à accéder au navigateur sur lequel l’application a été\n",
    "déployée. Sur un poste local, vous ouvririez l’URL `localhost:5000` sur\n",
    "votre navigateur. Pour accéder à votre application depuis le SSP Cloud,\n",
    "il va falloir y accéder différemment.\n",
    "\n",
    "1.  Il convient d’ouvrir un nouvel onglet sur votre navigateur web pour\n",
    "    retourner sur votre espace SSPCloud:\n",
    "    [datalab.sspcloud.fr/my-services](https://datalab.sspcloud.fr/my-services).\n",
    "    Si vous êtes sur une autre page, vous pouvez cliquer à gauche sur\n",
    "    `My Services`.\n",
    "2.  Ensuite, il faut cliquer sur le bouton `README` pour accéder à des\n",
    "    informations sur le service `Jupyter` ouvert.\n",
    "\n",
    "![](attachment:img/demo_readme_sspcloud.png)\n",
    "\n",
    "Il faut ensuite cliquer sur le lien ci-dessous:\n",
    "\n",
    "![](attachment:img/demo_readme_sspcloud2.png)\n",
    "\n",
    "Cela va ouvrir un nouvel onglet sur votre navigateur où, cette fois,\n",
    "vous aurez l’application. Chaque action que vous effectuerez sur\n",
    "celle-ci déclenchera une opération dans la  \n",
    "ligne de commande que vous avez lancée.\n",
    "\n",
    "Pour le parcours 🟡, la voie s’arrête à ce niveau. Vous pouvez néanmoins\n",
    "basculer du côté de la voie 🟢 pour apprendre de manière guidée à créer\n",
    "votre application `Streamlit`.\n",
    "\n",
    "Pour les parcours 🟢,🔵,🔴 et ⚫, vous allez pouvoir créer vous-même\n",
    "l’application, de manière plus ou moins guidée.\n",
    "\n",
    "## 4.2. Créer l’application dans un serveur temporaire (🟢,🔵,🔴,⚫)\n",
    "\n",
    "Voici la gradation des niveaux pour créer l’application:\n",
    "\n",
    "-   🟢: Lire et comprendre le contenu du fichier `app.py` qui génère\n",
    "    l’application\n",
    "-   🔵: Après avoir supprimé le fichier d’exemple `app.py`, mettre en\n",
    "    oeuvre l’application avec des consignes guidées\n",
    "-   🔴: Après avoir supprimé le fichier d’exemple `app.py`, mettre en\n",
    "    oeuvre l’application à partir d’un cachier des charges détaillé\n",
    "-   ⚫: Après avoir supprimé le fichier d’exemple `app.py`, mettre en\n",
    "    oeuvre l’application uniquement à partir de l’exemple sur\n",
    "    [myyuka.lab.sspcloud.fr/](https://myyuka.lab.sspcloud.fr/) et de la\n",
    "    vidéo précédemment présentée. Idéalement, faire en sorte que le\n",
    "    contenu du site soit *responsive* c’est-à-dire qu’il soit bien\n",
    "    adapté à la taille de l’écran."
   ]
  },
  {
   "cell_type": "markdown",
   "id": "c333f162-37a6-4b9a-b6c9-72ef26cf02fa",
   "metadata": {},
   "source": [
    "<!----- boite ⚫ ----->\n",
    "\n",
    "<div class=\"alert alert-warning\" role=\"alert\" style=\"color: rgba(0,0,0,.8); background-color: white; margin-top: 1em; margin-bottom: 1em; margin:1.5625emauto; padding:0 .6rem .8rem!important;overflow:hidden; page-break-inside:avoid; border-radius:.25rem; box-shadow:0 .2rem .5rem rgba(0,0,0,.05),0 0 .05rem rgba(0,0,0,.1); transition:color .25s,background-color .25s,border-color .25s ; border-right: 1px solid #dee2e6 ; border-top: 1px solid #dee2e6 ; border-bottom: 1px solid #dee2e6 ; border-left:.2rem solid #9c9797;\">\n",
    "<h3 class=\"alert-heading\"><i class=\"fa fa-pencil\"></i> Créer l'application (⚫)</h3>\n",
    "\n",
    "\n",
    "<details>\n",
    "<summary>Dérouler pour révéler les instructions</summary>\n",
    "\n",
    "Bon courage, force et honneur, tout ça tout ça…\n",
    "\n",
    "</details>\n",
    "</div>\n",
    "\n",
    "<!----- end ⚫ ----->"
   ]
  },
  {
   "cell_type": "markdown",
   "id": "4670a487-ad6d-4b2a-b0f9-b08dc6b0aa6f",
   "metadata": {},
   "source": [
    "<!----- boite 🔴 ----->\n",
    "\n",
    "<div class=\"alert alert-warning\" role=\"alert\" style=\"color: rgba(0,0,0,.8); background-color: white; margin-top: 1em; margin-bottom: 1em; margin:1.5625emauto; padding:0 .6rem .8rem!important;overflow:hidden; page-break-inside:avoid; border-radius:.25rem; box-shadow:0 .2rem .5rem rgba(0,0,0,.05),0 0 .05rem rgba(0,0,0,.1); transition:color .25s,background-color .25s,border-color .25s ; border-right: 1px solid #dee2e6 ; border-top: 1px solid #dee2e6 ; border-bottom: 1px solid #dee2e6 ; border-left:.2rem solid #9c9797;\">\n",
    "<h3 class=\"alert-heading\"><i class=\"fa fa-pencil\"></i> Créer l'application (🔴)</h3>\n",
    "\n",
    "\n",
    "<details>\n",
    "<summary>Dérouler pour révéler les instructions</summary>\n",
    "\n",
    "Pour commencer, voici l’ensemble de l’environnement, que nous vous\n",
    "proposons de prendre comme donné:\n",
    "\n",
    "``` python\n",
    "    import streamlit as st\n",
    "    from streamlit_javascript import st_javascript\n",
    "    \n",
    "    import cv2\n",
    "    import pandas as pd\n",
    "    import duckdb\n",
    "    \n",
    "    from utils.detect_barcode import extract_ean, visualise_barcode\n",
    "    from utils.pipeline import find_product_openfood\n",
    "    from utils.construct_figures import plot_product_info\n",
    "    from utils.utils_app import local_css, label_grade_formatter\n",
    "    from utils.download_pb import import_coicop_labels\n",
    "    \n",
    "    # Une personnalisation sympa pour l'onglet\n",
    "    st.set_page_config(page_title=\"PYuka\", page_icon=\"🍎\")\n",
    "    \n",
    "    \n",
    "    # --------------------\n",
    "    # METADATA\n",
    "    indices_synthetiques = [\n",
    "        \"nutriscore_grade\", \"ecoscore_grade\", \"nova_group\"\n",
    "    ]\n",
    "    principales_infos = [\n",
    "        'product_name', 'code', 'preprocessed_labels', 'coicop', \\\n",
    "        'url', 'image_url'\n",
    "    ]\n",
    "    liste_colonnes = principales_infos + indices_synthetiques\n",
    "    liste_colonnes_sql = [f\"\\\"{s}\\\"\" for s in liste_colonnes]\n",
    "    liste_colonnes_sql = ', '.join(liste_colonnes_sql)\n",
    "    \n",
    "    con = duckdb.connect(database=':memory:')\n",
    "    con.execute(\"\"\"\n",
    "        INSTALL httpfs;\n",
    "        LOAD httpfs;\n",
    "        SET s3_endpoint='minio.lab.sspcloud.fr'\n",
    "    \"\"\")\n",
    "    \n",
    "    # LOAD DATASET\n",
    "    url_data = \"https://projet-funathon.minio.lab.sspcloud.fr/2023/sujet4/diffusion/openfood.parquet\"\n",
    "    stats_notes = pd.read_parquet(\"https://minio.lab.sspcloud.fr/projet-funathon/2023/sujet4/diffusion/stats_notes_pandas.parquet\")\n",
    "    coicop = import_coicop_labels(\n",
    "        \"https://www.insee.fr/fr/statistiques/fichier/2402696/coicop2016_liste_n5.xls\"\n",
    "    )\n",
    "    \n",
    "    # --------------------\n",
    "    \n",
    "    \n",
    "    st.title('Mon Yuka 🥕 avec Python 🐍')\n",
    "    \n",
    "    # Feuille de style & taille de l'écran pour adapter l'interface\n",
    "    local_css(\"style.css\")\n",
    "    width = st_javascript(\n",
    "        \"window.innerWidth\"\n",
    "    )\n",
    "```\n",
    "\n",
    "1.  Si l’écran a une taille suffisante (on propose comme taille\n",
    "    discriminante 500px),la partie gauche de l’écran est consacrée aux\n",
    "    *inputs* (sinon c’est en haut de la page) :\n",
    "    -   Un bouton permet à l’utilisateur de choisir sa méthode\n",
    "        d’*upload* de photo: soit un *file uploader*, soit une capture à\n",
    "        partir de la caméra\n",
    "    -   Si l’écran a une taille suffisante, afficher l’image reconnue\n",
    "    -   Créer une liste modifiable de statistiques à afficher à partir\n",
    "        d’un sélecteur adapté. Pour formatter les champs à afficher,\n",
    "        vous pouvez utiliser la fonction `label_grade_formatter` qui va,\n",
    "        par exemple, transformer `nutriscore_grade` en `Nutriscore`\n",
    "2.  Créer le corps principal de l’application avec les instructions\n",
    "    suivantes:\n",
    "    -   Créer une fonction enrobant `find_product_openfood` pour\n",
    "        récupérer la donnée adaptée à partir d’un EAN. Nommé le\n",
    "        `DataFrame` obtenu `subset`\n",
    "    -   Utiliser `extract_ean` pour décoder l’image. Stocker l’objet en\n",
    "        sortie d’`OpenCV` sous le nom `decoded_objects`\n",
    "    -   A partir de l’objet `subset`: créer un texte qui renvoie vers\n",
    "        l’URL du produit sur `OpenFoodFacts`, afficher l’image du\n",
    "        produit, afficher le `DataFrame` dans l’interface de notre\n",
    "        application\n",
    "    -   Utiliser notre fonction de production de graphique pour afficher\n",
    "        des statistiques descriptives à partir de notre choix d’options.\n",
    "\n",
    "</details>\n",
    "</div>\n",
    "\n",
    "<!----- end 🔴 ----->"
   ]
  },
  {
   "cell_type": "markdown",
   "id": "c01435c3-0276-4afe-935d-47f3c9c0997f",
   "metadata": {},
   "source": [
    "<!----- boite 🔵 ----->\n",
    "\n",
    "<div class=\"alert alert-warning\" role=\"alert\" style=\"color: rgba(0,0,0,.8); background-color: white; margin-top: 1em; margin-bottom: 1em; margin:1.5625emauto; padding:0 .6rem .8rem!important;overflow:hidden; page-break-inside:avoid; border-radius:.25rem; box-shadow:0 .2rem .5rem rgba(0,0,0,.05),0 0 .05rem rgba(0,0,0,.1); transition:color .25s,background-color .25s,border-color .25s ; border-right: 1px solid #dee2e6 ; border-top: 1px solid #dee2e6 ; border-bottom: 1px solid #dee2e6 ; border-left:.2rem solid #9c9797;\">\n",
    "<h3 class=\"alert-heading\"><i class=\"fa fa-pencil\"></i> Créer l'application (🔵)</h3>\n",
    "\n",
    "\n",
    "<details>\n",
    "<summary>Dérouler pour révéler les instructions</summary>\n",
    "\n",
    "Pour commencer, voici l’ensemble de l’environnement, que nous vous\n",
    "proposons de prendre comme donné:\n",
    "\n",
    "``` python\n",
    "    import streamlit as st\n",
    "    from streamlit_javascript import st_javascript\n",
    "    \n",
    "    import cv2\n",
    "    import pandas as pd\n",
    "    import duckdb\n",
    "    \n",
    "    from utils.detect_barcode import extract_ean, visualise_barcode\n",
    "    from utils.pipeline import find_product_openfood\n",
    "    from utils.construct_figures import plot_product_info\n",
    "    from utils.utils_app import local_css, label_grade_formatter\n",
    "    from utils.download_pb import import_coicop_labels\n",
    "    \n",
    "    # Une personnalisation sympa pour l'onglet\n",
    "    st.set_page_config(page_title=\"PYuka\", page_icon=\"🍎\")\n",
    "    \n",
    "    \n",
    "    # --------------------\n",
    "    # METADATA\n",
    "    indices_synthetiques = [\n",
    "        \"nutriscore_grade\", \"ecoscore_grade\", \"nova_group\"\n",
    "    ]\n",
    "    principales_infos = [\n",
    "        'product_name', 'code', 'preprocessed_labels', 'coicop', \\\n",
    "        'url', 'image_url'\n",
    "    ]\n",
    "    liste_colonnes = principales_infos + indices_synthetiques\n",
    "    liste_colonnes_sql = [f\"\\\"{s}\\\"\" for s in liste_colonnes]\n",
    "    liste_colonnes_sql = ', '.join(liste_colonnes_sql)\n",
    "    \n",
    "    con = duckdb.connect(database=':memory:')\n",
    "    con.execute(\"\"\"\n",
    "        INSTALL httpfs;\n",
    "        LOAD httpfs;\n",
    "        SET s3_endpoint='minio.lab.sspcloud.fr'\n",
    "    \"\"\")\n",
    "    \n",
    "    # LOAD DATASET\n",
    "    url_data = \"https://projet-funathon.minio.lab.sspcloud.fr/2023/sujet4/diffusion/openfood.parquet\"\n",
    "    stats_notes = pd.read_parquet(\"https://minio.lab.sspcloud.fr/projet-funathon/2023/sujet4/diffusion/stats_notes_pandas.parquet\")\n",
    "    coicop = import_coicop_labels(\n",
    "        \"https://www.insee.fr/fr/statistiques/fichier/2402696/coicop2016_liste_n5.xls\"\n",
    "    )\n",
    "    \n",
    "    # --------------------\n",
    "    \n",
    "    \n",
    "    st.title('Mon Yuka 🥕 avec Python 🐍')\n",
    "    \n",
    "    # Feuille de style & taille de l'écran pour adapter l'interface\n",
    "    local_css(\"style.css\")\n",
    "    width = st_javascript(\n",
    "        \"window.innerWidth\"\n",
    "    )\n",
    "```\n",
    "\n",
    "<br> Nous proposons ensuite de construire ce fichier par étape\n",
    "\n",
    "Etape 1: Construire la partie *inputs* en suivant le modèle à trou\n",
    "suivant:\n",
    "\n",
    "``` python\n",
    "    if width > 500:\n",
    "        # pour les grands écrans on met une partie à gauche\n",
    "        # qui centralise plusieurs type d'input\n",
    "        with st.sidebar:\n",
    "            # 1. choix de la méthode d'upload\n",
    "            if input_method == 'Photo enregistrée':\n",
    "                # 2. file uploader\n",
    "            else:\n",
    "                # 3. camera uploader\n",
    "            \n",
    "            if input_url is not None:\n",
    "                # visualise l'image s'il y a un input\n",
    "                img = visualise_barcode(input_url)\n",
    "                cv2.imwrite('barcode_opencv.jpg', img)\n",
    "                # 4. afficher l'image\n",
    "    \n",
    "            # 5. choix des statistiques à afficher\n",
    "    else:\n",
    "        # pour les petits écrans (type smartphone)\n",
    "        # le file uploader est au début\n",
    "        # 1. choix de la méthode d'upload\n",
    "        if input_method == 'Photo enregistrée':\n",
    "            # 2. file uploader\n",
    "        else:\n",
    "            # 3. camera uploader\n",
    "            picture = st.camera_input(\"Take a picture\")\n",
    "            input_url = picture\n",
    "            # 5. choix des statistiques à afficher\n",
    "```\n",
    "\n",
    "<br>\n",
    "\n",
    "Celui-ci est à remplir de la manière suivante:\n",
    "\n",
    "1.  Créer un bouton qui permet à l’utilisateur de choisir sa méthode\n",
    "    d’*upload* de photo. Celui-ci est à enregistrer sous le nom\n",
    "    `input_method`\n",
    "2.  Proposer un *file uploader* dont la valeur peut être utilisée sous\n",
    "    le nom `input_url`\n",
    "3.  Proposer un outil de capture de caméra dont la valeur peut être\n",
    "    utilisée sous le nom `input_url`\n",
    "4.  Si l’écran a une taille suffisante (on propose comme taille\n",
    "    discriminante 500px), afficher l’image stockée dans le fichier\n",
    "    temporaire `barcode_opencv.jpg`\n",
    "5.  Créer une liste modifiable de statistiques à afficher à partir d’un\n",
    "    sélecteur adapté. Pour formatter les champs à afficher, vous pouvez\n",
    "    utiliser la fonction `label_grade_formatter` qui va, par exemple,\n",
    "    transformer `nutriscore_grade` en `Nutriscore`\n",
    "\n",
    "Etape 2: Construire la partie s’adaptant à ces *inputs* avec le modèle\n",
    "suivant à trou suivant:\n",
    "\n",
    "``` python\n",
    "    # ----------------------------------------------------------\n",
    "    # PARTIE 2: EXPLOITATION DES INPUTS DANS NOTRE APP\n",
    "    \n",
    "    \n",
    "    # CHARGEMENT DE LA LIGNE DANS OPENFOODFACTS\n",
    "    @st.cache_data\n",
    "    def load_data(ean):\n",
    "        # 1. Créer le DataFrame avec la fonction `find_product_openfood` \n",
    "        # openfood_data = \n",
    "        return openfood_data\n",
    "    \n",
    "    if input_url is None:\n",
    "        # Showcase product\n",
    "        st.write('Produit exemple: Coca-Cola')\n",
    "        subset = load_data(\"5000112602791\")\n",
    "        decoded_objects = extract_ean(subset[\"image_url\"].iloc[0])\n",
    "    else:\n",
    "        # 2. utiliser `extract_ean` pour décoder l'image\n",
    "        # decoded_objects\n",
    "        \n",
    "    try:\n",
    "        # 3. Récupérer l'EAN\n",
    "        ean = decoded_objects[0].data.decode(\"utf-8\")\n",
    "        st.markdown(f'🎉 __EAN détecté__: <span style=\"color:Red\">{ean}</span>', unsafe_allow_html=True)\n",
    "        subset = load_data(ean)\n",
    "        # 3. Mettre un lien avec l'URL du produit sur openfoodfacts\n",
    "        # 4. Afficher l'image du produit\n",
    "        # 5. Afficher le DataFrame\n",
    "        # put some statistics\n",
    "        t = f\"<div>Statistiques parmi les <span class='highlight blue'>{subset['category'].iloc[0]}<span class='bold'>COICOP</span>\"                \n",
    "        st.markdown(t, unsafe_allow_html=True)\n",
    "        # 6. Afficher les figures plotly\n",
    "    except:\n",
    "        # we don't manage to get EAN\n",
    "        st.write('🚨 Problème de lecture de la photo, essayez de mieux cibler le code-barre')\n",
    "        st.image(\"https://i.kym-cdn.com/entries/icons/original/000/025/458/grandma.jpg\")\n",
    "```\n",
    "\n",
    "Voici des indications pour compléter ces trous:\n",
    "\n",
    "1.  Créer une fonction enrobant `find_product_openfood` pour récupérer\n",
    "    la donnée adaptée à partir d’un EAN\n",
    "2.  Utiliser `extract_ean` pour décoder l’image. Stocker l’objet en\n",
    "    sortie d’`OpenCV` sous le nom `decoded_objects`\n",
    "3.  A partir de l’objet `subset`, créer un texte qui renvoie vers l’URL\n",
    "    du produit sur `OpenFoodFacts`\n",
    "4.  Afficher l’image du produit, l’URL étant la variable adéquate de\n",
    "    `subset`\n",
    "5.  Afficher le `DataFrame` dans l’interface de notre application\n",
    "6.  Utiliser notre fonction de production de graphique pour afficher des\n",
    "    statistiques descriptives à partir de notre choix d’options.\n",
    "\n",
    "</details>\n",
    "</div>\n",
    "\n",
    "<!----- end 🔵 ----->"
   ]
  },
  {
   "cell_type": "markdown",
   "id": "4cc888f2-d6ec-40ae-b7de-5e06d4a03f45",
   "metadata": {},
   "source": [
    "Voici une proposition d’application, afin de reproduire en local le\n",
    "contenu de [myyuka.lab.sspcloud.fr/](https://myyuka.lab.sspcloud.fr/)."
   ]
  },
  {
   "cell_type": "code",
   "execution_count": 85,
   "id": "ec15a47c",
   "metadata": {
    "jupyter": {
     "source_hidden": true
    }
   },
   "outputs": [
    {
     "name": "stdout",
     "output_type": "stream",
     "text": [
      "import streamlit as st\n",
      "from streamlit_javascript import st_javascript\n",
      "\n",
      "import cv2\n",
      "import pandas as pd\n",
      "import duckdb\n",
      "\n",
      "from utils.detect_barcode import extract_ean, visualise_barcode\n",
      "from utils.pipeline import find_product_openfood\n",
      "from utils.construct_figures import plot_product_info\n",
      "from utils.utils_app import local_css, label_grade_formatter\n",
      "from utils.download_pb import import_coicop_labels\n",
      "\n",
      "# Une personnalisation sympa pour l'onglet\n",
      "st.set_page_config(page_title=\"PYuka\", page_icon=\"🍎\")\n",
      "\n",
      "\n",
      "# --------------------\n",
      "# METADATA\n",
      "indices_synthetiques = [\n",
      "    \"nutriscore_grade\", \"ecoscore_grade\", \"nova_group\"\n",
      "]\n",
      "principales_infos = [\n",
      "    'product_name', 'code', 'preprocessed_labels', 'coicop', \\\n",
      "    'url', 'image_url'\n",
      "]\n",
      "liste_colonnes = principales_infos + indices_synthetiques\n",
      "liste_colonnes_sql = [f\"\\\"{s}\\\"\" for s in liste_colonnes]\n",
      "liste_colonnes_sql = ', '.join(liste_colonnes_sql)\n",
      "\n",
      "con = duckdb.connect(database=':memory:')\n",
      "con.execute(\"\"\"\n",
      "    INSTALL httpfs;\n",
      "    LOAD httpfs;\n",
      "    SET s3_endpoint='minio.lab.sspcloud.fr'\n",
      "\"\"\")\n",
      "\n",
      "# LOAD DATASET\n",
      "url_data = \"https://projet-funathon.minio.lab.sspcloud.fr/2023/sujet4/diffusion/openfood.parquet\"\n",
      "stats_notes = pd.read_parquet(\"https://minio.lab.sspcloud.fr/projet-funathon/2023/sujet4/diffusion/stats_notes_pandas.parquet\")\n",
      "coicop = import_coicop_labels(\n",
      "    \"https://www.insee.fr/fr/statistiques/fichier/2402696/coicop2016_liste_n5.xls\"\n",
      ")\n",
      "\n",
      "# --------------------\n",
      "\n",
      "\n",
      "st.title('Mon Yuka 🥕 avec Python 🐍')\n",
      "\n",
      "# Feuille de style & taille de l'écran pour adapter l'interface\n",
      "local_css(\"style.css\")\n",
      "width = st_javascript(\n",
      "    \"window.innerWidth\"\n",
      ")\n",
      "\n",
      "# --------------------------------\n",
      "# PARTIE 1: LES INPUTS\n",
      "\n",
      "if width > 500:\n",
      "    # pour les grands écrans on met une partie à gauche\n",
      "    # qui centralise plusieurs type d'input\n",
      "    with st.sidebar:\n",
      "        # choix de la méthode d'upload\n",
      "        input_method = st.radio(\n",
      "                \"Méthode d'upload de la photo\",\n",
      "                ('Photo enregistrée', 'Capture de la webcam'))\n",
      "        if input_method == 'Photo enregistrée':\n",
      "            # file uploader\n",
      "            input_url = st.file_uploader(\"Uploaded une photo:\", accept_multiple_files=False)\n",
      "        else:\n",
      "            # camera uploader\n",
      "            picture = st.camera_input(\"Take a picture\")\n",
      "            input_url = picture\n",
      "        \n",
      "        if input_url is not None:\n",
      "            # visualise l'image s'il y a un input\n",
      "            img = visualise_barcode(input_url)\n",
      "            cv2.imwrite('barcode_opencv.jpg', img)\n",
      "            st.image('barcode_opencv.jpg')\n",
      "\n",
      "        # choix des statistiques à afficher\n",
      "        options = st.multiselect(\n",
      "                'Quelles statistiques afficher ?',\n",
      "                [\"nutriscore_grade\", \"nova_group\", \"ecoscore_grade\"],\n",
      "                [\"nutriscore_grade\", \"nova_group\", \"ecoscore_grade\"],\n",
      "                format_func=label_grade_formatter)\n",
      "else:\n",
      "    # pour les petits écrans (type smartphone)\n",
      "    # le file uploader est au début\n",
      "    input_method = st.radio(\n",
      "                    \"Méthode d'upload de la photo\",\n",
      "                    ('Photo enregistrée', 'Capture de la webcam'))\n",
      "    if input_method == 'Photo enregistrée':\n",
      "        # file uploader\n",
      "        input_url = st.file_uploader(\"Uploaded une photo:\", accept_multiple_files=False)\n",
      "    else:\n",
      "        # camera uploader\n",
      "        picture = st.camera_input(\"Take a picture\")\n",
      "        input_url = picture\n",
      "    # choix des statistiques à afficher\n",
      "    options = st.multiselect(\n",
      "                    'Quelles statistiques afficher ?',\n",
      "                    [\"nutriscore_grade\", \"nova_group\", \"ecoscore_grade\"],\n",
      "                    [\"nutriscore_grade\", \"nova_group\", \"ecoscore_grade\"],\n",
      "                    format_func=label_grade_formatter)\n",
      "\n",
      "\n",
      "# ----------------------------------------------------------\n",
      "# PARTIE 2: EXPLOITATION DES INPUTS DANS NOTRE APP\n",
      "\n",
      "\n",
      "\n",
      "# CHARGEMENT DE LA LIGNE DANS OPENFOODFACTS\n",
      "@st.cache_data\n",
      "def load_data(ean):\n",
      "    openfood_data = find_product_openfood(con, liste_colonnes_sql, url_data, ean, coicop)\n",
      "    return openfood_data\n",
      "\n",
      "if input_url is None:\n",
      "    # Showcase product\n",
      "    st.write('Produit exemple: Coca-Cola')\n",
      "    subset = load_data(\"5000112602791\")\n",
      "    decoded_objects = extract_ean(subset[\"image_url\"].iloc[0])\n",
      "else:\n",
      "    # decode image\n",
      "    decoded_objects = extract_ean(input_url)\n",
      "    \n",
      "try:\n",
      "    # we manage to read EAN\n",
      "    ean = decoded_objects[0].data.decode(\"utf-8\")\n",
      "    st.markdown(f'🎉 __EAN détecté__: <span style=\"color:Red\">{ean}</span>', unsafe_allow_html=True)\n",
      "    subset = load_data(ean)\n",
      "    # visualise product\n",
      "    st.markdown(f'Consulter ce produit sur le [site `Openfoodfacts`]({subset[\"url\"].iloc[0]})')\n",
      "    st.image(subset[\"image_url\"].iloc[0])                \n",
      "    st.dataframe(subset.loc[:, ~subset.columns.str.contains(\"url\")])\n",
      "    # put some statistics\n",
      "    t = f\"<div>Statistiques parmi les <span class='highlight blue'>{subset['category'].iloc[0]}<span class='bold'>COICOP</span>\"                \n",
      "    st.markdown(t, unsafe_allow_html=True)\n",
      "    # images\n",
      "    for var in options:\n",
      "        fig = plot_product_info(subset, var, stats_notes)\n",
      "        st.plotly_chart(fig, height=800, use_container_width=True)\n",
      "except:\n",
      "    # we don't\n",
      "    st.write('🚨 Problème de lecture de la photo, essayez de mieux cibler le code-barre')\n",
      "    st.image(\"https://i.kym-cdn.com/entries/icons/original/000/025/458/grandma.jpg\")\n",
      "\n"
     ]
    }
   ],
   "source": [
    "# Solution pour la voie 🟢\n",
    "with open('app.py', 'r') as file:\n",
    "    app_content = file.read()\n",
    "\n",
    "print(\n",
    "    app_content\n",
    ")"
   ]
  },
  {
   "cell_type": "markdown",
   "id": "cd04847e-0756-4681-aa80-b2d00658ca70",
   "metadata": {},
   "source": [
    "## 4.3. En marche vers la mise en production (🟢,🔵,🔴,⚫)\n",
    "\n",
    "Pour le parcours 🟢, la voie s’arrête à ce niveau. Vous pouvez néanmoins\n",
    "basculer du côté de la voie 🔵 pour apprendre de manière guidée à mettre\n",
    "en production votre travail en déployant automatiquement une\n",
    "application.\n",
    "\n",
    "Pour les parcours 🔵,🔴 et ⚫, vous allez pouvoir déployer vous-même\n",
    "l’application, de manière plus ou moins guidée.\n",
    "\n",
    "# 5️⃣ Déploiement de l’application interactive\n",
    "\n",
    "## 5.1. Préliminaires (🔵,🔴,⚫)\n",
    "\n",
    "L’application construite dans la partie précédente reste pour le moment\n",
    "à un niveau local: elle n’est accessible que via l’utilisateur qui l’a\n",
    "déployée et ce sur la machine où elle a été déployée. L’objectif de\n",
    "cette dernière partie est de **déployer** l’application, c’est à dire de\n",
    "la rendre accessible en continu à n’importe quel utilisateur. Pour cela,\n",
    "on va devoir s’intéresser à la technologie des **conteneurs**, qui est à\n",
    "la base des infrastructures de production modernes.\n",
    "\n",
    "Le fait de lancer ce notebook via un simple [lien de\n",
    "lancement](LIEN%20A%20METTRE) nous a permis de commencer à travailler\n",
    "directement, sans trop nous soucier de l’environnement de développement\n",
    "dans lequel on se trouvait.\n",
    "\n",
    "Mais dès lors que l’on souhaite passer de son environnement de\n",
    "développement à un environnement de production, il est nécessaire de se\n",
    "poser un ensemble de questions pour s’assurer que le projet fonctionne\n",
    "ailleurs que sur sa machine personnelle :\n",
    "\n",
    "-   quelle est la version de `Python` à installer pour que le projet\n",
    "    fonctionne ?\n",
    "-   quels sont les packages `Python` utilisés par le projet et quelles\n",
    "    sont leurs versions ?\n",
    "-   quelles sont les éventuelles librairies systèmes, i.e. dépendantes\n",
    "    du système d’exploitation installé, nécessaires pour que les\n",
    "    packages `Python` s’installent correctement ?\n",
    "\n",
    "La technologie standard pour assurer la **portabilité** d’un projet,\n",
    "c’est à dire de fonctionner sur différents environnements informatiques,\n",
    "est celle des **conteneurs**. Schématiquement, il s’agit de boîtes\n",
    "virtuelles qui contiennent l’ensemble de l’environnement (librairies\n",
    "systèmes, interpréteur `Python`, code applicatif, configuration…)\n",
    "permettant de faire tourner l’application, tout en restant légères et\n",
    "donc faciles à redistribuer. En fait, chaque service lancé sur le\n",
    "`SSP Cloud` est un conteneur, et ce notebook tourne donc lui-même… dans\n",
    "un conteneur !\n",
    "\n",
    "L’enjeu de cette partie est donc de dévoiler pas à pas la boîte noire\n",
    "afin de comprendre dans quel environnement on se trouve, et comment\n",
    "celui-ci va nous permettre de déployer notre application.\n",
    "\n",
    "## 5.2. Conteneurisation de l’application (🔵,🔴,⚫)"
   ]
  },
  {
   "cell_type": "markdown",
   "id": "a72ede34-e694-47df-8d02-cf9452288c00",
   "metadata": {},
   "source": [
    "<!----- boite 🔵 ----->\n",
    "\n",
    "<div class=\"alert alert-warning\" role=\"alert\" style=\"color: rgba(0,0,0,.8); background-color: white; margin-top: 1em; margin-bottom: 1em; margin:1.5625emauto; padding:0 .6rem .8rem!important;overflow:hidden; page-break-inside:avoid; border-radius:.25rem; box-shadow:0 .2rem .5rem rgba(0,0,0,.05),0 0 .05rem rgba(0,0,0,.1); transition:color .25s,background-color .25s,border-color .25s ; border-right: 1px solid #dee2e6 ; border-top: 1px solid #dee2e6 ; border-bottom: 1px solid #dee2e6 ; border-left:.2rem solid #1976d2;\">\n",
    "<h3 class=\"alert-heading\"><i class=\"fa fa-pencil\"></i> Comprendre la création de l'image `Docker` de l'application (🔵)</h3>\n",
    "\n",
    "\n",
    "<details>\n",
    "<summary>Dérouler pour révéler les instructions</summary>\n",
    "\n",
    "Le projet contient à la racine un fichier `Dockerfile`. Il s’agit de la\n",
    "“recette” de construction de l’image `Docker` de l’application, i.e. qui\n",
    "spécifie l’environnement nécessaire à son bon fonctionnement.\n",
    "\n",
    "En vous inspirant de la [documentation\n",
    "Streamlit](https://docs.streamlit.io/knowledge-base/tutorials/deploy/docker#create-a-dockerfile)\n",
    "(en Anglais) ou bien de cette [page de\n",
    "cours](https://ensae-reproductibilite.github.io/website/chapters/portability.html#dockerfile),\n",
    "essayez de comprendre pas à pas les étapes de construction de l’image\n",
    "`Docker` de l’application.\n",
    "\n",
    "</details>\n",
    "</div>\n",
    "\n",
    "<!----- end 🔵 ----->"
   ]
  },
  {
   "cell_type": "markdown",
   "id": "f04fa9f2-abe2-4fef-9358-ec4e8bdda2b2",
   "metadata": {},
   "source": [
    "<!----- boite 🔴, ⚫ ----->\n",
    "\n",
    "<div class=\"alert alert-warning\" role=\"alert\" style=\"color: rgba(0,0,0,.8); background-color: white; margin-top: 1em; margin-bottom: 1em; margin:1.5625emauto; padding:0 .6rem .8rem!important;overflow:hidden; page-break-inside:avoid; border-radius:.25rem; box-shadow:0 .2rem .5rem rgba(0,0,0,.05),0 0 .05rem rgba(0,0,0,.1); transition:color .25s,background-color .25s,border-color .25s ; border-right: 1px solid #dee2e6 ; border-top: 1px solid #dee2e6 ; border-bottom: 1px solid #dee2e6 ; border-left:.2rem solid #9c9797;\">\n",
    "<h3 class=\"alert-heading\"><i class=\"fa fa-pencil\"></i> Créer le `Dockerfile` de l'application (🔴, ⚫)</h3>\n",
    "\n",
    "\n",
    "<details>\n",
    "<summary>Dérouler pour révéler les instructions</summary>\n",
    "\n",
    "Une image `Docker` est construite à partir d’un fichier spécifique\n",
    "généralement placé à la racine du projet, le `Dockerfile`. Sans regarder\n",
    "le `Dockerfile` existant dans le projet, et en vous inspirant de la\n",
    "[documentation\n",
    "Streamlit](https://docs.streamlit.io/knowledge-base/tutorials/deploy/docker#create-a-dockerfile)\n",
    "(en Anglais), essayez de construire le `Dockerfile` pertinent pour\n",
    "l’application, puis comparez votre solution à l’existant.\n",
    "\n",
    "Quelques consignes supplémentaires :\n",
    "\n",
    "-   on utilisera comme image de base\n",
    "    `inseefrlab/onyxia-jupyter-python:py3.10.9`\n",
    "-   on se mettra en utilisateur *root* via l’[instruction\n",
    "    USER](https://docs.docker.com/engine/reference/builder/#user)\n",
    "-   on aura besoin d’installer les librairies système suivantes via\n",
    "    `apt-get` : `ffmpeg, libsm6, libxext6, libzbar0`\n",
    "-   on copiera tous les fichiers du projet local sur l’image `Docker` à\n",
    "    l’aide de l’[instruction\n",
    "    COPY](https://docs.docker.com/engine/reference/builder/#copy)\n",
    "-   on fera tourner l’application sur le port `8000` du conteneur (qu’il\n",
    "    faudra donc prendre soin d’exposer)\n",
    "-   on ne fera pas de `HEALTHCHECK`\n",
    "\n",
    "</details>\n",
    "</div>\n",
    "\n",
    "<!----- end 🔴, ⚫ ----->"
   ]
  },
  {
   "cell_type": "markdown",
   "id": "4cd19d7e-5a81-4825-bbd4-2925ffd6900e",
   "metadata": {},
   "source": [
    "<!----- boite ⚫ ----->\n",
    "\n",
    "<div class=\"alert alert-warning\" role=\"alert\" style=\"color: rgba(0,0,0,.8); background-color: white; margin-top: 1em; margin-bottom: 1em; margin:1.5625emauto; padding:0 .6rem .8rem!important;overflow:hidden; page-break-inside:avoid; border-radius:.25rem; box-shadow:0 .2rem .5rem rgba(0,0,0,.05),0 0 .05rem rgba(0,0,0,.1); transition:color .25s,background-color .25s,border-color .25s ; border-right: 1px solid #dee2e6 ; border-top: 1px solid #dee2e6 ; border-bottom: 1px solid #dee2e6 ; border-left:.2rem solid #424242;\">\n",
    "<h3 class=\"alert-heading\"><i class=\"fa fa-pencil\"></i> Construire l'image `Docker` de l'application par intégration continue (⚫)</h3>\n",
    "\n",
    "\n",
    "<details>\n",
    "<summary>Dérouler pour révéler les instructions</summary>\n",
    "\n",
    "Une fois le `Dockerfile` construit (du moins sa première version), on va\n",
    "l’utiliser pour construire une image `Docker` (la “boîte” virtuelle) et\n",
    "mettre celle-ci sur un registre (répertoire d’images) afin que celle-ci\n",
    "puisse être réutilisée dans un autre environnement que celui où on l’a\n",
    "développée.\n",
    "\n",
    "On pourrait faire cela “à la main” en ligne de commandes\n",
    "(cf. [documentation\n",
    "Docker](https://docs.docker.com/get-started/02_our_app/)), mais on va\n",
    "plutôt automatiser le processus en passant par un *pipeline* (série\n",
    "d’étapes) d’intégration continue.\n",
    "\n",
    "Ainsi, à chaque mise à jour du code source de l’application (nouvelles\n",
    "fonctionnalités, correction de bugs, etc.), notre image sera\n",
    "automatiquement mise à jour.\n",
    "\n",
    "Les étapes à suivre sont les suivantes :\n",
    "\n",
    "-   si nécessaire, créer un compte personnel sur\n",
    "    [GitHub](https://github.com) et sur le\n",
    "    [DockerHub](https://hub.docker.com/) (registre d’images open-source)\n",
    "-   bien s’assurer que le `Dockerfile` obtenu à l’étape précédente est\n",
    "    identique à celui existant dans le projet\n",
    "-   [forker](https://docs.github.com/fr/get-started/quickstart/fork-a-repo)\n",
    "    le [dépôt du\n",
    "    projet](https://github.com/InseeFrLab/funathon2023_sujet4) afin de\n",
    "    l’avoir dans votre espace personnel sur `GitHub`\n",
    "-   [cloner](https://docs.github.com/fr/repositories/creating-and-managing-repositories/cloning-a-repository)\n",
    "    le dépôt forké (i.e. de la forme\n",
    "    `votre_nom_utilisateur_gh/funathon2023_sujet4`) via un terminal\n",
    "-   créer un nouveau dépôt public sur le `DockerHub`\n",
    "-   créer les secrets `DOCKERHUB_USERNAME` et `DOCKERHUB_TOKEN`\n",
    "    (cf. [documentation\n",
    "    Docker](https://docs.docker.com/build/ci/github-actions/#step-one-create-the-repository)),\n",
    "    nécessaires pour que le CI `GitHub` puisse pousser une image sur le\n",
    "    `DockerHub`\n",
    "-   ajuster le fichier d’intégration continue\n",
    "    (`.github/workflows/docker.yaml`) pour que le dépôt sur lequel est\n",
    "    envoyé l’image ne soit plus `inseefrlab/funathon2023_sujet4` mais\n",
    "    `votre_nom_utilisateur_dh/funathon2023_sujet4`\n",
    "-   *commit*/*push* les changements sur `GitHub`\n",
    "-   si tout s’est bien passé, une action devrait se lancer (cf. onglet\n",
    "    `Actions` du dépôt) afin de construire l’image et de l’envoyer sur\n",
    "    le `DockerHub`\n",
    "-   si l’action s’est bien déroulée (flèche verte), aller vérifier que\n",
    "    l’image est bien disponible dans votre espace sur le `DockerHub`\n",
    "\n",
    "</details>\n",
    "</div>\n",
    "\n",
    "<!----- end ⚫ ----->"
   ]
  },
  {
   "cell_type": "markdown",
   "id": "d6efa3f6-8bff-4031-9754-5881a20e073f",
   "metadata": {},
   "source": [
    "## 5.3. Déploiement sur le `SSP Cloud`\n",
    "\n",
    "Maintenant que l’image de notre application est disponible sur le\n",
    "`DockerHub`, elle peut à présent être récupérée (*pull*) et déployée sur\n",
    "n’importe quel environnement. Dans notre cas, on va la déployer sur un\n",
    "cluster `Kubernetes`, l’infrastructure sous-jacente du `SSP Cloud`. Le\n",
    "fonctionnement de `Kubernetes` est assez technique, mais l’on pourra\n",
    "s’abstraire de certaines parties selon le niveau de difficulté choisi."
   ]
  },
  {
   "cell_type": "markdown",
   "id": "61cb24a0-01cc-4445-84f6-6988a2a99716",
   "metadata": {},
   "source": [
    "<!----- boite 🔴,⚫ ----->\n",
    "\n",
    "<div class=\"alert alert-warning\" role=\"alert\" style=\"color: rgba(0,0,0,.8); background-color: white; margin-top: 1em; margin-bottom: 1em; margin:1.5625emauto; padding:0 .6rem .8rem!important;overflow:hidden; page-break-inside:avoid; border-radius:.25rem; box-shadow:0 .2rem .5rem rgba(0,0,0,.05),0 0 .05rem rgba(0,0,0,.1); transition:color .25s,background-color .25s,border-color .25s ; border-right: 1px solid #dee2e6 ; border-top: 1px solid #dee2e6 ; border-bottom: 1px solid #dee2e6 ; border-left:.2rem solid #9c9797;\">\n",
    "<h3 class=\"alert-heading\"><i class=\"fa fa-pencil\"></i> Déploiement de l'application à partir du `DockerHub` `InseeFrLab` (🔴,⚫)</h3>\n",
    "\n",
    "\n",
    "<details>\n",
    "<summary>Dérouler pour révéler les instructions</summary>\n",
    "\n",
    "En amont de ce projet, nous avons construit une image `Docker`\n",
    "fonctionnelle de l’application, disponible sur le `DockerHub` dans\n",
    "l’espace\n",
    "[inseefrlab](https://hub.docker.com/repository/docker/inseefrlab/funathon2023_sujet4).\n",
    "Nous avons également créés dans le répertoire `deployment/` à la racine\n",
    "du projet les trois fichiers standards nécessaires au déploiement d’une\n",
    "application sur `Kubernetes`.\n",
    "\n",
    "Afin de déployer l’application, suivre les instructions suivantes :\n",
    "\n",
    "-   inspecter les fichiers `deployment.yml`, `service.yml` et\n",
    "    `ingress.yml` et repérer les éléments suivants :\n",
    "    -   où est spécifiée l’image que l’on va déployer. Pour la\n",
    "        difficulté ⚫: remplacer l’image actuelle par celle que vous\n",
    "        avez construite et envoyée sur le `DockerHub` dans la partie\n",
    "        précédente\n",
    "    -   où sont spécifiées les ressources computationnelles que l’on va\n",
    "        allouer à l’application\n",
    "    -   où est défini le port que l’on a exposé dans le `Dockerfile`.\n",
    "        Pour la difficulté ⚫: si vous n’avez pas exposé l’application\n",
    "        sur le port `8000`, modifier cette ligne\n",
    "    -   où est défini le port sur lequel on va exposer l’application sur\n",
    "        le cluster `Kubernetes`\n",
    "    -   où est définie l’URL à laquelle on va exposer l’application pour\n",
    "        que les utilisateurs puissent s’y connecter. La modifier (à 2\n",
    "        reprises) pour y indiquer une adresse personalisée pour votre\n",
    "        déploiement. Seule contrainte : elle doit être de la forme :\n",
    "        `*.lab.sspcloud.fr`\n",
    "-   ouvrir un terminal dans le service `Jupyter`\n",
    "-   se placer dans le projet du funathon : `cd funathon2023_sujet4`\n",
    "-   appliquer les contrats de déploiement :\n",
    "    `kubernetes apply -f deployment/`\n",
    "-   vérifier le lancement du conteneur : `watch kubernetes get pods`. Le\n",
    "    nom associé devrait être de la forme\n",
    "    `funathon2023-sujet4-****-*****`\n",
    "-   une fois que le conteneur est indiqué comme `Running`, entrer dans\n",
    "    un navigateur l’URL que vous avez spécifié dans le fichier\n",
    "    `ingress.yml`, et vérifier que l’application fonctionne correctement\n",
    "\n",
    "</details>\n",
    "</div>\n",
    "\n",
    "<!----- end 🔴,⚫ ----->"
   ]
  },
  {
   "cell_type": "markdown",
   "id": "860b0025-a077-4cd4-92f1-eddd43502344",
   "metadata": {},
   "source": [
    "Votre application est maintenant déployée, vous pouvez partager cette\n",
    "URL avec n’importe quel utilisateur dans le monde !\n",
    "\n",
    "## Bonus: le parcours 🟣\n",
    "\n",
    "Un dernier *challenge* pour les amateurs de sensations fortes : créer la\n",
    "même application sur un site *web* statique grâce au *web assembly* (par\n",
    "exemple grâce à `Observable` et `Quarto`) !\n",
    "\n",
    "Pour avoir un site web statique, l’identification du code-barre devra\n",
    "être faite en dehors de l’application, par exemple par le moyen d’une\n",
    "API"
   ]
  }
 ],
 "metadata": {
  "kernelspec": {
   "display_name": "Python 3 (ipykernel)",
   "language": "python",
   "name": "python3"
  },
  "language_info": {
   "codemirror_mode": {
    "name": "ipython",
    "version": 3
   },
   "file_extension": ".py",
   "mimetype": "text/x-python",
   "name": "python",
   "nbconvert_exporter": "python",
   "pygments_lexer": "ipython3",
   "version": "3.10.9"
  }
 },
 "nbformat": 4,
 "nbformat_minor": 5
}
